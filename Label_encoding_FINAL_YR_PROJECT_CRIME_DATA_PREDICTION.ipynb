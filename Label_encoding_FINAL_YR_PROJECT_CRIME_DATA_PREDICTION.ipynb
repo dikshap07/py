{
  "nbformat": 4,
  "nbformat_minor": 0,
  "metadata": {
    "colab": {
      "name": "Label encoding FINAL YR PROJECT - CRIME DATA PREDICTION.ipynb",
      "provenance": [],
      "collapsed_sections": [],
      "machine_shape": "hm",
      "include_colab_link": true
    },
    "kernelspec": {
      "name": "python3",
      "display_name": "Python 3"
    },
    "accelerator": "GPU"
  },
  "cells": [
    {
      "cell_type": "markdown",
      "metadata": {
        "id": "view-in-github",
        "colab_type": "text"
      },
      "source": [
        "<a href=\"https://colab.research.google.com/github/dikshap07/py/blob/master/Label_encoding_FINAL_YR_PROJECT_CRIME_DATA_PREDICTION.ipynb\" target=\"_parent\"><img src=\"https://colab.research.google.com/assets/colab-badge.svg\" alt=\"Open In Colab\"/></a>"
      ]
    },
    {
      "cell_type": "markdown",
      "metadata": {
        "id": "xzgpoYD9C-aR",
        "colab_type": "text"
      },
      "source": [
        "#### Upload Data from Drive"
      ]
    },
    {
      "cell_type": "code",
      "metadata": {
        "id": "nubUAju9Smx9",
        "colab_type": "code",
        "outputId": "d60df5e9-4841-4315-eb78-291b5697f69a",
        "colab": {
          "base_uri": "https://localhost:8080/",
          "height": 126
        }
      },
      "source": [
        "from google.colab import drive\n",
        "drive.mount('/content/drive')"
      ],
      "execution_count": 0,
      "outputs": [
        {
          "output_type": "stream",
          "text": [
            "Go to this URL in a browser: https://accounts.google.com/o/oauth2/auth?client_id=947318989803-6bn6qk8qdgf4n4g3pfee6491hc0brc4i.apps.googleusercontent.com&redirect_uri=urn%3aietf%3awg%3aoauth%3a2.0%3aoob&response_type=code&scope=email%20https%3a%2f%2fwww.googleapis.com%2fauth%2fdocs.test%20https%3a%2f%2fwww.googleapis.com%2fauth%2fdrive%20https%3a%2f%2fwww.googleapis.com%2fauth%2fdrive.photos.readonly%20https%3a%2f%2fwww.googleapis.com%2fauth%2fpeopleapi.readonly\n",
            "\n",
            "Enter your authorization code:\n",
            "··········\n",
            "Mounted at /content/drive\n"
          ],
          "name": "stdout"
        }
      ]
    },
    {
      "cell_type": "markdown",
      "metadata": {
        "id": "7dGsDgmDDHjx",
        "colab_type": "text"
      },
      "source": [
        "##### Required Library"
      ]
    },
    {
      "cell_type": "code",
      "metadata": {
        "id": "j78kv2-0acLU",
        "colab_type": "code",
        "colab": {}
      },
      "source": [
        "import pandas as pd\n",
        "import matplotlib.pyplot as plt\n",
        "import numpy as np\n"
      ],
      "execution_count": 0,
      "outputs": []
    },
    {
      "cell_type": "code",
      "metadata": {
        "id": "j38k6sQZZvH6",
        "colab_type": "code",
        "colab": {}
      },
      "source": [
        "path = \"/content/drive/My Drive/FINAL YEAR PROJECT MATERIAL/data/MUMBAI CRIME COMPLAINT DATA.csv\"\n",
        "mumbai_crime_data = pd.read_csv(path)\n",
        "\n",
        "#uploading data from google drive"
      ],
      "execution_count": 0,
      "outputs": []
    },
    {
      "cell_type": "markdown",
      "metadata": {
        "id": "YkL7UwKJDUDo",
        "colab_type": "text"
      },
      "source": [
        "#### Data Description "
      ]
    },
    {
      "cell_type": "code",
      "metadata": {
        "id": "CPEJz4MoaXrl",
        "colab_type": "code",
        "outputId": "9b6b81af-f0a0-4025-a6ef-fa52cbd45bb2",
        "colab": {
          "base_uri": "https://localhost:8080/",
          "height": 268
        }
      },
      "source": [
        "mumbai_crime_data.head()"
      ],
      "execution_count": 0,
      "outputs": [
        {
          "output_type": "execute_result",
          "data": {
            "text/html": [
              "<div>\n",
              "<style scoped>\n",
              "    .dataframe tbody tr th:only-of-type {\n",
              "        vertical-align: middle;\n",
              "    }\n",
              "\n",
              "    .dataframe tbody tr th {\n",
              "        vertical-align: top;\n",
              "    }\n",
              "\n",
              "    .dataframe thead th {\n",
              "        text-align: right;\n",
              "    }\n",
              "</style>\n",
              "<table border=\"1\" class=\"dataframe\">\n",
              "  <thead>\n",
              "    <tr style=\"text-align: right;\">\n",
              "      <th></th>\n",
              "      <th>Unnamed: 0</th>\n",
              "      <th>CMPLNT_FR_DT</th>\n",
              "      <th>OFNS_DESC</th>\n",
              "      <th>PD_DESC</th>\n",
              "      <th>PREM_TYP_DESC</th>\n",
              "      <th>LAW_CAT_CD</th>\n",
              "      <th>BORO_NM</th>\n",
              "      <th>VIC_AGE_GROUP</th>\n",
              "      <th>VIC_SEX</th>\n",
              "    </tr>\n",
              "  </thead>\n",
              "  <tbody>\n",
              "    <tr>\n",
              "      <th>0</th>\n",
              "      <td>0</td>\n",
              "      <td>04/10/2008</td>\n",
              "      <td>PETIT LARCENY</td>\n",
              "      <td>LARCENY,PETIT FROM AUTO</td>\n",
              "      <td>STREET</td>\n",
              "      <td>MISDEMEANOR</td>\n",
              "      <td>THANE</td>\n",
              "      <td>18-24</td>\n",
              "      <td>M</td>\n",
              "    </tr>\n",
              "    <tr>\n",
              "      <th>1</th>\n",
              "      <td>4</td>\n",
              "      <td>04/11/2006</td>\n",
              "      <td>THEFT-FRAUD</td>\n",
              "      <td>FRAUD,UNCLASSIFIED-FELONY</td>\n",
              "      <td>COMMERCIAL BUILDING</td>\n",
              "      <td>FELONY</td>\n",
              "      <td>DADAR</td>\n",
              "      <td>25-44</td>\n",
              "      <td>M</td>\n",
              "    </tr>\n",
              "    <tr>\n",
              "      <th>2</th>\n",
              "      <td>8</td>\n",
              "      <td>04/21/2006</td>\n",
              "      <td>ROBBERY</td>\n",
              "      <td>ROBBERY,DWELLING</td>\n",
              "      <td>RESIDENCE - PUBLIC HOUSING</td>\n",
              "      <td>FELONY</td>\n",
              "      <td>BORIVALI</td>\n",
              "      <td>25-44</td>\n",
              "      <td>M</td>\n",
              "    </tr>\n",
              "    <tr>\n",
              "      <th>3</th>\n",
              "      <td>9</td>\n",
              "      <td>04/14/2006</td>\n",
              "      <td>VEHICLE AND TRAFFIC LAWS</td>\n",
              "      <td>LEAVING SCENE-ACCIDENT-PERSONA</td>\n",
              "      <td>STREET</td>\n",
              "      <td>MISDEMEANOR</td>\n",
              "      <td>DADAR</td>\n",
              "      <td>45-64</td>\n",
              "      <td>F</td>\n",
              "    </tr>\n",
              "    <tr>\n",
              "      <th>4</th>\n",
              "      <td>10</td>\n",
              "      <td>08/12/2007</td>\n",
              "      <td>FELONY ASSAULT</td>\n",
              "      <td>ASSAULT 2,1,UNCLASSIFIED</td>\n",
              "      <td>STREET</td>\n",
              "      <td>FELONY</td>\n",
              "      <td>NAVI MUMBAI</td>\n",
              "      <td>&lt;18</td>\n",
              "      <td>M</td>\n",
              "    </tr>\n",
              "  </tbody>\n",
              "</table>\n",
              "</div>"
            ],
            "text/plain": [
              "   Unnamed: 0 CMPLNT_FR_DT  ... VIC_AGE_GROUP VIC_SEX\n",
              "0           0   04/10/2008  ...         18-24       M\n",
              "1           4   04/11/2006  ...         25-44       M\n",
              "2           8   04/21/2006  ...         25-44       M\n",
              "3           9   04/14/2006  ...         45-64       F\n",
              "4          10   08/12/2007  ...           <18       M\n",
              "\n",
              "[5 rows x 9 columns]"
            ]
          },
          "metadata": {
            "tags": []
          },
          "execution_count": 4
        }
      ]
    },
    {
      "cell_type": "code",
      "metadata": {
        "id": "9kv4cMm5abNR",
        "colab_type": "code",
        "outputId": "9184fe56-9330-4fc1-a369-a735adf97537",
        "colab": {
          "base_uri": "https://localhost:8080/",
          "height": 266
        }
      },
      "source": [
        "mumbai_crime_data.reset_index #to reset the index of the dataset"
      ],
      "execution_count": 0,
      "outputs": [
        {
          "output_type": "execute_result",
          "data": {
            "text/plain": [
              "<bound method DataFrame.reset_index of         Unnamed: 0 CMPLNT_FR_DT  ... VIC_AGE_GROUP VIC_SEX\n",
              "0                0   04/10/2008  ...         18-24       M\n",
              "1                4   04/11/2006  ...         25-44       M\n",
              "2                8   04/21/2006  ...         25-44       M\n",
              "3                9   04/14/2006  ...         45-64       F\n",
              "4               10   08/12/2007  ...           <18       M\n",
              "...            ...          ...  ...           ...     ...\n",
              "228071      323067   05/16/2010  ...           NaN     NaN\n",
              "228072      323068          NaN  ...           NaN     NaN\n",
              "228073      323069          NaN  ...           NaN     NaN\n",
              "228074      323070          NaN  ...           NaN     NaN\n",
              "228075      323071          NaN  ...           NaN     NaN\n",
              "\n",
              "[228076 rows x 9 columns]>"
            ]
          },
          "metadata": {
            "tags": []
          },
          "execution_count": 5
        }
      ]
    },
    {
      "cell_type": "code",
      "metadata": {
        "id": "d5BnhpqDcM6M",
        "colab_type": "code",
        "outputId": "5a7e1c03-63c9-41cd-fb96-3fd8dba12f0f",
        "colab": {
          "base_uri": "https://localhost:8080/",
          "height": 268
        }
      },
      "source": [
        "mumbai_crime_data.head()"
      ],
      "execution_count": 0,
      "outputs": [
        {
          "output_type": "execute_result",
          "data": {
            "text/html": [
              "<div>\n",
              "<style scoped>\n",
              "    .dataframe tbody tr th:only-of-type {\n",
              "        vertical-align: middle;\n",
              "    }\n",
              "\n",
              "    .dataframe tbody tr th {\n",
              "        vertical-align: top;\n",
              "    }\n",
              "\n",
              "    .dataframe thead th {\n",
              "        text-align: right;\n",
              "    }\n",
              "</style>\n",
              "<table border=\"1\" class=\"dataframe\">\n",
              "  <thead>\n",
              "    <tr style=\"text-align: right;\">\n",
              "      <th></th>\n",
              "      <th>Unnamed: 0</th>\n",
              "      <th>CMPLNT_FR_DT</th>\n",
              "      <th>OFNS_DESC</th>\n",
              "      <th>PD_DESC</th>\n",
              "      <th>PREM_TYP_DESC</th>\n",
              "      <th>LAW_CAT_CD</th>\n",
              "      <th>BORO_NM</th>\n",
              "      <th>VIC_AGE_GROUP</th>\n",
              "      <th>VIC_SEX</th>\n",
              "    </tr>\n",
              "  </thead>\n",
              "  <tbody>\n",
              "    <tr>\n",
              "      <th>0</th>\n",
              "      <td>0</td>\n",
              "      <td>04/10/2008</td>\n",
              "      <td>PETIT LARCENY</td>\n",
              "      <td>LARCENY,PETIT FROM AUTO</td>\n",
              "      <td>STREET</td>\n",
              "      <td>MISDEMEANOR</td>\n",
              "      <td>THANE</td>\n",
              "      <td>18-24</td>\n",
              "      <td>M</td>\n",
              "    </tr>\n",
              "    <tr>\n",
              "      <th>1</th>\n",
              "      <td>4</td>\n",
              "      <td>04/11/2006</td>\n",
              "      <td>THEFT-FRAUD</td>\n",
              "      <td>FRAUD,UNCLASSIFIED-FELONY</td>\n",
              "      <td>COMMERCIAL BUILDING</td>\n",
              "      <td>FELONY</td>\n",
              "      <td>DADAR</td>\n",
              "      <td>25-44</td>\n",
              "      <td>M</td>\n",
              "    </tr>\n",
              "    <tr>\n",
              "      <th>2</th>\n",
              "      <td>8</td>\n",
              "      <td>04/21/2006</td>\n",
              "      <td>ROBBERY</td>\n",
              "      <td>ROBBERY,DWELLING</td>\n",
              "      <td>RESIDENCE - PUBLIC HOUSING</td>\n",
              "      <td>FELONY</td>\n",
              "      <td>BORIVALI</td>\n",
              "      <td>25-44</td>\n",
              "      <td>M</td>\n",
              "    </tr>\n",
              "    <tr>\n",
              "      <th>3</th>\n",
              "      <td>9</td>\n",
              "      <td>04/14/2006</td>\n",
              "      <td>VEHICLE AND TRAFFIC LAWS</td>\n",
              "      <td>LEAVING SCENE-ACCIDENT-PERSONA</td>\n",
              "      <td>STREET</td>\n",
              "      <td>MISDEMEANOR</td>\n",
              "      <td>DADAR</td>\n",
              "      <td>45-64</td>\n",
              "      <td>F</td>\n",
              "    </tr>\n",
              "    <tr>\n",
              "      <th>4</th>\n",
              "      <td>10</td>\n",
              "      <td>08/12/2007</td>\n",
              "      <td>FELONY ASSAULT</td>\n",
              "      <td>ASSAULT 2,1,UNCLASSIFIED</td>\n",
              "      <td>STREET</td>\n",
              "      <td>FELONY</td>\n",
              "      <td>NAVI MUMBAI</td>\n",
              "      <td>&lt;18</td>\n",
              "      <td>M</td>\n",
              "    </tr>\n",
              "  </tbody>\n",
              "</table>\n",
              "</div>"
            ],
            "text/plain": [
              "   Unnamed: 0 CMPLNT_FR_DT  ... VIC_AGE_GROUP VIC_SEX\n",
              "0           0   04/10/2008  ...         18-24       M\n",
              "1           4   04/11/2006  ...         25-44       M\n",
              "2           8   04/21/2006  ...         25-44       M\n",
              "3           9   04/14/2006  ...         45-64       F\n",
              "4          10   08/12/2007  ...           <18       M\n",
              "\n",
              "[5 rows x 9 columns]"
            ]
          },
          "metadata": {
            "tags": []
          },
          "execution_count": 6
        }
      ]
    },
    {
      "cell_type": "markdown",
      "metadata": {
        "id": "wRI8CZLODxks",
        "colab_type": "text"
      },
      "source": [
        "### Data Preprocessing"
      ]
    },
    {
      "cell_type": "code",
      "metadata": {
        "id": "qBKhcOZvcaSK",
        "colab_type": "code",
        "colab": {}
      },
      "source": [
        "mumbai_crime_data.drop(['Unnamed: 0'], axis = 1, inplace = True) #Dropping unnecessary columns"
      ],
      "execution_count": 0,
      "outputs": []
    },
    {
      "cell_type": "code",
      "metadata": {
        "id": "OtiDdpthcj9O",
        "colab_type": "code",
        "outputId": "de9657aa-dc22-4d67-c1f5-0f94b03392ab",
        "colab": {
          "base_uri": "https://localhost:8080/",
          "height": 200
        }
      },
      "source": [
        "mumbai_crime_data.head()"
      ],
      "execution_count": 0,
      "outputs": [
        {
          "output_type": "execute_result",
          "data": {
            "text/html": [
              "<div>\n",
              "<style scoped>\n",
              "    .dataframe tbody tr th:only-of-type {\n",
              "        vertical-align: middle;\n",
              "    }\n",
              "\n",
              "    .dataframe tbody tr th {\n",
              "        vertical-align: top;\n",
              "    }\n",
              "\n",
              "    .dataframe thead th {\n",
              "        text-align: right;\n",
              "    }\n",
              "</style>\n",
              "<table border=\"1\" class=\"dataframe\">\n",
              "  <thead>\n",
              "    <tr style=\"text-align: right;\">\n",
              "      <th></th>\n",
              "      <th>CMPLNT_FR_DT</th>\n",
              "      <th>OFNS_DESC</th>\n",
              "      <th>PD_DESC</th>\n",
              "      <th>PREM_TYP_DESC</th>\n",
              "      <th>LAW_CAT_CD</th>\n",
              "      <th>BORO_NM</th>\n",
              "      <th>VIC_AGE_GROUP</th>\n",
              "      <th>VIC_SEX</th>\n",
              "    </tr>\n",
              "  </thead>\n",
              "  <tbody>\n",
              "    <tr>\n",
              "      <th>0</th>\n",
              "      <td>04/10/2008</td>\n",
              "      <td>PETIT LARCENY</td>\n",
              "      <td>LARCENY,PETIT FROM AUTO</td>\n",
              "      <td>STREET</td>\n",
              "      <td>MISDEMEANOR</td>\n",
              "      <td>THANE</td>\n",
              "      <td>18-24</td>\n",
              "      <td>M</td>\n",
              "    </tr>\n",
              "    <tr>\n",
              "      <th>1</th>\n",
              "      <td>04/11/2006</td>\n",
              "      <td>THEFT-FRAUD</td>\n",
              "      <td>FRAUD,UNCLASSIFIED-FELONY</td>\n",
              "      <td>COMMERCIAL BUILDING</td>\n",
              "      <td>FELONY</td>\n",
              "      <td>DADAR</td>\n",
              "      <td>25-44</td>\n",
              "      <td>M</td>\n",
              "    </tr>\n",
              "    <tr>\n",
              "      <th>2</th>\n",
              "      <td>04/21/2006</td>\n",
              "      <td>ROBBERY</td>\n",
              "      <td>ROBBERY,DWELLING</td>\n",
              "      <td>RESIDENCE - PUBLIC HOUSING</td>\n",
              "      <td>FELONY</td>\n",
              "      <td>BORIVALI</td>\n",
              "      <td>25-44</td>\n",
              "      <td>M</td>\n",
              "    </tr>\n",
              "    <tr>\n",
              "      <th>3</th>\n",
              "      <td>04/14/2006</td>\n",
              "      <td>VEHICLE AND TRAFFIC LAWS</td>\n",
              "      <td>LEAVING SCENE-ACCIDENT-PERSONA</td>\n",
              "      <td>STREET</td>\n",
              "      <td>MISDEMEANOR</td>\n",
              "      <td>DADAR</td>\n",
              "      <td>45-64</td>\n",
              "      <td>F</td>\n",
              "    </tr>\n",
              "    <tr>\n",
              "      <th>4</th>\n",
              "      <td>08/12/2007</td>\n",
              "      <td>FELONY ASSAULT</td>\n",
              "      <td>ASSAULT 2,1,UNCLASSIFIED</td>\n",
              "      <td>STREET</td>\n",
              "      <td>FELONY</td>\n",
              "      <td>NAVI MUMBAI</td>\n",
              "      <td>&lt;18</td>\n",
              "      <td>M</td>\n",
              "    </tr>\n",
              "  </tbody>\n",
              "</table>\n",
              "</div>"
            ],
            "text/plain": [
              "  CMPLNT_FR_DT                 OFNS_DESC  ... VIC_AGE_GROUP VIC_SEX\n",
              "0   04/10/2008             PETIT LARCENY  ...         18-24       M\n",
              "1   04/11/2006               THEFT-FRAUD  ...         25-44       M\n",
              "2   04/21/2006                   ROBBERY  ...         25-44       M\n",
              "3   04/14/2006  VEHICLE AND TRAFFIC LAWS  ...         45-64       F\n",
              "4   08/12/2007            FELONY ASSAULT  ...           <18       M\n",
              "\n",
              "[5 rows x 8 columns]"
            ]
          },
          "metadata": {
            "tags": []
          },
          "execution_count": 8
        }
      ]
    },
    {
      "cell_type": "code",
      "metadata": {
        "id": "wiCN8IFncmzI",
        "colab_type": "code",
        "outputId": "1d1831c9-b9c0-46f2-86eb-163a9a30be35",
        "colab": {
          "base_uri": "https://localhost:8080/",
          "height": 234
        }
      },
      "source": [
        "#renaming columns\n",
        "\n",
        "mumbai_crime_data.rename(columns= {\"CMPLNT_FR_DT\": \"FILING_DATE_OF_COMPLAINT\", \"OFNS_DESC\": \"DESCRIPTION_OF_OFFENSE\", \"PD_DESC\": \"OFFENSE_DESCRIPTION_IN_DETAIL\", \"PREM_TYP_DESC\":\"PLACE_OF_CRIME\",\n",
        "                                 \"LAW_CAT_CD\":\"CRIME_ACC_LAW\",\"BORO_NM\":\"AREA_OF_CRIME\"}, inplace = True)\n",
        "mumbai_crime_data.head()\n"
      ],
      "execution_count": 0,
      "outputs": [
        {
          "output_type": "execute_result",
          "data": {
            "text/html": [
              "<div>\n",
              "<style scoped>\n",
              "    .dataframe tbody tr th:only-of-type {\n",
              "        vertical-align: middle;\n",
              "    }\n",
              "\n",
              "    .dataframe tbody tr th {\n",
              "        vertical-align: top;\n",
              "    }\n",
              "\n",
              "    .dataframe thead th {\n",
              "        text-align: right;\n",
              "    }\n",
              "</style>\n",
              "<table border=\"1\" class=\"dataframe\">\n",
              "  <thead>\n",
              "    <tr style=\"text-align: right;\">\n",
              "      <th></th>\n",
              "      <th>FILING_DATE_OF_COMPLAINT</th>\n",
              "      <th>DESCRIPTION_OF_OFFENSE</th>\n",
              "      <th>OFFENSE_DESCRIPTION_IN_DETAIL</th>\n",
              "      <th>PLACE_OF_CRIME</th>\n",
              "      <th>CRIME_ACC_LAW</th>\n",
              "      <th>AREA_OF_CRIME</th>\n",
              "      <th>VIC_AGE_GROUP</th>\n",
              "      <th>VIC_SEX</th>\n",
              "    </tr>\n",
              "  </thead>\n",
              "  <tbody>\n",
              "    <tr>\n",
              "      <th>0</th>\n",
              "      <td>04/10/2008</td>\n",
              "      <td>PETIT LARCENY</td>\n",
              "      <td>LARCENY,PETIT FROM AUTO</td>\n",
              "      <td>STREET</td>\n",
              "      <td>MISDEMEANOR</td>\n",
              "      <td>THANE</td>\n",
              "      <td>18-24</td>\n",
              "      <td>M</td>\n",
              "    </tr>\n",
              "    <tr>\n",
              "      <th>1</th>\n",
              "      <td>04/11/2006</td>\n",
              "      <td>THEFT-FRAUD</td>\n",
              "      <td>FRAUD,UNCLASSIFIED-FELONY</td>\n",
              "      <td>COMMERCIAL BUILDING</td>\n",
              "      <td>FELONY</td>\n",
              "      <td>DADAR</td>\n",
              "      <td>25-44</td>\n",
              "      <td>M</td>\n",
              "    </tr>\n",
              "    <tr>\n",
              "      <th>2</th>\n",
              "      <td>04/21/2006</td>\n",
              "      <td>ROBBERY</td>\n",
              "      <td>ROBBERY,DWELLING</td>\n",
              "      <td>RESIDENCE - PUBLIC HOUSING</td>\n",
              "      <td>FELONY</td>\n",
              "      <td>BORIVALI</td>\n",
              "      <td>25-44</td>\n",
              "      <td>M</td>\n",
              "    </tr>\n",
              "    <tr>\n",
              "      <th>3</th>\n",
              "      <td>04/14/2006</td>\n",
              "      <td>VEHICLE AND TRAFFIC LAWS</td>\n",
              "      <td>LEAVING SCENE-ACCIDENT-PERSONA</td>\n",
              "      <td>STREET</td>\n",
              "      <td>MISDEMEANOR</td>\n",
              "      <td>DADAR</td>\n",
              "      <td>45-64</td>\n",
              "      <td>F</td>\n",
              "    </tr>\n",
              "    <tr>\n",
              "      <th>4</th>\n",
              "      <td>08/12/2007</td>\n",
              "      <td>FELONY ASSAULT</td>\n",
              "      <td>ASSAULT 2,1,UNCLASSIFIED</td>\n",
              "      <td>STREET</td>\n",
              "      <td>FELONY</td>\n",
              "      <td>NAVI MUMBAI</td>\n",
              "      <td>&lt;18</td>\n",
              "      <td>M</td>\n",
              "    </tr>\n",
              "  </tbody>\n",
              "</table>\n",
              "</div>"
            ],
            "text/plain": [
              "  FILING_DATE_OF_COMPLAINT    DESCRIPTION_OF_OFFENSE  ... VIC_AGE_GROUP VIC_SEX\n",
              "0               04/10/2008             PETIT LARCENY  ...         18-24       M\n",
              "1               04/11/2006               THEFT-FRAUD  ...         25-44       M\n",
              "2               04/21/2006                   ROBBERY  ...         25-44       M\n",
              "3               04/14/2006  VEHICLE AND TRAFFIC LAWS  ...         45-64       F\n",
              "4               08/12/2007            FELONY ASSAULT  ...           <18       M\n",
              "\n",
              "[5 rows x 8 columns]"
            ]
          },
          "metadata": {
            "tags": []
          },
          "execution_count": 9
        }
      ]
    },
    {
      "cell_type": "markdown",
      "metadata": {
        "id": "sPfphuI60dAV",
        "colab_type": "text"
      },
      "source": [
        "##### Studying 'CRIME_ACC_LAW' column"
      ]
    },
    {
      "cell_type": "code",
      "metadata": {
        "id": "Ly8ZEkf_eIB4",
        "colab_type": "code",
        "outputId": "2245cfa0-88db-4595-92e9-4a2cc82a3c85",
        "colab": {
          "base_uri": "https://localhost:8080/",
          "height": 88
        }
      },
      "source": [
        "#getting unique values of type of offense\n",
        "\n",
        "mumbai_crime_data['CRIME_ACC_LAW'].value_counts()  #may remove it later"
      ],
      "execution_count": 0,
      "outputs": [
        {
          "output_type": "execute_result",
          "data": {
            "text/plain": [
              "MISDEMEANOR    115755\n",
              "FELONY          74644\n",
              "VIOLATION       37673\n",
              "Name: CRIME_ACC_LAW, dtype: int64"
            ]
          },
          "metadata": {
            "tags": []
          },
          "execution_count": 10
        }
      ]
    },
    {
      "cell_type": "markdown",
      "metadata": {
        "id": "ZKCd5q5L0ja0",
        "colab_type": "text"
      },
      "source": [
        "#####Preprocessing and studying    'PLACE_OF_CRIME'    column"
      ]
    },
    {
      "cell_type": "code",
      "metadata": {
        "id": "mWIxOq0a0M7D",
        "colab_type": "code",
        "outputId": "7aecc190-a444-421d-d6d2-6b2a8bcebae9",
        "colab": {
          "base_uri": "https://localhost:8080/",
          "height": 230
        }
      },
      "source": [
        "mumbai_crime_data['PLACE_OF_CRIME'].value_counts()"
      ],
      "execution_count": 0,
      "outputs": [
        {
          "output_type": "execute_result",
          "data": {
            "text/plain": [
              "STREET                        76788\n",
              "RESIDENCE - APT. HOUSE        57177\n",
              "RESIDENCE-HOUSE               31810\n",
              "RESIDENCE - PUBLIC HOUSING    14660\n",
              "OTHER                          5443\n",
              "                              ...  \n",
              "OTHER HOUSE OF WORSHIP           32\n",
              "CEMETERY                         28\n",
              "PHOTO/COPY                       25\n",
              "MOSQUE                           23\n",
              "LOAN COMPANY                     21\n",
              "Name: PLACE_OF_CRIME, Length: 68, dtype: int64"
            ]
          },
          "metadata": {
            "tags": []
          },
          "execution_count": 11
        }
      ]
    },
    {
      "cell_type": "code",
      "metadata": {
        "id": "weC2LtWSlJ4h",
        "colab_type": "code",
        "colab": {}
      },
      "source": [
        "list_of_places = mumbai_crime_data['PLACE_OF_CRIME'].unique()"
      ],
      "execution_count": 0,
      "outputs": []
    },
    {
      "cell_type": "code",
      "metadata": {
        "id": "fDeXuR4Vle-v",
        "colab_type": "code",
        "outputId": "156ef025-ac07-40f4-efc2-49f5ddbebf2f",
        "colab": {
          "base_uri": "https://localhost:8080/",
          "height": 390
        }
      },
      "source": [
        "list_of_places"
      ],
      "execution_count": 0,
      "outputs": [
        {
          "output_type": "execute_result",
          "data": {
            "text/plain": [
              "array(['STREET', 'COMMERCIAL BUILDING', 'RESIDENCE - PUBLIC HOUSING',\n",
              "       'OTHER', nan, 'SCHOOL', 'RESIDENCE-HOUSE',\n",
              "       'RESIDENCE - APT. HOUSE', 'SMALL MERCHANT', 'BANK', 'FAST FOOD',\n",
              "       'RESTAURANT/DINER', 'PARK/PLAYGROUND', 'ATM', 'HOTEL/MOTEL',\n",
              "       'PARKING LOT/GARAGE (PUBLIC)', 'BUS (NYC TRANSIT)',\n",
              "       'BEAUTY & NAIL SALON', 'LOCAL TRAIN', 'GROCERY/BODEGA',\n",
              "       'CHAIN STORE', 'CHURCH', 'DEPARTMENT STORE', 'JEWELRY',\n",
              "       'BAR/NIGHT CLUB', 'MARINA/PIER', 'HOSPITAL', 'CLOTHING/BOUTIQUE',\n",
              "       'PUBLIC BUILDING', 'CHECK CASHING BUSINESS', 'TELECOMM. STORE',\n",
              "       'DRY CLEANER/LAUNDRY', 'HIGHWAY/PARKWAY', 'CANDY STORE',\n",
              "       'CEMETERY', 'VIDEO STORE', 'BUS STOP', 'AIRPORT TERMINAL',\n",
              "       'STORE UNCLASSIFIED', 'BRIDGE', 'OPEN AREAS (OPEN LOTS)',\n",
              "       'PARKING LOT/GARAGE (PRIVATE)', 'LOAN COMPANY',\n",
              "       'DOCTOR/DENTIST OFFICE', 'FOOD SUPERMARKET', 'GAS STATION',\n",
              "       'VARIETY STORE', 'TUNNEL', 'BUS (OTHER)', 'TAXI(UNLICENSED)',\n",
              "       'TAXI (YELLOW LICENSED)', 'LIQUOR STORE', 'PHOTO/COPY',\n",
              "       'CONSTRUCTION SITE', 'DRUG STORE', 'SHOE', 'MOSQUE', 'BOOK/CARD',\n",
              "       'STORAGE FACILITY', 'SOCIAL CLUB/POLICY', 'FACTORY/WAREHOUSE',\n",
              "       'TAXI(LICENSED)', 'GYM/FITNESS FACILITY', 'SYNAGOGUE',\n",
              "       'BUS TERMINAL', 'FERRY/FERRY TERMINAL', 'TRANSIT FACILITY (OTHER)',\n",
              "       'OTHER HOUSE OF WORSHIP', 'ABANDONED BUILDING'], dtype=object)"
            ]
          },
          "metadata": {
            "tags": []
          },
          "execution_count": 13
        }
      ]
    },
    {
      "cell_type": "code",
      "metadata": {
        "id": "1uMH4cxqlnJk",
        "colab_type": "code",
        "colab": {}
      },
      "source": [
        "mumbai_crime_data['PLACE_OF_CRIME']=mumbai_crime_data['PLACE_OF_CRIME'].replace({'BUS TERMINAL':'BUS STOP','BUS (NYC TRANSIT)':'BUS STOP','TRANSIT FACILITY (OTHER)':'BUS STOP',\n",
        "                                             'BOOK/CARD':'STORE','VARIETY STORE':'SMALL MERCHANT','PARKING LOT/GARAGE (PRIVATE)':'PARKING LOT/GARAGE',\n",
        "                                             'PARKING LOT/GARAGE (PUBLIC)':'PARKING LOT/GARAGE','SYNAGOGUE':'CHURCH','GAS STATION':'PETROL PUMP',\n",
        "                                             'CHECK CASHING BUSINESS':'BANK','FAST FOOD':'STORE','SHOE':'STORE','PHOTO/COPY':'STORE','STORE UNCLASSIFIED':'PUBLIC BUILDING',\n",
        "                                             'VIDEO STORE':'STORE','STORAGE FACILITY':'FACTORY/WAREHOUSE','GROCERY/BODEGA':'FOOD SUPERMARKET','CANDY STORE':'STORE',\n",
        "                                             'TELECOMM. STORE':'STORE','SOCIAL CLUB/POLICY':'BAR/NIGHT CLUB',})"
      ],
      "execution_count": 0,
      "outputs": []
    },
    {
      "cell_type": "code",
      "metadata": {
        "id": "PJjaJsMJxm9o",
        "colab_type": "code",
        "outputId": "025b07ff-12c2-4d18-b36a-56fb4ded7d81",
        "colab": {
          "base_uri": "https://localhost:8080/",
          "height": 941
        }
      },
      "source": [
        "mumbai_crime_data['PLACE_OF_CRIME'].value_counts()\n",
        "#modified_list_of_places = mumbai_crime_data['PLACE_OF_CRIME'].unique()\n",
        "#modified_list_of_places\n"
      ],
      "execution_count": 0,
      "outputs": [
        {
          "output_type": "execute_result",
          "data": {
            "text/plain": [
              "STREET                        76788\n",
              "RESIDENCE - APT. HOUSE        57177\n",
              "RESIDENCE-HOUSE               31810\n",
              "RESIDENCE - PUBLIC HOUSING    14660\n",
              "OTHER                          5443\n",
              "COMMERCIAL BUILDING            4436\n",
              "SCHOOL                         3701\n",
              "PARKING LOT/GARAGE             3204\n",
              "LOCAL TRAIN                    2951\n",
              "BAR/NIGHT CLUB                 2811\n",
              "RESTAURANT/DINER               2308\n",
              "FOOD SUPERMARKET               2008\n",
              "PARK/PLAYGROUND                1949\n",
              "PUBLIC BUILDING                1893\n",
              "STORE                          1393\n",
              "CHAIN STORE                    1272\n",
              "HOSPITAL                       1165\n",
              "HOTEL/MOTEL                     963\n",
              "DEPARTMENT STORE                921\n",
              "BUS STOP                        913\n",
              "BANK                            896\n",
              "GYM/FITNESS FACILITY            895\n",
              "SMALL MERCHANT                  713\n",
              "CLOTHING/BOUTIQUE               609\n",
              "DOCTOR/DENTIST OFFICE           554\n",
              "BEAUTY & NAIL SALON             503\n",
              "DRY CLEANER/LAUNDRY             397\n",
              "CHURCH                          381\n",
              "AIRPORT TERMINAL                365\n",
              "OPEN AREAS (OPEN LOTS)          352\n",
              "PETROL PUMP                     329\n",
              "HIGHWAY/PARKWAY                 312\n",
              "FACTORY/WAREHOUSE               305\n",
              "DRUG STORE                      288\n",
              "TAXI (YELLOW LICENSED)          210\n",
              "ATM                             200\n",
              "TAXI(LICENSED)                  169\n",
              "CONSTRUCTION SITE               168\n",
              "BUS (OTHER)                     127\n",
              "MARINA/PIER                      98\n",
              "JEWELRY                          83\n",
              "TUNNEL                           75\n",
              "BRIDGE                           68\n",
              "FERRY/FERRY TERMINAL             56\n",
              "LIQUOR STORE                     53\n",
              "TAXI(UNLICENSED)                 37\n",
              "ABANDONED BUILDING               34\n",
              "OTHER HOUSE OF WORSHIP           32\n",
              "CEMETERY                         28\n",
              "MOSQUE                           23\n",
              "LOAN COMPANY                     21\n",
              "Name: PLACE_OF_CRIME, dtype: int64"
            ]
          },
          "metadata": {
            "tags": []
          },
          "execution_count": 15
        }
      ]
    },
    {
      "cell_type": "markdown",
      "metadata": {
        "id": "f4f-_j5Y0UbB",
        "colab_type": "text"
      },
      "source": [
        "#####Preprocessing and studying 'DESCRIPTION_OF_OFFENSE' column"
      ]
    },
    {
      "cell_type": "code",
      "metadata": {
        "id": "2qVrOuQBegLc",
        "colab_type": "code",
        "outputId": "4f792bbd-2e8b-40b5-a6a5-ad59cc1634fd",
        "colab": {
          "base_uri": "https://localhost:8080/",
          "height": 390
        }
      },
      "source": [
        "#getting unique values in DESCRIPTION_OF_OFFENSE column\n",
        "\n",
        "print(mumbai_crime_data['DESCRIPTION_OF_OFFENSE'].unique())"
      ],
      "execution_count": 0,
      "outputs": [
        {
          "output_type": "stream",
          "text": [
            "['PETIT LARCENY' 'THEFT-FRAUD' 'ROBBERY' 'VEHICLE AND TRAFFIC LAWS'\n",
            " 'FELONY ASSAULT' 'GRAND LARCENY' 'MURDER & NON-NEGL. MANSLAUGHTER'\n",
            " 'HARRASSMENT 2' 'OFF. AGNST PUB ORD SENSBLTY &'\n",
            " 'ASSAULT 3 & RELATED OFFENSES' 'GRAND LARCENY OF MOTOR VEHICLE'\n",
            " 'MISCELLANEOUS PENAL LAW' 'KIDNAPPING & RELATED OFFENSES' 'FORGERY'\n",
            " 'CRIMINAL MISCHIEF & RELATED OF' 'FRAUDS' 'BURGLARY' 'RAPE'\n",
            " 'DANGEROUS WEAPONS' nan 'ARSON' 'DANGEROUS DRUGS'\n",
            " 'POSSESSION OF STOLEN PROPERTY' 'SEX CRIMES' 'ADMINISTRATIVE CODE'\n",
            " 'INTOXICATED & IMPAIRED DRIVING' 'UNAUTHORIZED USE OF A VEHICLE'\n",
            " 'OFFENSES AGAINST PUBLIC ADMINI' 'CRIMINAL TRESPASS'\n",
            " 'OFFENSES INVOLVING FRAUD' 'OTHER OFFENSES RELATED TO THEF'\n",
            " 'CHILD ABANDONMENT/NON SUPPORT' 'OFFENSES AGAINST THE PERSON'\n",
            " 'PETIT LARCENY OF MOTOR VEHICLE' 'GAMBLING' 'JOSTLING'\n",
            " 'DISORDERLY CONDUCT' 'FRAUDULENT ACCOSTING'\n",
            " 'OTHER STATE LAWS (NON PENAL LA' 'OTHER STATE LAWS' \"BURGLAR'S TOOLS\"\n",
            " 'OFFENSES RELATED TO CHILDREN' 'PROSTITUTION & RELATED OFFENSES'\n",
            " 'HOMICIDE-NEGLIGENT-VEHICLE' 'ENDAN WELFARE INCOMP'\n",
            " 'HOMICIDE-NEGLIGENT,UNCLASSIFIE' 'LOITERING'\n",
            " 'DISRUPTION OF A RELIGIOUS SERV' 'OFFENSES AGAINST PUBLIC SAFETY'\n",
            " 'LOITERING/GAMBLING (CARDS, DIC'\n",
            " 'MAHARASTRA STATE LAWS-UNCLASSIFIED FELONY']\n"
          ],
          "name": "stdout"
        }
      ]
    },
    {
      "cell_type": "code",
      "metadata": {
        "id": "Rsrwk3fHPXse",
        "colab_type": "code",
        "colab": {}
      },
      "source": [
        "mumbai_crime_data['DESCRIPTION_OF_OFFENSE']=mumbai_crime_data['DESCRIPTION_OF_OFFENSE'].replace({'FRAUDULENT ACCOSTING':'FRAUDS',\n",
        "                                                                                                 'SEX CRIMES':'SEX CRIMES:RAPE,SEXUAL ASSAULT,PROSTITUTION',\n",
        "                                                                                                 'PROSTITUTION & RELATED OFFENSES':'SEX CRIMES:RAPE,SEXUAL ASSAULT,PROSTITUTION',})"
      ],
      "execution_count": 0,
      "outputs": []
    },
    {
      "cell_type": "code",
      "metadata": {
        "id": "YSSVW-12gMrK",
        "colab_type": "code",
        "outputId": "d87910f4-4b8b-4cd0-fd16-c5060ccb3c84",
        "colab": {
          "base_uri": "https://localhost:8080/",
          "height": 888
        }
      },
      "source": [
        "mumbai_crime_data['DESCRIPTION_OF_OFFENSE'].value_counts()"
      ],
      "execution_count": 0,
      "outputs": [
        {
          "output_type": "execute_result",
          "data": {
            "text/plain": [
              "HARRASSMENT 2                                  37572\n",
              "PETIT LARCENY                                  32543\n",
              "ASSAULT 3 & RELATED OFFENSES                   31110\n",
              "CRIMINAL MISCHIEF & RELATED OF                 23107\n",
              "GRAND LARCENY                                  22624\n",
              "OFF. AGNST PUB ORD SENSBLTY &                  18699\n",
              "ROBBERY                                        12133\n",
              "FELONY ASSAULT                                  9913\n",
              "BURGLARY                                        9126\n",
              "GRAND LARCENY OF MOTOR VEHICLE                  6850\n",
              "MISCELLANEOUS PENAL LAW                         4251\n",
              "THEFT-FRAUD                                     3358\n",
              "SEX CRIMES:RAPE,SEXUAL ASSAULT,PROSTITUTION     3291\n",
              "OFFENSES AGAINST PUBLIC ADMINI                  2684\n",
              "VEHICLE AND TRAFFIC LAWS                        2433\n",
              "FRAUDS                                          1246\n",
              "RAPE                                             910\n",
              "CRIMINAL TRESPASS                                832\n",
              "MURDER & NON-NEGL. MANSLAUGHTER                  780\n",
              "DANGEROUS WEAPONS                                659\n",
              "POSSESSION OF STOLEN PROPERTY                    633\n",
              "ADMINISTRATIVE CODE                              519\n",
              "UNAUTHORIZED USE OF A VEHICLE                    461\n",
              "OFFENSES AGAINST THE PERSON                      357\n",
              "FORGERY                                          276\n",
              "INTOXICATED & IMPAIRED DRIVING                   253\n",
              "OTHER OFFENSES RELATED TO THEF                   224\n",
              "ARSON                                            166\n",
              "DANGEROUS DRUGS                                  159\n",
              "KIDNAPPING & RELATED OFFENSES                    154\n",
              "PETIT LARCENY OF MOTOR VEHICLE                    64\n",
              "OFFENSES INVOLVING FRAUD                          45\n",
              "CHILD ABANDONMENT/NON SUPPORT                     26\n",
              "OFFENSES RELATED TO CHILDREN                      24\n",
              "BURGLAR'S TOOLS                                   17\n",
              "JOSTLING                                          10\n",
              "DISORDERLY CONDUCT                                 8\n",
              "OTHER STATE LAWS (NON PENAL LA                     6\n",
              "HOMICIDE-NEGLIGENT,UNCLASSIFIE                     5\n",
              "GAMBLING                                           5\n",
              "ENDAN WELFARE INCOMP                               4\n",
              "HOMICIDE-NEGLIGENT-VEHICLE                         4\n",
              "MAHARASTRA STATE LAWS-UNCLASSIFIED FELONY          3\n",
              "OTHER STATE LAWS                                   2\n",
              "OFFENSES AGAINST PUBLIC SAFETY                     1\n",
              "LOITERING/GAMBLING (CARDS, DIC                     1\n",
              "DISRUPTION OF A RELIGIOUS SERV                     1\n",
              "LOITERING                                          1\n",
              "Name: DESCRIPTION_OF_OFFENSE, dtype: int64"
            ]
          },
          "metadata": {
            "tags": []
          },
          "execution_count": 18
        }
      ]
    },
    {
      "cell_type": "code",
      "metadata": {
        "id": "XAcR3vYcPGLk",
        "colab_type": "code",
        "colab": {}
      },
      "source": [
        "list_of_crimes_to_remove = ['DISORDERLY CONDUCT',\n",
        "                            'OTHER STATE LAWS (NON PENAL LA',\n",
        "                            'HOMICIDE-NEGLIGENT,UNCLASSIFIE',\n",
        "                            'GAMBLING',\n",
        "                            'JOSTLING',\n",
        "                            'HOMICIDE-NEGLIGENT-VEHICLE',\n",
        "                            'ENDAN WELFARE INCOMP',\n",
        "                            'MAHARASTRA STATE LAWS-UNCLASSIFIED FELONY',\n",
        "                            'OTHER STATE LAWS',\n",
        "                            'LOITERING/GAMBLING (CARDS, DIC',\n",
        "                            'OFFENSES AGAINST PUBLIC SAFETY',\n",
        "                            'LOITERING',\n",
        "                            'DISRUPTION OF A RELIGIOUS SERV',\n",
        "                            'FRAUDULENT ACCOSTING',\n",
        "                            'PETIT LARCENY OF MOTOR VEHICLE',\n",
        "                            'OFFENSES INVOLVING FRAUD',\n",
        "                            'CHILD ABANDONMENT/NON SUPPORT',\n",
        "                            'OFFENSES RELATED TO CHILDREN',\n",
        "                            \"BURGLAR'S TOOLS\",\n",
        "                            'DANGEROUS WEAPONS',\n",
        "                            'OFF. AGNST PUB ORD SENSBLTY &',\n",
        "                            'OFFENSES AGAINST PUBLIC ADMINI',\n",
        "                            'DANGEROUS DRUGS',\n",
        "                            'MISCELLANEOUS PENAL LAW',\n",
        "                            'ADMINISTRATIVE CODE',\n",
        "                            'OFFENSES AGAINST THE PERSON',\n",
        "                            'VEHICLE AND TRAFFIC LAWS',\n",
        "                            'POSSESSION OF STOLEN PROPERTY',\n",
        "                            'OTHER OFFENSES RELATED TO THEF',\n",
        "                            'FORGERY']                       \n"
      ],
      "execution_count": 0,
      "outputs": []
    },
    {
      "cell_type": "code",
      "metadata": {
        "id": "dMV9SQvUSVuQ",
        "colab_type": "code",
        "colab": {}
      },
      "source": [
        "\n",
        "for crime in list_of_crimes_to_remove:\n",
        "  mumbai_crime_data = mumbai_crime_data.drop(mumbai_crime_data[mumbai_crime_data['DESCRIPTION_OF_OFFENSE']== crime].index)\n"
      ],
      "execution_count": 0,
      "outputs": []
    },
    {
      "cell_type": "code",
      "metadata": {
        "id": "OZ5ikxL3Sux8",
        "colab_type": "code",
        "outputId": "db02c10d-0782-4894-ee91-37aeb48b1aeb",
        "colab": {
          "base_uri": "https://localhost:8080/",
          "height": 372
        }
      },
      "source": [
        "mumbai_crime_data['DESCRIPTION_OF_OFFENSE'].value_counts()"
      ],
      "execution_count": 0,
      "outputs": [
        {
          "output_type": "execute_result",
          "data": {
            "text/plain": [
              "HARRASSMENT 2                                  37572\n",
              "PETIT LARCENY                                  32543\n",
              "ASSAULT 3 & RELATED OFFENSES                   31110\n",
              "CRIMINAL MISCHIEF & RELATED OF                 23107\n",
              "GRAND LARCENY                                  22624\n",
              "ROBBERY                                        12133\n",
              "FELONY ASSAULT                                  9913\n",
              "BURGLARY                                        9126\n",
              "GRAND LARCENY OF MOTOR VEHICLE                  6850\n",
              "THEFT-FRAUD                                     3358\n",
              "SEX CRIMES:RAPE,SEXUAL ASSAULT,PROSTITUTION     3291\n",
              "FRAUDS                                          1246\n",
              "RAPE                                             910\n",
              "CRIMINAL TRESPASS                                832\n",
              "MURDER & NON-NEGL. MANSLAUGHTER                  780\n",
              "UNAUTHORIZED USE OF A VEHICLE                    461\n",
              "INTOXICATED & IMPAIRED DRIVING                   253\n",
              "ARSON                                            166\n",
              "KIDNAPPING & RELATED OFFENSES                    154\n",
              "Name: DESCRIPTION_OF_OFFENSE, dtype: int64"
            ]
          },
          "metadata": {
            "tags": []
          },
          "execution_count": 21
        }
      ]
    },
    {
      "cell_type": "code",
      "metadata": {
        "id": "sFeOvmKFS6rX",
        "colab_type": "code",
        "colab": {}
      },
      "source": [
        "mumbai_crime_data['DESCRIPTION_OF_OFFENSE']=mumbai_crime_data['DESCRIPTION_OF_OFFENSE'].replace({'THEFT-FRAUD':'FRAUDS/THEFT-FRAUD',\n",
        "                                                                                                                   'FRAUDS':'FRAUDS/THEFT-FRAUD',\n",
        "                                                                                                 'SEX CRIMES':'SEX CRIMES:HARRASSMENT,SEXUAL ASSAULT,PROSTITUTION',\n",
        "                                                                                                 'HARRASSMENT 2':'SEX CRIMES:HARRASSMENT,SEXUAL ASSAULT,PROSTITUTION',\n",
        "                                                                                                 'ASSAULT 3 & RELATED OFFENSES':'ASSAULT','FELONY ASSAULT':'ASSAULT',\n",
        "                                                                                                 'BURGLARY':'BURGLARY/ROBBERY','ROBBERY':'BURGLARY/ROBBERY',\n",
        "                                                                                                 'PETIT LARCENY':'LARCENY','GRAND LARCENY':'LARCENY',\n",
        "                                                                                                 'GRAND LARCENY OF MOTOR VEHICLE' :'LARCENY/UNAUTHORISED USE OF MOTOR VEHICLE',\n",
        "                                                                                                 'UNAUTHORIZED USE OF A VEHICLE':'LARCENY/UNAUTHORISED USE OF MOTOR VEHICLE',\n",
        "                                                                                                 'CRIMINAL MISCHIEF & RELATED OF':'CRIMINAL MISCHIEF/TRESPASS',\n",
        "                                                                                                 'CRIMINAL TRESPASS':'CRIMINAL MISCHIEF/TRESPASS'})"
      ],
      "execution_count": 0,
      "outputs": []
    },
    {
      "cell_type": "code",
      "metadata": {
        "id": "BFmRB76uTDIf",
        "colab_type": "code",
        "outputId": "2fcfeb4f-20d0-4aa6-f918-f9cdce40e8b1",
        "colab": {
          "base_uri": "https://localhost:8080/",
          "height": 266
        }
      },
      "source": [
        "mumbai_crime_data['DESCRIPTION_OF_OFFENSE'].value_counts()"
      ],
      "execution_count": 0,
      "outputs": [
        {
          "output_type": "execute_result",
          "data": {
            "text/plain": [
              "LARCENY                                               55167\n",
              "ASSAULT                                               41023\n",
              "SEX CRIMES:HARRASSMENT,SEXUAL ASSAULT,PROSTITUTION    37572\n",
              "CRIMINAL MISCHIEF/TRESPASS                            23939\n",
              "BURGLARY/ROBBERY                                      21259\n",
              "LARCENY/UNAUTHORISED USE OF MOTOR VEHICLE              7311\n",
              "FRAUDS/THEFT-FRAUD                                     4604\n",
              "SEX CRIMES:RAPE,SEXUAL ASSAULT,PROSTITUTION            3291\n",
              "RAPE                                                    910\n",
              "MURDER & NON-NEGL. MANSLAUGHTER                         780\n",
              "INTOXICATED & IMPAIRED DRIVING                          253\n",
              "ARSON                                                   166\n",
              "KIDNAPPING & RELATED OFFENSES                           154\n",
              "Name: DESCRIPTION_OF_OFFENSE, dtype: int64"
            ]
          },
          "metadata": {
            "tags": []
          },
          "execution_count": 23
        }
      ]
    },
    {
      "cell_type": "markdown",
      "metadata": {
        "id": "Uoj6fIiw7c8U",
        "colab_type": "text"
      },
      "source": [
        "####Removing outliers or crimes with min frequency"
      ]
    },
    {
      "cell_type": "code",
      "metadata": {
        "id": "mR-sE9YCiFav",
        "colab_type": "code",
        "outputId": "cf86e358-89b9-4025-a309-fa55b041c8c8",
        "colab": {
          "base_uri": "https://localhost:8080/",
          "height": 266
        }
      },
      "source": [
        "mumbai_crime_data['DESCRIPTION_OF_OFFENSE'].value_counts()"
      ],
      "execution_count": 0,
      "outputs": [
        {
          "output_type": "execute_result",
          "data": {
            "text/plain": [
              "LARCENY                                               55167\n",
              "ASSAULT                                               41023\n",
              "SEX CRIMES:HARRASSMENT,SEXUAL ASSAULT,PROSTITUTION    37572\n",
              "CRIMINAL MISCHIEF/TRESPASS                            23939\n",
              "BURGLARY/ROBBERY                                      21259\n",
              "LARCENY/UNAUTHORISED USE OF MOTOR VEHICLE              7311\n",
              "FRAUDS/THEFT-FRAUD                                     4604\n",
              "SEX CRIMES:RAPE,SEXUAL ASSAULT,PROSTITUTION            3291\n",
              "RAPE                                                    910\n",
              "MURDER & NON-NEGL. MANSLAUGHTER                         780\n",
              "INTOXICATED & IMPAIRED DRIVING                          253\n",
              "ARSON                                                   166\n",
              "KIDNAPPING & RELATED OFFENSES                           154\n",
              "Name: DESCRIPTION_OF_OFFENSE, dtype: int64"
            ]
          },
          "metadata": {
            "tags": []
          },
          "execution_count": 24
        }
      ]
    },
    {
      "cell_type": "code",
      "metadata": {
        "id": "HK5k62A2i7tH",
        "colab_type": "code",
        "outputId": "9d48a07d-5446-473d-c5df-bbbaaa956dcb",
        "colab": {
          "base_uri": "https://localhost:8080/",
          "height": 266
        }
      },
      "source": [
        "mumbai_crime_data['DESCRIPTION_OF_OFFENSE'].value_counts()"
      ],
      "execution_count": 0,
      "outputs": [
        {
          "output_type": "execute_result",
          "data": {
            "text/plain": [
              "LARCENY                                               55167\n",
              "ASSAULT                                               41023\n",
              "SEX CRIMES:HARRASSMENT,SEXUAL ASSAULT,PROSTITUTION    37572\n",
              "CRIMINAL MISCHIEF/TRESPASS                            23939\n",
              "BURGLARY/ROBBERY                                      21259\n",
              "LARCENY/UNAUTHORISED USE OF MOTOR VEHICLE              7311\n",
              "FRAUDS/THEFT-FRAUD                                     4604\n",
              "SEX CRIMES:RAPE,SEXUAL ASSAULT,PROSTITUTION            3291\n",
              "RAPE                                                    910\n",
              "MURDER & NON-NEGL. MANSLAUGHTER                         780\n",
              "INTOXICATED & IMPAIRED DRIVING                          253\n",
              "ARSON                                                   166\n",
              "KIDNAPPING & RELATED OFFENSES                           154\n",
              "Name: DESCRIPTION_OF_OFFENSE, dtype: int64"
            ]
          },
          "metadata": {
            "tags": []
          },
          "execution_count": 25
        }
      ]
    },
    {
      "cell_type": "code",
      "metadata": {
        "id": "NE9BLQ6XVNtq",
        "colab_type": "code",
        "colab": {}
      },
      "source": [
        ""
      ],
      "execution_count": 0,
      "outputs": []
    },
    {
      "cell_type": "markdown",
      "metadata": {
        "id": "anFTN4Uj0Nyp",
        "colab_type": "text"
      },
      "source": [
        "#####Preprocessing and studying 'OFFENSE_DESCRIPTION_IN_DETAIL' column"
      ]
    },
    {
      "cell_type": "code",
      "metadata": {
        "id": "f0ZzmDAkfC7Y",
        "colab_type": "code",
        "outputId": "dd3ac736-6f81-4a35-f9fb-86ef994c3b05",
        "colab": {
          "base_uri": "https://localhost:8080/",
          "height": 230
        }
      },
      "source": [
        "#getting unique values in OFFENSE_DESCRIPTION_IN_DETAIL column\n",
        "\n",
        "mumbai_crime_data['OFFENSE_DESCRIPTION_IN_DETAIL'].value_counts()\n",
        "#print(mumbai_crime_data['OFFENSE_DESCRIPTION_IN_DETAIL'].unique())\n"
      ],
      "execution_count": 0,
      "outputs": [
        {
          "output_type": "execute_result",
          "data": {
            "text/plain": [
              "ASSAULT 3                                             26707\n",
              "HARASSMENT,SUBD 3,4,5                                 21919\n",
              "HARASSMENT,SUBD 1,CIVILIAN                            15654\n",
              "LARCENY,PETIT FROM AUTO                               11972\n",
              "MISCHIEF, CRIMINAL 4, OF MOTOR                        11890\n",
              "                                                      ...  \n",
              "LARCENY,GRAND OF BOAT                                     1\n",
              "LARCENY,GRAND FROM RESIDENCE, UNATTENDED                  1\n",
              "PROSTITUTION 2, UNDER 16                                  1\n",
              "PROSTITUTION                                              1\n",
              "LARCENY,GRAND BY BANK ACCT COMPROMISE-UNCLASSIFIED        1\n",
              "Name: OFFENSE_DESCRIPTION_IN_DETAIL, Length: 161, dtype: int64"
            ]
          },
          "metadata": {
            "tags": []
          },
          "execution_count": 26
        }
      ]
    },
    {
      "cell_type": "code",
      "metadata": {
        "id": "Hve7GVkHfbYx",
        "colab_type": "code",
        "colab": {}
      },
      "source": [
        "\n",
        "#removing OFFENSE_DESCRIPTION_IN_DETAIL column because too detailed \n",
        "mumbai_crime_data.drop(['OFFENSE_DESCRIPTION_IN_DETAIL','CRIME_ACC_LAW'], axis =1, inplace = True)"
      ],
      "execution_count": 0,
      "outputs": []
    },
    {
      "cell_type": "code",
      "metadata": {
        "id": "cS6yvwvmhbna",
        "colab_type": "code",
        "outputId": "9f26a538-0be4-46b7-87a0-8f5230e201ee",
        "colab": {
          "base_uri": "https://localhost:8080/",
          "height": 234
        }
      },
      "source": [
        "mumbai_crime_data.head()"
      ],
      "execution_count": 0,
      "outputs": [
        {
          "output_type": "execute_result",
          "data": {
            "text/html": [
              "<div>\n",
              "<style scoped>\n",
              "    .dataframe tbody tr th:only-of-type {\n",
              "        vertical-align: middle;\n",
              "    }\n",
              "\n",
              "    .dataframe tbody tr th {\n",
              "        vertical-align: top;\n",
              "    }\n",
              "\n",
              "    .dataframe thead th {\n",
              "        text-align: right;\n",
              "    }\n",
              "</style>\n",
              "<table border=\"1\" class=\"dataframe\">\n",
              "  <thead>\n",
              "    <tr style=\"text-align: right;\">\n",
              "      <th></th>\n",
              "      <th>FILING_DATE_OF_COMPLAINT</th>\n",
              "      <th>DESCRIPTION_OF_OFFENSE</th>\n",
              "      <th>OFFENSE_DESCRIPTION_IN_DETAIL</th>\n",
              "      <th>PLACE_OF_CRIME</th>\n",
              "      <th>CRIME_ACC_LAW</th>\n",
              "      <th>AREA_OF_CRIME</th>\n",
              "      <th>VIC_AGE_GROUP</th>\n",
              "      <th>VIC_SEX</th>\n",
              "    </tr>\n",
              "  </thead>\n",
              "  <tbody>\n",
              "    <tr>\n",
              "      <th>0</th>\n",
              "      <td>04/10/2008</td>\n",
              "      <td>LARCENY</td>\n",
              "      <td>LARCENY,PETIT FROM AUTO</td>\n",
              "      <td>STREET</td>\n",
              "      <td>MISDEMEANOR</td>\n",
              "      <td>THANE</td>\n",
              "      <td>18-24</td>\n",
              "      <td>M</td>\n",
              "    </tr>\n",
              "    <tr>\n",
              "      <th>1</th>\n",
              "      <td>04/11/2006</td>\n",
              "      <td>FRAUDS/THEFT-FRAUD</td>\n",
              "      <td>FRAUD,UNCLASSIFIED-FELONY</td>\n",
              "      <td>COMMERCIAL BUILDING</td>\n",
              "      <td>FELONY</td>\n",
              "      <td>DADAR</td>\n",
              "      <td>25-44</td>\n",
              "      <td>M</td>\n",
              "    </tr>\n",
              "    <tr>\n",
              "      <th>2</th>\n",
              "      <td>04/21/2006</td>\n",
              "      <td>BURGLARY/ROBBERY</td>\n",
              "      <td>ROBBERY,DWELLING</td>\n",
              "      <td>RESIDENCE - PUBLIC HOUSING</td>\n",
              "      <td>FELONY</td>\n",
              "      <td>BORIVALI</td>\n",
              "      <td>25-44</td>\n",
              "      <td>M</td>\n",
              "    </tr>\n",
              "    <tr>\n",
              "      <th>4</th>\n",
              "      <td>08/12/2007</td>\n",
              "      <td>ASSAULT</td>\n",
              "      <td>ASSAULT 2,1,UNCLASSIFIED</td>\n",
              "      <td>STREET</td>\n",
              "      <td>FELONY</td>\n",
              "      <td>NAVI MUMBAI</td>\n",
              "      <td>&lt;18</td>\n",
              "      <td>M</td>\n",
              "    </tr>\n",
              "    <tr>\n",
              "      <th>5</th>\n",
              "      <td>08/15/2006</td>\n",
              "      <td>LARCENY</td>\n",
              "      <td>LARCENY,GRAND FROM PERSON,UNCL</td>\n",
              "      <td>STREET</td>\n",
              "      <td>FELONY</td>\n",
              "      <td>ANDHERI</td>\n",
              "      <td>&lt;18</td>\n",
              "      <td>F</td>\n",
              "    </tr>\n",
              "  </tbody>\n",
              "</table>\n",
              "</div>"
            ],
            "text/plain": [
              "  FILING_DATE_OF_COMPLAINT DESCRIPTION_OF_OFFENSE  ... VIC_AGE_GROUP VIC_SEX\n",
              "0               04/10/2008                LARCENY  ...         18-24       M\n",
              "1               04/11/2006     FRAUDS/THEFT-FRAUD  ...         25-44       M\n",
              "2               04/21/2006       BURGLARY/ROBBERY  ...         25-44       M\n",
              "4               08/12/2007                ASSAULT  ...           <18       M\n",
              "5               08/15/2006                LARCENY  ...           <18       F\n",
              "\n",
              "[5 rows x 8 columns]"
            ]
          },
          "metadata": {
            "tags": []
          },
          "execution_count": 27
        }
      ]
    },
    {
      "cell_type": "markdown",
      "metadata": {
        "id": "H0fn3BAGz8JS",
        "colab_type": "text"
      },
      "source": [
        "#####Preprocessing 'VIC_AGE_GROUP' Column"
      ]
    },
    {
      "cell_type": "code",
      "metadata": {
        "id": "MdJB120ahgBd",
        "colab_type": "code",
        "outputId": "61b13f65-6e75-45ba-d0e1-3fe823490b70",
        "colab": {
          "base_uri": "https://localhost:8080/",
          "height": 639
        }
      },
      "source": [
        "# analyzing data in VIC_AGE_GROUP data\n",
        "mumbai_crime_data['VIC_AGE_GROUP'].value_counts()\n"
      ],
      "execution_count": 0,
      "outputs": [
        {
          "output_type": "execute_result",
          "data": {
            "text/plain": [
              "25-44      86695\n",
              "45-64      44140\n",
              "18-24      28937\n",
              "<18        15287\n",
              "65+         8543\n",
              "UNKNOWN      200\n",
              "810            2\n",
              "962            1\n",
              "-923           1\n",
              "-32            1\n",
              "-1             1\n",
              "922            1\n",
              "914            1\n",
              "887            1\n",
              "-962           1\n",
              "-969           1\n",
              "937            1\n",
              "-982           1\n",
              "-957           1\n",
              "932            1\n",
              "980            1\n",
              "999            1\n",
              "936            1\n",
              "-975           1\n",
              "-961           1\n",
              "711            1\n",
              "309            1\n",
              "924            1\n",
              "933            1\n",
              "-950           1\n",
              "928            1\n",
              "152            1\n",
              "938            1\n",
              "941            1\n",
              "Name: VIC_AGE_GROUP, dtype: int64"
            ]
          },
          "metadata": {
            "tags": []
          },
          "execution_count": 28
        }
      ]
    },
    {
      "cell_type": "code",
      "metadata": {
        "id": "rFDBpuvCfFAw",
        "colab_type": "code",
        "outputId": "f93e4aeb-9734-477d-9100-358960de4f56",
        "colab": {
          "base_uri": "https://localhost:8080/",
          "height": 106
        }
      },
      "source": [
        "list_age  = mumbai_crime_data['VIC_AGE_GROUP'].unique()\n",
        "list_age"
      ],
      "execution_count": 0,
      "outputs": [
        {
          "output_type": "execute_result",
          "data": {
            "text/plain": [
              "array(['18-24', '25-44', '<18', '45-64', 'UNKNOWN', nan, '65+', '887',\n",
              "       '-962', '914', '936', '932', '999', '941', '810', '-961', '928',\n",
              "       '980', '937', '-957', '711', '-923', '922', '-982', '938', '924',\n",
              "       '933', '309', '-1', '152', '962', '-950', '-32', '-969', '-975'],\n",
              "      dtype=object)"
            ]
          },
          "metadata": {
            "tags": []
          },
          "execution_count": 29
        }
      ]
    },
    {
      "cell_type": "code",
      "metadata": {
        "id": "lYWV9pvCfNoz",
        "colab_type": "code",
        "colab": {}
      },
      "source": [
        "list_age_to_remove = ['UNKNOWN','887',\n",
        "       '-78', '-962', '914', '947', '936', '932', '999', '941', '810',\n",
        "       '-959', '-961', '928', '980', '937', '929', '-957', '942', '-954',\n",
        "       '711', '-923', '922', '927', '-982', '938', '924', '933', '309',\n",
        "       '-1', '152', '962', '-950', '-32', '-969', '-975']"
      ],
      "execution_count": 0,
      "outputs": []
    },
    {
      "cell_type": "code",
      "metadata": {
        "id": "LIFSNVPJfrpY",
        "colab_type": "code",
        "colab": {}
      },
      "source": [
        "for i in list_age_to_remove:\n",
        "  mumbai_crime_data = mumbai_crime_data.drop(mumbai_crime_data[mumbai_crime_data['VIC_AGE_GROUP']== i].index)\n",
        "\n"
      ],
      "execution_count": 0,
      "outputs": []
    },
    {
      "cell_type": "code",
      "metadata": {
        "id": "ITslUZ6WgAyv",
        "colab_type": "code",
        "outputId": "4c7fd8fc-d431-48a2-e257-8e8823fa3d7e",
        "colab": {
          "base_uri": "https://localhost:8080/",
          "height": 124
        }
      },
      "source": [
        "mumbai_crime_data['VIC_AGE_GROUP'].value_counts()"
      ],
      "execution_count": 0,
      "outputs": [
        {
          "output_type": "execute_result",
          "data": {
            "text/plain": [
              "25-44    86695\n",
              "45-64    44140\n",
              "18-24    28937\n",
              "<18      15287\n",
              "65+       8543\n",
              "Name: VIC_AGE_GROUP, dtype: int64"
            ]
          },
          "metadata": {
            "tags": []
          },
          "execution_count": 32
        }
      ]
    },
    {
      "cell_type": "code",
      "metadata": {
        "id": "WL19WWO9yCVG",
        "colab_type": "code",
        "outputId": "8f681ad1-a646-45c6-fac9-1e4c23ac8675",
        "colab": {
          "base_uri": "https://localhost:8080/",
          "height": 35
        }
      },
      "source": [
        "mumbai_crime_data.shape   #Getting the shape of our dataframe\n"
      ],
      "execution_count": 0,
      "outputs": [
        {
          "output_type": "execute_result",
          "data": {
            "text/plain": [
              "(196726, 8)"
            ]
          },
          "metadata": {
            "tags": []
          },
          "execution_count": 33
        }
      ]
    },
    {
      "cell_type": "code",
      "metadata": {
        "id": "7MlU5WuWyGE7",
        "colab_type": "code",
        "outputId": "2c059bc7-3724-431b-ee19-b0a23c6c8678",
        "colab": {
          "base_uri": "https://localhost:8080/",
          "height": 948
        }
      },
      "source": [
        "mumbai_crime_data.tail(20) #To get the last 20 rows of our dataframe"
      ],
      "execution_count": 0,
      "outputs": [
        {
          "output_type": "execute_result",
          "data": {
            "text/html": [
              "<div>\n",
              "<style scoped>\n",
              "    .dataframe tbody tr th:only-of-type {\n",
              "        vertical-align: middle;\n",
              "    }\n",
              "\n",
              "    .dataframe tbody tr th {\n",
              "        vertical-align: top;\n",
              "    }\n",
              "\n",
              "    .dataframe thead th {\n",
              "        text-align: right;\n",
              "    }\n",
              "</style>\n",
              "<table border=\"1\" class=\"dataframe\">\n",
              "  <thead>\n",
              "    <tr style=\"text-align: right;\">\n",
              "      <th></th>\n",
              "      <th>FILING_DATE_OF_COMPLAINT</th>\n",
              "      <th>DESCRIPTION_OF_OFFENSE</th>\n",
              "      <th>OFFENSE_DESCRIPTION_IN_DETAIL</th>\n",
              "      <th>PLACE_OF_CRIME</th>\n",
              "      <th>CRIME_ACC_LAW</th>\n",
              "      <th>AREA_OF_CRIME</th>\n",
              "      <th>VIC_AGE_GROUP</th>\n",
              "      <th>VIC_SEX</th>\n",
              "    </tr>\n",
              "  </thead>\n",
              "  <tbody>\n",
              "    <tr>\n",
              "      <th>228050</th>\n",
              "      <td>01/01/2007</td>\n",
              "      <td>CRIMINAL MISCHIEF/TRESPASS</td>\n",
              "      <td>CRIMINAL MISCHIEF,UNCLASSIFIED 4</td>\n",
              "      <td>RESIDENCE - APT. HOUSE</td>\n",
              "      <td>MISDEMEANOR</td>\n",
              "      <td>NAVI MUMBAI</td>\n",
              "      <td>25-44</td>\n",
              "      <td>F</td>\n",
              "    </tr>\n",
              "    <tr>\n",
              "      <th>228051</th>\n",
              "      <td>06/06/2009</td>\n",
              "      <td>LARCENY</td>\n",
              "      <td>LARCENY,PETIT OF BICYCLE</td>\n",
              "      <td>STREET</td>\n",
              "      <td>MISDEMEANOR</td>\n",
              "      <td>ANDHERI</td>\n",
              "      <td>&lt;18</td>\n",
              "      <td>M</td>\n",
              "    </tr>\n",
              "    <tr>\n",
              "      <th>228052</th>\n",
              "      <td>04/25/2011</td>\n",
              "      <td>BURGLARY/ROBBERY</td>\n",
              "      <td>BURGLARY,RESIDENCE,DAY</td>\n",
              "      <td>RESIDENCE - APT. HOUSE</td>\n",
              "      <td>FELONY</td>\n",
              "      <td>ANDHERI</td>\n",
              "      <td>45-64</td>\n",
              "      <td>F</td>\n",
              "    </tr>\n",
              "    <tr>\n",
              "      <th>228054</th>\n",
              "      <td>08/09/2007</td>\n",
              "      <td>CRIMINAL MISCHIEF/TRESPASS</td>\n",
              "      <td>CRIMINAL MISCHIEF,UNCLASSIFIED 4</td>\n",
              "      <td>RESIDENCE - APT. HOUSE</td>\n",
              "      <td>MISDEMEANOR</td>\n",
              "      <td>NAVI MUMBAI</td>\n",
              "      <td>25-44</td>\n",
              "      <td>F</td>\n",
              "    </tr>\n",
              "    <tr>\n",
              "      <th>228055</th>\n",
              "      <td>11/03/2010</td>\n",
              "      <td>ASSAULT</td>\n",
              "      <td>ASSAULT 2,1,UNCLASSIFIED</td>\n",
              "      <td>RESIDENCE - APT. HOUSE</td>\n",
              "      <td>FELONY</td>\n",
              "      <td>ANDHERI</td>\n",
              "      <td>25-44</td>\n",
              "      <td>M</td>\n",
              "    </tr>\n",
              "    <tr>\n",
              "      <th>228057</th>\n",
              "      <td>11/09/2007</td>\n",
              "      <td>CRIMINAL MISCHIEF/TRESPASS</td>\n",
              "      <td>MISCHIEF, CRIMINAL 4, OF MOTOR</td>\n",
              "      <td>STREET</td>\n",
              "      <td>MISDEMEANOR</td>\n",
              "      <td>NAVI MUMBAI</td>\n",
              "      <td>NaN</td>\n",
              "      <td>M</td>\n",
              "    </tr>\n",
              "    <tr>\n",
              "      <th>228058</th>\n",
              "      <td>01/04/2010</td>\n",
              "      <td>SEX CRIMES:HARRASSMENT,SEXUAL ASSAULT,PROSTITU...</td>\n",
              "      <td>HARASSMENT,SUBD 3,4,5</td>\n",
              "      <td>STREET</td>\n",
              "      <td>VIOLATION</td>\n",
              "      <td>THANE</td>\n",
              "      <td>25-44</td>\n",
              "      <td>M</td>\n",
              "    </tr>\n",
              "    <tr>\n",
              "      <th>228060</th>\n",
              "      <td>07/22/2007</td>\n",
              "      <td>ASSAULT</td>\n",
              "      <td>ASSAULT 2,1,UNCLASSIFIED</td>\n",
              "      <td>OTHER</td>\n",
              "      <td>FELONY</td>\n",
              "      <td>THANE</td>\n",
              "      <td>25-44</td>\n",
              "      <td>F</td>\n",
              "    </tr>\n",
              "    <tr>\n",
              "      <th>228061</th>\n",
              "      <td>01/07/2009</td>\n",
              "      <td>ASSAULT</td>\n",
              "      <td>ASSAULT 3</td>\n",
              "      <td>STREET</td>\n",
              "      <td>MISDEMEANOR</td>\n",
              "      <td>THANE</td>\n",
              "      <td>&lt;18</td>\n",
              "      <td>F</td>\n",
              "    </tr>\n",
              "    <tr>\n",
              "      <th>228062</th>\n",
              "      <td>09/30/2006</td>\n",
              "      <td>SEX CRIMES:HARRASSMENT,SEXUAL ASSAULT,PROSTITU...</td>\n",
              "      <td>HARASSMENT,SUBD 3,4,5</td>\n",
              "      <td>RESIDENCE - APT. HOUSE</td>\n",
              "      <td>VIOLATION</td>\n",
              "      <td>THANE</td>\n",
              "      <td>25-44</td>\n",
              "      <td>F</td>\n",
              "    </tr>\n",
              "    <tr>\n",
              "      <th>228065</th>\n",
              "      <td>07/18/2006</td>\n",
              "      <td>ASSAULT</td>\n",
              "      <td>ASSAULT 3</td>\n",
              "      <td>RESIDENCE - PUBLIC HOUSING</td>\n",
              "      <td>MISDEMEANOR</td>\n",
              "      <td>THANE</td>\n",
              "      <td>18-24</td>\n",
              "      <td>F</td>\n",
              "    </tr>\n",
              "    <tr>\n",
              "      <th>228066</th>\n",
              "      <td>06/16/2008</td>\n",
              "      <td>ASSAULT</td>\n",
              "      <td>ASSAULT 3</td>\n",
              "      <td>STREET</td>\n",
              "      <td>MISDEMEANOR</td>\n",
              "      <td>THANE</td>\n",
              "      <td>25-44</td>\n",
              "      <td>F</td>\n",
              "    </tr>\n",
              "    <tr>\n",
              "      <th>228067</th>\n",
              "      <td>07/29/2008</td>\n",
              "      <td>SEX CRIMES:HARRASSMENT,SEXUAL ASSAULT,PROSTITU...</td>\n",
              "      <td>HARASSMENT,SUBD 3,4,5</td>\n",
              "      <td>STREET</td>\n",
              "      <td>VIOLATION</td>\n",
              "      <td>NAVI MUMBAI</td>\n",
              "      <td>45-64</td>\n",
              "      <td>M</td>\n",
              "    </tr>\n",
              "    <tr>\n",
              "      <th>228068</th>\n",
              "      <td>02/06/2006</td>\n",
              "      <td>LARCENY</td>\n",
              "      <td>LARCENY,GRAND FROM BUILDING (NON-RESIDENCE) UN...</td>\n",
              "      <td>RESTAURANT/DINER</td>\n",
              "      <td>FELONY</td>\n",
              "      <td>BORIVALI</td>\n",
              "      <td>18-24</td>\n",
              "      <td>F</td>\n",
              "    </tr>\n",
              "    <tr>\n",
              "      <th>228069</th>\n",
              "      <td>10/21/2008</td>\n",
              "      <td>ARSON</td>\n",
              "      <td>ARSON 2,3,4</td>\n",
              "      <td>RESIDENCE - APT. HOUSE</td>\n",
              "      <td>FELONY</td>\n",
              "      <td>THANE</td>\n",
              "      <td>NaN</td>\n",
              "      <td>M</td>\n",
              "    </tr>\n",
              "    <tr>\n",
              "      <th>228071</th>\n",
              "      <td>05/16/2010</td>\n",
              "      <td>LARCENY</td>\n",
              "      <td>LARCENY,GRAND FROM VEHICLE/MOTORCYCLE</td>\n",
              "      <td>NaN</td>\n",
              "      <td>FELONY</td>\n",
              "      <td>NAVI MUMBAI</td>\n",
              "      <td>NaN</td>\n",
              "      <td>NaN</td>\n",
              "    </tr>\n",
              "    <tr>\n",
              "      <th>228072</th>\n",
              "      <td>NaN</td>\n",
              "      <td>NaN</td>\n",
              "      <td>NaN</td>\n",
              "      <td>NaN</td>\n",
              "      <td>NaN</td>\n",
              "      <td>NaN</td>\n",
              "      <td>NaN</td>\n",
              "      <td>NaN</td>\n",
              "    </tr>\n",
              "    <tr>\n",
              "      <th>228073</th>\n",
              "      <td>NaN</td>\n",
              "      <td>NaN</td>\n",
              "      <td>NaN</td>\n",
              "      <td>NaN</td>\n",
              "      <td>NaN</td>\n",
              "      <td>NaN</td>\n",
              "      <td>NaN</td>\n",
              "      <td>NaN</td>\n",
              "    </tr>\n",
              "    <tr>\n",
              "      <th>228074</th>\n",
              "      <td>NaN</td>\n",
              "      <td>NaN</td>\n",
              "      <td>NaN</td>\n",
              "      <td>NaN</td>\n",
              "      <td>NaN</td>\n",
              "      <td>NaN</td>\n",
              "      <td>NaN</td>\n",
              "      <td>NaN</td>\n",
              "    </tr>\n",
              "    <tr>\n",
              "      <th>228075</th>\n",
              "      <td>NaN</td>\n",
              "      <td>NaN</td>\n",
              "      <td>NaN</td>\n",
              "      <td>NaN</td>\n",
              "      <td>NaN</td>\n",
              "      <td>NaN</td>\n",
              "      <td>NaN</td>\n",
              "      <td>NaN</td>\n",
              "    </tr>\n",
              "  </tbody>\n",
              "</table>\n",
              "</div>"
            ],
            "text/plain": [
              "       FILING_DATE_OF_COMPLAINT  ... VIC_SEX\n",
              "228050               01/01/2007  ...       F\n",
              "228051               06/06/2009  ...       M\n",
              "228052               04/25/2011  ...       F\n",
              "228054               08/09/2007  ...       F\n",
              "228055               11/03/2010  ...       M\n",
              "228057               11/09/2007  ...       M\n",
              "228058               01/04/2010  ...       M\n",
              "228060               07/22/2007  ...       F\n",
              "228061               01/07/2009  ...       F\n",
              "228062               09/30/2006  ...       F\n",
              "228065               07/18/2006  ...       F\n",
              "228066               06/16/2008  ...       F\n",
              "228067               07/29/2008  ...       M\n",
              "228068               02/06/2006  ...       F\n",
              "228069               10/21/2008  ...       M\n",
              "228071               05/16/2010  ...     NaN\n",
              "228072                      NaN  ...     NaN\n",
              "228073                      NaN  ...     NaN\n",
              "228074                      NaN  ...     NaN\n",
              "228075                      NaN  ...     NaN\n",
              "\n",
              "[20 rows x 8 columns]"
            ]
          },
          "metadata": {
            "tags": []
          },
          "execution_count": 34
        }
      ]
    },
    {
      "cell_type": "markdown",
      "metadata": {
        "id": "Bg_WmGZl03tc",
        "colab_type": "text"
      },
      "source": [
        "#### Removing rows with no data"
      ]
    },
    {
      "cell_type": "code",
      "metadata": {
        "id": "_eBaHCLYyNwH",
        "colab_type": "code",
        "colab": {}
      },
      "source": [
        "mumbai_crime_data.dropna(inplace = True)    #removing rows with no data"
      ],
      "execution_count": 0,
      "outputs": []
    },
    {
      "cell_type": "code",
      "metadata": {
        "id": "Jt9CmfCcyUqW",
        "colab_type": "code",
        "outputId": "c9347001-a911-45b6-a935-d36fe0761977",
        "colab": {
          "base_uri": "https://localhost:8080/",
          "height": 35
        }
      },
      "source": [
        "mumbai_crime_data.shape #getting shape of dataframe after removing rows with no values"
      ],
      "execution_count": 0,
      "outputs": [
        {
          "output_type": "execute_result",
          "data": {
            "text/plain": [
              "(181190, 8)"
            ]
          },
          "metadata": {
            "tags": []
          },
          "execution_count": 36
        }
      ]
    },
    {
      "cell_type": "code",
      "metadata": {
        "id": "6R3dVr2QycDW",
        "colab_type": "code",
        "outputId": "a2baaba3-cb00-4881-ecbf-fe34044e361a",
        "colab": {
          "base_uri": "https://localhost:8080/",
          "height": 1000
        }
      },
      "source": [
        "mumbai_crime_data.tail(30) #getting last 30 rows of the dataframe to make sure the rows with NaN values were removed"
      ],
      "execution_count": 0,
      "outputs": [
        {
          "output_type": "execute_result",
          "data": {
            "text/html": [
              "<div>\n",
              "<style scoped>\n",
              "    .dataframe tbody tr th:only-of-type {\n",
              "        vertical-align: middle;\n",
              "    }\n",
              "\n",
              "    .dataframe tbody tr th {\n",
              "        vertical-align: top;\n",
              "    }\n",
              "\n",
              "    .dataframe thead th {\n",
              "        text-align: right;\n",
              "    }\n",
              "</style>\n",
              "<table border=\"1\" class=\"dataframe\">\n",
              "  <thead>\n",
              "    <tr style=\"text-align: right;\">\n",
              "      <th></th>\n",
              "      <th>FILING_DATE_OF_COMPLAINT</th>\n",
              "      <th>DESCRIPTION_OF_OFFENSE</th>\n",
              "      <th>OFFENSE_DESCRIPTION_IN_DETAIL</th>\n",
              "      <th>PLACE_OF_CRIME</th>\n",
              "      <th>CRIME_ACC_LAW</th>\n",
              "      <th>AREA_OF_CRIME</th>\n",
              "      <th>VIC_AGE_GROUP</th>\n",
              "      <th>VIC_SEX</th>\n",
              "    </tr>\n",
              "  </thead>\n",
              "  <tbody>\n",
              "    <tr>\n",
              "      <th>228027</th>\n",
              "      <td>12/17/2011</td>\n",
              "      <td>SEX CRIMES:HARRASSMENT,SEXUAL ASSAULT,PROSTITU...</td>\n",
              "      <td>HARASSMENT,SUBD 1,CIVILIAN</td>\n",
              "      <td>STREET</td>\n",
              "      <td>VIOLATION</td>\n",
              "      <td>THANE</td>\n",
              "      <td>25-44</td>\n",
              "      <td>F</td>\n",
              "    </tr>\n",
              "    <tr>\n",
              "      <th>228028</th>\n",
              "      <td>04/03/2011</td>\n",
              "      <td>LARCENY</td>\n",
              "      <td>LARCENY,PETIT OF LICENSE PLATE</td>\n",
              "      <td>STREET</td>\n",
              "      <td>MISDEMEANOR</td>\n",
              "      <td>THANE</td>\n",
              "      <td>25-44</td>\n",
              "      <td>M</td>\n",
              "    </tr>\n",
              "    <tr>\n",
              "      <th>228029</th>\n",
              "      <td>08/07/2008</td>\n",
              "      <td>LARCENY/UNAUTHORISED USE OF MOTOR VEHICLE</td>\n",
              "      <td>LARCENY,GRAND OF AUTO</td>\n",
              "      <td>STREET</td>\n",
              "      <td>FELONY</td>\n",
              "      <td>NAVI MUMBAI</td>\n",
              "      <td>25-44</td>\n",
              "      <td>M</td>\n",
              "    </tr>\n",
              "    <tr>\n",
              "      <th>228030</th>\n",
              "      <td>05/08/2010</td>\n",
              "      <td>SEX CRIMES:HARRASSMENT,SEXUAL ASSAULT,PROSTITU...</td>\n",
              "      <td>HARASSMENT,SUBD 3,4,5</td>\n",
              "      <td>RESIDENCE - PUBLIC HOUSING</td>\n",
              "      <td>VIOLATION</td>\n",
              "      <td>NAVI MUMBAI</td>\n",
              "      <td>25-44</td>\n",
              "      <td>F</td>\n",
              "    </tr>\n",
              "    <tr>\n",
              "      <th>228031</th>\n",
              "      <td>06/30/2008</td>\n",
              "      <td>ASSAULT</td>\n",
              "      <td>ASSAULT 3</td>\n",
              "      <td>RESIDENCE - APT. HOUSE</td>\n",
              "      <td>MISDEMEANOR</td>\n",
              "      <td>THANE</td>\n",
              "      <td>25-44</td>\n",
              "      <td>F</td>\n",
              "    </tr>\n",
              "    <tr>\n",
              "      <th>228032</th>\n",
              "      <td>05/02/2009</td>\n",
              "      <td>LARCENY</td>\n",
              "      <td>LARCENY,PETIT FROM BUILDING,UN</td>\n",
              "      <td>RESIDENCE - APT. HOUSE</td>\n",
              "      <td>MISDEMEANOR</td>\n",
              "      <td>DADAR</td>\n",
              "      <td>25-44</td>\n",
              "      <td>F</td>\n",
              "    </tr>\n",
              "    <tr>\n",
              "      <th>228033</th>\n",
              "      <td>07/06/2007</td>\n",
              "      <td>CRIMINAL MISCHIEF/TRESPASS</td>\n",
              "      <td>MISCHIEF, CRIMINAL 4, OF MOTOR</td>\n",
              "      <td>RESIDENCE - APT. HOUSE</td>\n",
              "      <td>MISDEMEANOR</td>\n",
              "      <td>DADAR</td>\n",
              "      <td>65+</td>\n",
              "      <td>F</td>\n",
              "    </tr>\n",
              "    <tr>\n",
              "      <th>228034</th>\n",
              "      <td>04/15/2010</td>\n",
              "      <td>SEX CRIMES:HARRASSMENT,SEXUAL ASSAULT,PROSTITU...</td>\n",
              "      <td>HARASSMENT,SUBD 3,4,5</td>\n",
              "      <td>COMMERCIAL BUILDING</td>\n",
              "      <td>VIOLATION</td>\n",
              "      <td>NAVI MUMBAI</td>\n",
              "      <td>45-64</td>\n",
              "      <td>M</td>\n",
              "    </tr>\n",
              "    <tr>\n",
              "      <th>228038</th>\n",
              "      <td>08/06/2011</td>\n",
              "      <td>LARCENY</td>\n",
              "      <td>LARCENY,PETIT OF BICYCLE</td>\n",
              "      <td>OTHER</td>\n",
              "      <td>MISDEMEANOR</td>\n",
              "      <td>ANDHERI</td>\n",
              "      <td>25-44</td>\n",
              "      <td>M</td>\n",
              "    </tr>\n",
              "    <tr>\n",
              "      <th>228040</th>\n",
              "      <td>10/05/2006</td>\n",
              "      <td>SEX CRIMES:HARRASSMENT,SEXUAL ASSAULT,PROSTITU...</td>\n",
              "      <td>HARASSMENT,SUBD 3,4,5</td>\n",
              "      <td>SCHOOL</td>\n",
              "      <td>VIOLATION</td>\n",
              "      <td>THANE</td>\n",
              "      <td>25-44</td>\n",
              "      <td>M</td>\n",
              "    </tr>\n",
              "    <tr>\n",
              "      <th>228041</th>\n",
              "      <td>03/31/2010</td>\n",
              "      <td>ASSAULT</td>\n",
              "      <td>ASSAULT 3</td>\n",
              "      <td>RESIDENCE - APT. HOUSE</td>\n",
              "      <td>MISDEMEANOR</td>\n",
              "      <td>THANE</td>\n",
              "      <td>45-64</td>\n",
              "      <td>F</td>\n",
              "    </tr>\n",
              "    <tr>\n",
              "      <th>228042</th>\n",
              "      <td>04/16/2010</td>\n",
              "      <td>CRIMINAL MISCHIEF/TRESPASS</td>\n",
              "      <td>CRIMINAL MISCHIEF,UNCLASSIFIED 4</td>\n",
              "      <td>RESIDENCE - PUBLIC HOUSING</td>\n",
              "      <td>MISDEMEANOR</td>\n",
              "      <td>THANE</td>\n",
              "      <td>25-44</td>\n",
              "      <td>M</td>\n",
              "    </tr>\n",
              "    <tr>\n",
              "      <th>228043</th>\n",
              "      <td>06/09/2008</td>\n",
              "      <td>BURGLARY/ROBBERY</td>\n",
              "      <td>ROBBERY,COMMERCIAL UNCLASSIFIED</td>\n",
              "      <td>RESIDENCE - APT. HOUSE</td>\n",
              "      <td>FELONY</td>\n",
              "      <td>THANE</td>\n",
              "      <td>25-44</td>\n",
              "      <td>M</td>\n",
              "    </tr>\n",
              "    <tr>\n",
              "      <th>228044</th>\n",
              "      <td>02/04/2006</td>\n",
              "      <td>LARCENY</td>\n",
              "      <td>LARCENY,GRAND FROM BUILDING (NON-RESIDENCE) UN...</td>\n",
              "      <td>RESTAURANT/DINER</td>\n",
              "      <td>FELONY</td>\n",
              "      <td>BORIVALI</td>\n",
              "      <td>18-24</td>\n",
              "      <td>F</td>\n",
              "    </tr>\n",
              "    <tr>\n",
              "      <th>228045</th>\n",
              "      <td>08/10/2007</td>\n",
              "      <td>LARCENY</td>\n",
              "      <td>LARCENY,GRAND FROM PERSON,UNCL</td>\n",
              "      <td>RESIDENCE - PUBLIC HOUSING</td>\n",
              "      <td>FELONY</td>\n",
              "      <td>THANE</td>\n",
              "      <td>18-24</td>\n",
              "      <td>F</td>\n",
              "    </tr>\n",
              "    <tr>\n",
              "      <th>228048</th>\n",
              "      <td>01/12/2006</td>\n",
              "      <td>LARCENY</td>\n",
              "      <td>LARCENY,GRAND FROM BUILDING (NON-RESIDENCE) UN...</td>\n",
              "      <td>RESIDENCE - APT. HOUSE</td>\n",
              "      <td>FELONY</td>\n",
              "      <td>THANE</td>\n",
              "      <td>25-44</td>\n",
              "      <td>M</td>\n",
              "    </tr>\n",
              "    <tr>\n",
              "      <th>228049</th>\n",
              "      <td>01/23/2009</td>\n",
              "      <td>LARCENY/UNAUTHORISED USE OF MOTOR VEHICLE</td>\n",
              "      <td>LARCENY,GRAND OF AUTO</td>\n",
              "      <td>STREET</td>\n",
              "      <td>FELONY</td>\n",
              "      <td>ANDHERI</td>\n",
              "      <td>25-44</td>\n",
              "      <td>M</td>\n",
              "    </tr>\n",
              "    <tr>\n",
              "      <th>228050</th>\n",
              "      <td>01/01/2007</td>\n",
              "      <td>CRIMINAL MISCHIEF/TRESPASS</td>\n",
              "      <td>CRIMINAL MISCHIEF,UNCLASSIFIED 4</td>\n",
              "      <td>RESIDENCE - APT. HOUSE</td>\n",
              "      <td>MISDEMEANOR</td>\n",
              "      <td>NAVI MUMBAI</td>\n",
              "      <td>25-44</td>\n",
              "      <td>F</td>\n",
              "    </tr>\n",
              "    <tr>\n",
              "      <th>228051</th>\n",
              "      <td>06/06/2009</td>\n",
              "      <td>LARCENY</td>\n",
              "      <td>LARCENY,PETIT OF BICYCLE</td>\n",
              "      <td>STREET</td>\n",
              "      <td>MISDEMEANOR</td>\n",
              "      <td>ANDHERI</td>\n",
              "      <td>&lt;18</td>\n",
              "      <td>M</td>\n",
              "    </tr>\n",
              "    <tr>\n",
              "      <th>228052</th>\n",
              "      <td>04/25/2011</td>\n",
              "      <td>BURGLARY/ROBBERY</td>\n",
              "      <td>BURGLARY,RESIDENCE,DAY</td>\n",
              "      <td>RESIDENCE - APT. HOUSE</td>\n",
              "      <td>FELONY</td>\n",
              "      <td>ANDHERI</td>\n",
              "      <td>45-64</td>\n",
              "      <td>F</td>\n",
              "    </tr>\n",
              "    <tr>\n",
              "      <th>228054</th>\n",
              "      <td>08/09/2007</td>\n",
              "      <td>CRIMINAL MISCHIEF/TRESPASS</td>\n",
              "      <td>CRIMINAL MISCHIEF,UNCLASSIFIED 4</td>\n",
              "      <td>RESIDENCE - APT. HOUSE</td>\n",
              "      <td>MISDEMEANOR</td>\n",
              "      <td>NAVI MUMBAI</td>\n",
              "      <td>25-44</td>\n",
              "      <td>F</td>\n",
              "    </tr>\n",
              "    <tr>\n",
              "      <th>228055</th>\n",
              "      <td>11/03/2010</td>\n",
              "      <td>ASSAULT</td>\n",
              "      <td>ASSAULT 2,1,UNCLASSIFIED</td>\n",
              "      <td>RESIDENCE - APT. HOUSE</td>\n",
              "      <td>FELONY</td>\n",
              "      <td>ANDHERI</td>\n",
              "      <td>25-44</td>\n",
              "      <td>M</td>\n",
              "    </tr>\n",
              "    <tr>\n",
              "      <th>228058</th>\n",
              "      <td>01/04/2010</td>\n",
              "      <td>SEX CRIMES:HARRASSMENT,SEXUAL ASSAULT,PROSTITU...</td>\n",
              "      <td>HARASSMENT,SUBD 3,4,5</td>\n",
              "      <td>STREET</td>\n",
              "      <td>VIOLATION</td>\n",
              "      <td>THANE</td>\n",
              "      <td>25-44</td>\n",
              "      <td>M</td>\n",
              "    </tr>\n",
              "    <tr>\n",
              "      <th>228060</th>\n",
              "      <td>07/22/2007</td>\n",
              "      <td>ASSAULT</td>\n",
              "      <td>ASSAULT 2,1,UNCLASSIFIED</td>\n",
              "      <td>OTHER</td>\n",
              "      <td>FELONY</td>\n",
              "      <td>THANE</td>\n",
              "      <td>25-44</td>\n",
              "      <td>F</td>\n",
              "    </tr>\n",
              "    <tr>\n",
              "      <th>228061</th>\n",
              "      <td>01/07/2009</td>\n",
              "      <td>ASSAULT</td>\n",
              "      <td>ASSAULT 3</td>\n",
              "      <td>STREET</td>\n",
              "      <td>MISDEMEANOR</td>\n",
              "      <td>THANE</td>\n",
              "      <td>&lt;18</td>\n",
              "      <td>F</td>\n",
              "    </tr>\n",
              "    <tr>\n",
              "      <th>228062</th>\n",
              "      <td>09/30/2006</td>\n",
              "      <td>SEX CRIMES:HARRASSMENT,SEXUAL ASSAULT,PROSTITU...</td>\n",
              "      <td>HARASSMENT,SUBD 3,4,5</td>\n",
              "      <td>RESIDENCE - APT. HOUSE</td>\n",
              "      <td>VIOLATION</td>\n",
              "      <td>THANE</td>\n",
              "      <td>25-44</td>\n",
              "      <td>F</td>\n",
              "    </tr>\n",
              "    <tr>\n",
              "      <th>228065</th>\n",
              "      <td>07/18/2006</td>\n",
              "      <td>ASSAULT</td>\n",
              "      <td>ASSAULT 3</td>\n",
              "      <td>RESIDENCE - PUBLIC HOUSING</td>\n",
              "      <td>MISDEMEANOR</td>\n",
              "      <td>THANE</td>\n",
              "      <td>18-24</td>\n",
              "      <td>F</td>\n",
              "    </tr>\n",
              "    <tr>\n",
              "      <th>228066</th>\n",
              "      <td>06/16/2008</td>\n",
              "      <td>ASSAULT</td>\n",
              "      <td>ASSAULT 3</td>\n",
              "      <td>STREET</td>\n",
              "      <td>MISDEMEANOR</td>\n",
              "      <td>THANE</td>\n",
              "      <td>25-44</td>\n",
              "      <td>F</td>\n",
              "    </tr>\n",
              "    <tr>\n",
              "      <th>228067</th>\n",
              "      <td>07/29/2008</td>\n",
              "      <td>SEX CRIMES:HARRASSMENT,SEXUAL ASSAULT,PROSTITU...</td>\n",
              "      <td>HARASSMENT,SUBD 3,4,5</td>\n",
              "      <td>STREET</td>\n",
              "      <td>VIOLATION</td>\n",
              "      <td>NAVI MUMBAI</td>\n",
              "      <td>45-64</td>\n",
              "      <td>M</td>\n",
              "    </tr>\n",
              "    <tr>\n",
              "      <th>228068</th>\n",
              "      <td>02/06/2006</td>\n",
              "      <td>LARCENY</td>\n",
              "      <td>LARCENY,GRAND FROM BUILDING (NON-RESIDENCE) UN...</td>\n",
              "      <td>RESTAURANT/DINER</td>\n",
              "      <td>FELONY</td>\n",
              "      <td>BORIVALI</td>\n",
              "      <td>18-24</td>\n",
              "      <td>F</td>\n",
              "    </tr>\n",
              "  </tbody>\n",
              "</table>\n",
              "</div>"
            ],
            "text/plain": [
              "       FILING_DATE_OF_COMPLAINT  ... VIC_SEX\n",
              "228027               12/17/2011  ...       F\n",
              "228028               04/03/2011  ...       M\n",
              "228029               08/07/2008  ...       M\n",
              "228030               05/08/2010  ...       F\n",
              "228031               06/30/2008  ...       F\n",
              "228032               05/02/2009  ...       F\n",
              "228033               07/06/2007  ...       F\n",
              "228034               04/15/2010  ...       M\n",
              "228038               08/06/2011  ...       M\n",
              "228040               10/05/2006  ...       M\n",
              "228041               03/31/2010  ...       F\n",
              "228042               04/16/2010  ...       M\n",
              "228043               06/09/2008  ...       M\n",
              "228044               02/04/2006  ...       F\n",
              "228045               08/10/2007  ...       F\n",
              "228048               01/12/2006  ...       M\n",
              "228049               01/23/2009  ...       M\n",
              "228050               01/01/2007  ...       F\n",
              "228051               06/06/2009  ...       M\n",
              "228052               04/25/2011  ...       F\n",
              "228054               08/09/2007  ...       F\n",
              "228055               11/03/2010  ...       M\n",
              "228058               01/04/2010  ...       M\n",
              "228060               07/22/2007  ...       F\n",
              "228061               01/07/2009  ...       F\n",
              "228062               09/30/2006  ...       F\n",
              "228065               07/18/2006  ...       F\n",
              "228066               06/16/2008  ...       F\n",
              "228067               07/29/2008  ...       M\n",
              "228068               02/06/2006  ...       F\n",
              "\n",
              "[30 rows x 8 columns]"
            ]
          },
          "metadata": {
            "tags": []
          },
          "execution_count": 37
        }
      ]
    },
    {
      "cell_type": "code",
      "metadata": {
        "id": "MjiuJFZ_yuKX",
        "colab_type": "code",
        "outputId": "1befac28-08e5-4a9d-e3b7-818a6dfec75d",
        "colab": {
          "base_uri": "https://localhost:8080/",
          "height": 170
        }
      },
      "source": [
        "#getting description of data\n",
        "\n",
        "mumbai_crime_data.describe()"
      ],
      "execution_count": 0,
      "outputs": [
        {
          "output_type": "execute_result",
          "data": {
            "text/html": [
              "<div>\n",
              "<style scoped>\n",
              "    .dataframe tbody tr th:only-of-type {\n",
              "        vertical-align: middle;\n",
              "    }\n",
              "\n",
              "    .dataframe tbody tr th {\n",
              "        vertical-align: top;\n",
              "    }\n",
              "\n",
              "    .dataframe thead th {\n",
              "        text-align: right;\n",
              "    }\n",
              "</style>\n",
              "<table border=\"1\" class=\"dataframe\">\n",
              "  <thead>\n",
              "    <tr style=\"text-align: right;\">\n",
              "      <th></th>\n",
              "      <th>FILING_DATE_OF_COMPLAINT</th>\n",
              "      <th>DESCRIPTION_OF_OFFENSE</th>\n",
              "      <th>OFFENSE_DESCRIPTION_IN_DETAIL</th>\n",
              "      <th>PLACE_OF_CRIME</th>\n",
              "      <th>CRIME_ACC_LAW</th>\n",
              "      <th>AREA_OF_CRIME</th>\n",
              "      <th>VIC_AGE_GROUP</th>\n",
              "      <th>VIC_SEX</th>\n",
              "    </tr>\n",
              "  </thead>\n",
              "  <tbody>\n",
              "    <tr>\n",
              "      <th>count</th>\n",
              "      <td>181190</td>\n",
              "      <td>181190</td>\n",
              "      <td>181190</td>\n",
              "      <td>181190</td>\n",
              "      <td>181190</td>\n",
              "      <td>181190</td>\n",
              "      <td>181190</td>\n",
              "      <td>181190</td>\n",
              "    </tr>\n",
              "    <tr>\n",
              "      <th>unique</th>\n",
              "      <td>2792</td>\n",
              "      <td>12</td>\n",
              "      <td>147</td>\n",
              "      <td>51</td>\n",
              "      <td>3</td>\n",
              "      <td>5</td>\n",
              "      <td>5</td>\n",
              "      <td>2</td>\n",
              "    </tr>\n",
              "    <tr>\n",
              "      <th>top</th>\n",
              "      <td>04/21/2006</td>\n",
              "      <td>LARCENY</td>\n",
              "      <td>ASSAULT 3</td>\n",
              "      <td>STREET</td>\n",
              "      <td>MISDEMEANOR</td>\n",
              "      <td>THANE</td>\n",
              "      <td>25-44</td>\n",
              "      <td>F</td>\n",
              "    </tr>\n",
              "    <tr>\n",
              "      <th>freq</th>\n",
              "      <td>219</td>\n",
              "      <td>50892</td>\n",
              "      <td>25114</td>\n",
              "      <td>65972</td>\n",
              "      <td>82189</td>\n",
              "      <td>56319</td>\n",
              "      <td>85613</td>\n",
              "      <td>95767</td>\n",
              "    </tr>\n",
              "  </tbody>\n",
              "</table>\n",
              "</div>"
            ],
            "text/plain": [
              "       FILING_DATE_OF_COMPLAINT DESCRIPTION_OF_OFFENSE  ... VIC_AGE_GROUP VIC_SEX\n",
              "count                    181190                 181190  ...        181190  181190\n",
              "unique                     2792                     12  ...             5       2\n",
              "top                  04/21/2006                LARCENY  ...         25-44       F\n",
              "freq                        219                  50892  ...         85613   95767\n",
              "\n",
              "[4 rows x 8 columns]"
            ]
          },
          "metadata": {
            "tags": []
          },
          "execution_count": 38
        }
      ]
    },
    {
      "cell_type": "markdown",
      "metadata": {
        "id": "hRPcM7SO0-Ko",
        "colab_type": "text"
      },
      "source": [
        "### Data Visualization of the given data."
      ]
    },
    {
      "cell_type": "code",
      "metadata": {
        "id": "pCFp2sxqfND7",
        "colab_type": "code",
        "outputId": "da785c48-7cbd-43d4-982b-6a1bac3fad18",
        "colab": {
          "base_uri": "https://localhost:8080/",
          "height": 742
        }
      },
      "source": [
        "y_axis = mumbai_crime_data['DESCRIPTION_OF_OFFENSE']\n",
        "x_axis = mumbai_crime_data['AREA_OF_CRIME']\n",
        "plt.figure(figsize = (20,15))\n",
        "plt.scatter(x_axis, y_axis, alpha=0.5)\n",
        "plt.title('Visualization of dataset',color = 'grey',fontsize=30)\n",
        "plt.ylabel('Type of Crime',color = 'grey',fontsize= 20)\n",
        "plt.xlabel('Region  of Crime',color = 'grey',fontsize =20)\n",
        "plt.yticks(color = 'grey',fontsize =15 )\n",
        "plt.xticks(color = 'grey',fontsize = 15)\n",
        "plt.legend(labels = y_axis)\n",
        "\n",
        "plt.show()"
      ],
      "execution_count": 0,
      "outputs": [
        {
          "output_type": "display_data",
          "data": {
            "image/png": "[encoded data removed]",
            "text/plain": [
              "<Figure size 1440x1080 with 1 Axes>"
            ]
          },
          "metadata": {
            "tags": [],
            "needs_background": "dark"
          }
        }
      ]
    },
    {
      "cell_type": "code",
      "metadata": {
        "id": "eXWd2nlIgXQ8",
        "colab_type": "code",
        "colab": {}
      },
      "source": [
        "dfa= mumbai_crime_data['AREA_OF_CRIME'].value_counts()"
      ],
      "execution_count": 0,
      "outputs": []
    },
    {
      "cell_type": "code",
      "metadata": {
        "id": "eeGoYHIWoJtY",
        "colab_type": "code",
        "outputId": "c1f7afea-9a73-4bf7-c43c-99f8d3cb8116",
        "colab": {
          "base_uri": "https://localhost:8080/",
          "height": 592
        }
      },
      "source": [
        "#PIE CHART FOR CRIME DISTRIBUTION AGAINST DIFFERENT AREAS\n",
        "\n",
        "dfa.plot(kind='pie',figsize=(8,10),subplots = True,\n",
        "                            autopct='%1.1f%%', # add in percentages\n",
        "                            startangle=60,     # start angle 90\n",
        "                            shadow=True,       # add shadow      \n",
        "                            )\n",
        "#plt.ylabel(color = 'grey')\n",
        "plt.title('FREQUENCY OF CRIME', color = 'white',size = 15)\n",
        "plt.axis('equal') # Sets the pie chart to look like a circle.\n",
        "\n",
        "plt.legend(labels=dfa, loc='upper left') \n",
        "\n",
        "plt.show()"
      ],
      "execution_count": 0,
      "outputs": [
        {
          "output_type": "display_data",
          "data": {
            "image/png": "[encoded data removed]",
            "text/plain": [
              "<Figure size 576x720 with 1 Axes>"
            ]
          },
          "metadata": {
            "tags": []
          }
        }
      ]
    },
    {
      "cell_type": "code",
      "metadata": {
        "id": "iEixZ18n7YcG",
        "colab_type": "code",
        "outputId": "71d54802-6c16-4b0e-c513-1649d608698e",
        "colab": {
          "base_uri": "https://localhost:8080/",
          "height": 389
        }
      },
      "source": [
        "#BAR GRAPH FOR CRIME DISTRIBUTION AGAINST DIFFERENT AREAS\n",
        "\n",
        "dfa = pd.DataFrame(dfa)\n",
        "dfa.plot(kind = 'bar', color = \"pink\")\n",
        "plt.title('DISTRIBUTION OF CRIME AGAINST AREA', color = 'white',size = 15)\n",
        "\n",
        "\n",
        "plt.legend(labels=dfa, loc='upper right')\n",
        "plt.xlabel(\"AREA OF CRIME\", color = \"white\",fontsize = 10 )\n",
        "plt.ylabel(\"NO. OF CRIMES\",color = \"white\",fontsize = 10 )\n",
        "plt.yticks(color = 'white',fontsize =15 )\n",
        "plt.xticks(color = 'white',fontsize = 15)\n",
        "\n",
        "plt.show()"
      ],
      "execution_count": 0,
      "outputs": [
        {
          "output_type": "display_data",
          "data": {
            "image/png": "[encoded data removed]",
            "text/plain": [
              "<Figure size 432x288 with 1 Axes>"
            ]
          },
          "metadata": {
            "tags": [],
            "needs_background": "dark"
          }
        }
      ]
    },
    {
      "cell_type": "code",
      "metadata": {
        "id": "PIdFNT4iodrO",
        "colab_type": "code",
        "outputId": "b63f99d3-b57c-4649-c603-ca7f333bd84a",
        "colab": {
          "base_uri": "https://localhost:8080/",
          "height": 701
        }
      },
      "source": [
        "\n",
        "#PIE CHART FOR CRIME DISTRIBUTION AGAINST DIFFERENT AGE GROUPS\n",
        "cd1 =  mumbai_crime_data['VIC_AGE_GROUP'].value_counts()\n",
        "cd1.plot(kind='pie',figsize=(10,12),subplots = True,\n",
        "                            autopct='%1.1f%%', # add in percentages\n",
        "                            startangle=60,     # start angle 90\n",
        "                            shadow=True,       # add shadow      \n",
        "                            )\n",
        "\n",
        "plt.title('DISTRIBUTION OF CRIME AGAINST AGE GROUP', color = 'white',size = 15)\n",
        "plt.axis('equal') # Sets the pie chart to look like a circle.\n",
        "\n",
        "\n",
        "\n",
        "plt.show()\n"
      ],
      "execution_count": 0,
      "outputs": [
        {
          "output_type": "display_data",
          "data": {
            "image/png": "[encoded data removed]",
            "text/plain": [
              "<Figure size 720x864 with 1 Axes>"
            ]
          },
          "metadata": {
            "tags": []
          }
        }
      ]
    },
    {
      "cell_type": "code",
      "metadata": {
        "id": "fCin7QPZr0D1",
        "colab_type": "code",
        "outputId": "d1b0bd6b-e734-4c96-8b21-239d93678917",
        "colab": {
          "base_uri": "https://localhost:8080/",
          "height": 331
        }
      },
      "source": [
        "#BAR GRAPH FOR CRIME DISTRIBUTION AGAINST DIFFERENT AGE GROUPS\n",
        "\n",
        "cd1 = pd.DataFrame(cd1)\n",
        "cd1.plot(kind = 'bar', color = \"lightblue\")\n",
        "plt.title('DISTRIBUTION OF CRIME AGAINST AGE GROUP', color = 'white',size = 15)\n",
        "\n",
        "\n",
        "plt.legend(labels=cd1, loc='upper right')\n",
        "plt.xlabel(\"AGE GROUP\", color = \"white\",fontsize = 10 )\n",
        "plt.ylabel(\"NO. OF CRIMES\",color = \"white\",fontsize = 10 )\n",
        "plt.yticks(color = 'white',fontsize =15 )\n",
        "plt.xticks(color = 'white',fontsize = 15)\n",
        "\n",
        "plt.show()"
      ],
      "execution_count": 0,
      "outputs": [
        {
          "output_type": "display_data",
          "data": {
            "image/png": "[encoded data removed]",
            "text/plain": [
              "<Figure size 432x288 with 1 Axes>"
            ]
          },
          "metadata": {
            "tags": [],
            "needs_background": "dark"
          }
        }
      ]
    },
    {
      "cell_type": "code",
      "metadata": {
        "id": "8VzjVWfi113i",
        "colab_type": "code",
        "outputId": "2983fa2a-0472-4492-e3ef-634a8dc5f37c",
        "colab": {
          "base_uri": "https://localhost:8080/",
          "height": 296
        }
      },
      "source": [
        "\n",
        "#BAR GRAPH - NO OF CRIMES vs SEX OF VICTIM\n",
        "\n",
        "VC = pd.DataFrame(mumbai_crime_data['VIC_SEX'].value_counts()) #VC= datset for count of victim sex\n",
        "VC.plot(kind = 'bar')\n",
        "\n",
        "plt.title(\"COUNT OF CRIMES BASED ON GENDER\",color = \"white\", fontsize = 10)\n",
        "plt.xlabel(\"GENDER\", color = \"white\",fontsize = 10 )\n",
        "plt.ylabel(\"NO. OF CRIMES\",color = \"white\",fontsize = 10 )\n",
        "plt.yticks(color = 'white',fontsize =15 )\n",
        "plt.xticks(color = 'white',fontsize = 15)\n",
        "\n",
        "plt.show()"
      ],
      "execution_count": 0,
      "outputs": [
        {
          "output_type": "display_data",
          "data": {
            "image/png": "[encoded data removed]",
            "text/plain": [
              "<Figure size 432x288 with 1 Axes>"
            ]
          },
          "metadata": {
            "tags": [],
            "needs_background": "dark"
          }
        }
      ]
    },
    {
      "cell_type": "code",
      "metadata": {
        "id": "4oASMwMvtqOj",
        "colab_type": "code",
        "outputId": "82967943-7db8-4372-dd2a-836d2e184bf1",
        "colab": {
          "base_uri": "https://localhost:8080/",
          "height": 916
        }
      },
      "source": [
        "\n",
        "dcc = mumbai_crime_data['DESCRIPTION_OF_OFFENSE'].value_counts()\n",
        "\n",
        "dcc = pd.DataFrame(dcc)\n",
        "dch = dcc.head(24)\n",
        "dch.plot(kind = 'bar', color = \"lightgreen\",figsize = (15,7))\n",
        "\n",
        "plt.title('DISTRIBUTION OF TYPE CRIME', color = 'white',size = 15)\n",
        "\n",
        "\n",
        "plt.legend(labels=dch, loc='upper right')\n",
        "plt.xlabel(\"TYPE OF CRIME\", color = \"white\",fontsize = 15 )\n",
        "plt.ylabel(\"NO. OF CRIMES\",color = \"white\",fontsize = 15 )\n",
        "plt.yticks(color = 'white',fontsize =15 )\n",
        "plt.xticks(color = 'white',fontsize = 15)\n",
        "\n",
        "plt.show()"
      ],
      "execution_count": 0,
      "outputs": [
        {
          "output_type": "display_data",
          "data": {
            "image/png": "[encoded data removed]",
            "text/plain": [
              "<Figure size 1080x504 with 1 Axes>"
            ]
          },
          "metadata": {
            "tags": [],
            "needs_background": "dark"
          }
        }
      ]
    },
    {
      "cell_type": "code",
      "metadata": {
        "id": "GmDSwKxlPl3B",
        "colab_type": "code",
        "colab": {}
      },
      "source": [
        ""
      ],
      "execution_count": 0,
      "outputs": []
    },
    {
      "cell_type": "code",
      "metadata": {
        "id": "XxWaM5XLLQ4p",
        "colab_type": "code",
        "outputId": "7677caef-c6a1-4d36-b47c-d36bae1d2894",
        "colab": {
          "base_uri": "https://localhost:8080/",
          "height": 35
        }
      },
      "source": [
        "mumbai_crime_data.shape"
      ],
      "execution_count": 0,
      "outputs": [
        {
          "output_type": "execute_result",
          "data": {
            "text/plain": [
              "(181190, 8)"
            ]
          },
          "metadata": {
            "tags": []
          },
          "execution_count": 47
        }
      ]
    },
    {
      "cell_type": "code",
      "metadata": {
        "id": "Ryq_NlLYa0Io",
        "colab_type": "code",
        "outputId": "5b8e0d3e-dc95-43ab-aaa6-35bb96a4a868",
        "colab": {
          "base_uri": "https://localhost:8080/",
          "height": 234
        }
      },
      "source": [
        "mumbai_crime_data.head(5)"
      ],
      "execution_count": 0,
      "outputs": [
        {
          "output_type": "execute_result",
          "data": {
            "text/html": [
              "<div>\n",
              "<style scoped>\n",
              "    .dataframe tbody tr th:only-of-type {\n",
              "        vertical-align: middle;\n",
              "    }\n",
              "\n",
              "    .dataframe tbody tr th {\n",
              "        vertical-align: top;\n",
              "    }\n",
              "\n",
              "    .dataframe thead th {\n",
              "        text-align: right;\n",
              "    }\n",
              "</style>\n",
              "<table border=\"1\" class=\"dataframe\">\n",
              "  <thead>\n",
              "    <tr style=\"text-align: right;\">\n",
              "      <th></th>\n",
              "      <th>FILING_DATE_OF_COMPLAINT</th>\n",
              "      <th>DESCRIPTION_OF_OFFENSE</th>\n",
              "      <th>OFFENSE_DESCRIPTION_IN_DETAIL</th>\n",
              "      <th>PLACE_OF_CRIME</th>\n",
              "      <th>CRIME_ACC_LAW</th>\n",
              "      <th>AREA_OF_CRIME</th>\n",
              "      <th>VIC_AGE_GROUP</th>\n",
              "      <th>VIC_SEX</th>\n",
              "    </tr>\n",
              "  </thead>\n",
              "  <tbody>\n",
              "    <tr>\n",
              "      <th>0</th>\n",
              "      <td>04/10/2008</td>\n",
              "      <td>LARCENY</td>\n",
              "      <td>LARCENY,PETIT FROM AUTO</td>\n",
              "      <td>STREET</td>\n",
              "      <td>MISDEMEANOR</td>\n",
              "      <td>THANE</td>\n",
              "      <td>18-24</td>\n",
              "      <td>M</td>\n",
              "    </tr>\n",
              "    <tr>\n",
              "      <th>1</th>\n",
              "      <td>04/11/2006</td>\n",
              "      <td>FRAUDS/THEFT-FRAUD</td>\n",
              "      <td>FRAUD,UNCLASSIFIED-FELONY</td>\n",
              "      <td>COMMERCIAL BUILDING</td>\n",
              "      <td>FELONY</td>\n",
              "      <td>DADAR</td>\n",
              "      <td>25-44</td>\n",
              "      <td>M</td>\n",
              "    </tr>\n",
              "    <tr>\n",
              "      <th>2</th>\n",
              "      <td>04/21/2006</td>\n",
              "      <td>BURGLARY/ROBBERY</td>\n",
              "      <td>ROBBERY,DWELLING</td>\n",
              "      <td>RESIDENCE - PUBLIC HOUSING</td>\n",
              "      <td>FELONY</td>\n",
              "      <td>BORIVALI</td>\n",
              "      <td>25-44</td>\n",
              "      <td>M</td>\n",
              "    </tr>\n",
              "    <tr>\n",
              "      <th>4</th>\n",
              "      <td>08/12/2007</td>\n",
              "      <td>ASSAULT</td>\n",
              "      <td>ASSAULT 2,1,UNCLASSIFIED</td>\n",
              "      <td>STREET</td>\n",
              "      <td>FELONY</td>\n",
              "      <td>NAVI MUMBAI</td>\n",
              "      <td>&lt;18</td>\n",
              "      <td>M</td>\n",
              "    </tr>\n",
              "    <tr>\n",
              "      <th>5</th>\n",
              "      <td>08/15/2006</td>\n",
              "      <td>LARCENY</td>\n",
              "      <td>LARCENY,GRAND FROM PERSON,UNCL</td>\n",
              "      <td>STREET</td>\n",
              "      <td>FELONY</td>\n",
              "      <td>ANDHERI</td>\n",
              "      <td>&lt;18</td>\n",
              "      <td>F</td>\n",
              "    </tr>\n",
              "  </tbody>\n",
              "</table>\n",
              "</div>"
            ],
            "text/plain": [
              "  FILING_DATE_OF_COMPLAINT DESCRIPTION_OF_OFFENSE  ... VIC_AGE_GROUP VIC_SEX\n",
              "0               04/10/2008                LARCENY  ...         18-24       M\n",
              "1               04/11/2006     FRAUDS/THEFT-FRAUD  ...         25-44       M\n",
              "2               04/21/2006       BURGLARY/ROBBERY  ...         25-44       M\n",
              "4               08/12/2007                ASSAULT  ...           <18       M\n",
              "5               08/15/2006                LARCENY  ...           <18       F\n",
              "\n",
              "[5 rows x 8 columns]"
            ]
          },
          "metadata": {
            "tags": []
          },
          "execution_count": 48
        }
      ]
    },
    {
      "cell_type": "code",
      "metadata": {
        "id": "tTii3cllchUw",
        "colab_type": "code",
        "colab": {}
      },
      "source": [
        "mumbai_crime_data = mumbai_crime_data[['VIC_SEX','VIC_AGE_GROUP','PLACE_OF_CRIME','AREA_OF_CRIME','DESCRIPTION_OF_OFFENSE']]"
      ],
      "execution_count": 0,
      "outputs": []
    },
    {
      "cell_type": "code",
      "metadata": {
        "id": "G6DFkWayc3VV",
        "colab_type": "code",
        "outputId": "b7bffe05-de95-45d9-ebb4-416b2ff6e8e5",
        "colab": {
          "base_uri": "https://localhost:8080/",
          "height": 200
        }
      },
      "source": [
        "mumbai_crime_data.tail()"
      ],
      "execution_count": 0,
      "outputs": [
        {
          "output_type": "execute_result",
          "data": {
            "text/html": [
              "<div>\n",
              "<style scoped>\n",
              "    .dataframe tbody tr th:only-of-type {\n",
              "        vertical-align: middle;\n",
              "    }\n",
              "\n",
              "    .dataframe tbody tr th {\n",
              "        vertical-align: top;\n",
              "    }\n",
              "\n",
              "    .dataframe thead th {\n",
              "        text-align: right;\n",
              "    }\n",
              "</style>\n",
              "<table border=\"1\" class=\"dataframe\">\n",
              "  <thead>\n",
              "    <tr style=\"text-align: right;\">\n",
              "      <th></th>\n",
              "      <th>VIC_SEX</th>\n",
              "      <th>VIC_AGE_GROUP</th>\n",
              "      <th>PLACE_OF_CRIME</th>\n",
              "      <th>AREA_OF_CRIME</th>\n",
              "      <th>DESCRIPTION_OF_OFFENSE</th>\n",
              "    </tr>\n",
              "  </thead>\n",
              "  <tbody>\n",
              "    <tr>\n",
              "      <th>228062</th>\n",
              "      <td>F</td>\n",
              "      <td>25-44</td>\n",
              "      <td>RESIDENCE - APT. HOUSE</td>\n",
              "      <td>THANE</td>\n",
              "      <td>SEX CRIMES:HARRASSMENT,SEXUAL ASSAULT,PROSTITU...</td>\n",
              "    </tr>\n",
              "    <tr>\n",
              "      <th>228065</th>\n",
              "      <td>F</td>\n",
              "      <td>18-24</td>\n",
              "      <td>RESIDENCE - PUBLIC HOUSING</td>\n",
              "      <td>THANE</td>\n",
              "      <td>ASSAULT</td>\n",
              "    </tr>\n",
              "    <tr>\n",
              "      <th>228066</th>\n",
              "      <td>F</td>\n",
              "      <td>25-44</td>\n",
              "      <td>STREET</td>\n",
              "      <td>THANE</td>\n",
              "      <td>ASSAULT</td>\n",
              "    </tr>\n",
              "    <tr>\n",
              "      <th>228067</th>\n",
              "      <td>M</td>\n",
              "      <td>45-64</td>\n",
              "      <td>STREET</td>\n",
              "      <td>NAVI MUMBAI</td>\n",
              "      <td>SEX CRIMES:HARRASSMENT,SEXUAL ASSAULT,PROSTITU...</td>\n",
              "    </tr>\n",
              "    <tr>\n",
              "      <th>228068</th>\n",
              "      <td>F</td>\n",
              "      <td>18-24</td>\n",
              "      <td>RESTAURANT/DINER</td>\n",
              "      <td>BORIVALI</td>\n",
              "      <td>LARCENY</td>\n",
              "    </tr>\n",
              "  </tbody>\n",
              "</table>\n",
              "</div>"
            ],
            "text/plain": [
              "       VIC_SEX  ...                             DESCRIPTION_OF_OFFENSE\n",
              "228062       F  ...  SEX CRIMES:HARRASSMENT,SEXUAL ASSAULT,PROSTITU...\n",
              "228065       F  ...                                            ASSAULT\n",
              "228066       F  ...                                            ASSAULT\n",
              "228067       M  ...  SEX CRIMES:HARRASSMENT,SEXUAL ASSAULT,PROSTITU...\n",
              "228068       F  ...                                            LARCENY\n",
              "\n",
              "[5 rows x 5 columns]"
            ]
          },
          "metadata": {
            "tags": []
          },
          "execution_count": 50
        }
      ]
    },
    {
      "cell_type": "code",
      "metadata": {
        "id": "wR2-xkcYumHZ",
        "colab_type": "code",
        "outputId": "e0f8c7cb-6bb3-47b0-8f9f-1a4b46de4964",
        "colab": {
          "base_uri": "https://localhost:8080/",
          "height": 35
        }
      },
      "source": [
        "mumbai_crime_data.shape"
      ],
      "execution_count": 0,
      "outputs": [
        {
          "output_type": "execute_result",
          "data": {
            "text/plain": [
              "(181190, 5)"
            ]
          },
          "metadata": {
            "tags": []
          },
          "execution_count": 51
        }
      ]
    },
    {
      "cell_type": "code",
      "metadata": {
        "id": "2gwuUsSUc6Dm",
        "colab_type": "code",
        "outputId": "1ba0440a-aec4-4e72-d648-240b84e11eea",
        "colab": {
          "base_uri": "https://localhost:8080/",
          "height": 55
        }
      },
      "source": [
        "\n",
        "\n",
        "\"\"\"dcm = mumbai_crime_data['MONTH'].value_counts()\n",
        "dcm.plot(kind = 'bar', color = \"lightgreen\",figsize = (15,8)) \n",
        "\n",
        "plt.title('DISTRIBUTION OF CRIME OVER MONTHS', color = 'white',size = 15)\n",
        "\n",
        "\n",
        "plt.xlabel(\"MONTH\", color = \"white\",fontsize = 15 )\n",
        "plt.ylabel(\"NO. OF CRIMES\",color = \"white\",fontsize = 15 )\n",
        "plt.yticks(color = 'white',fontsize =15 )\n",
        "plt.xticks(color = 'white',fontsize = 15)\n",
        "\n",
        "\n",
        "plt.show()\"\"\""
      ],
      "execution_count": 0,
      "outputs": [
        {
          "output_type": "execute_result",
          "data": {
            "text/plain": [
              "'dcm = mumbai_crime_data[\\'MONTH\\'].value_counts()\\ndcm.plot(kind = \\'bar\\', color = \"lightgreen\",figsize = (15,8)) \\n\\nplt.title(\\'DISTRIBUTION OF CRIME OVER MONTHS\\', color = \\'white\\',size = 15)\\n\\n\\nplt.xlabel(\"MONTH\", color = \"white\",fontsize = 15 )\\nplt.ylabel(\"NO. OF CRIMES\",color = \"white\",fontsize = 15 )\\nplt.yticks(color = \\'white\\',fontsize =15 )\\nplt.xticks(color = \\'white\\',fontsize = 15)\\n\\n\\nplt.show()'"
            ]
          },
          "metadata": {
            "tags": []
          },
          "execution_count": 52
        }
      ]
    },
    {
      "cell_type": "code",
      "metadata": {
        "id": "OsnmD1hhRJ8n",
        "colab_type": "code",
        "colab": {}
      },
      "source": [
        "mumbai_crime_data2 = mumbai_crime_data"
      ],
      "execution_count": 0,
      "outputs": []
    },
    {
      "cell_type": "code",
      "metadata": {
        "id": "AioLMuy-Chqj",
        "colab_type": "code",
        "outputId": "27c95af0-ce0c-46e1-896f-64b664ed8503",
        "colab": {
          "base_uri": "https://localhost:8080/",
          "height": 200
        }
      },
      "source": [
        "mumbai_crime_data2.head()"
      ],
      "execution_count": 0,
      "outputs": [
        {
          "output_type": "execute_result",
          "data": {
            "text/html": [
              "<div>\n",
              "<style scoped>\n",
              "    .dataframe tbody tr th:only-of-type {\n",
              "        vertical-align: middle;\n",
              "    }\n",
              "\n",
              "    .dataframe tbody tr th {\n",
              "        vertical-align: top;\n",
              "    }\n",
              "\n",
              "    .dataframe thead th {\n",
              "        text-align: right;\n",
              "    }\n",
              "</style>\n",
              "<table border=\"1\" class=\"dataframe\">\n",
              "  <thead>\n",
              "    <tr style=\"text-align: right;\">\n",
              "      <th></th>\n",
              "      <th>VIC_SEX</th>\n",
              "      <th>VIC_AGE_GROUP</th>\n",
              "      <th>PLACE_OF_CRIME</th>\n",
              "      <th>AREA_OF_CRIME</th>\n",
              "      <th>DESCRIPTION_OF_OFFENSE</th>\n",
              "    </tr>\n",
              "  </thead>\n",
              "  <tbody>\n",
              "    <tr>\n",
              "      <th>0</th>\n",
              "      <td>M</td>\n",
              "      <td>18-24</td>\n",
              "      <td>STREET</td>\n",
              "      <td>THANE</td>\n",
              "      <td>LARCENY</td>\n",
              "    </tr>\n",
              "    <tr>\n",
              "      <th>1</th>\n",
              "      <td>M</td>\n",
              "      <td>25-44</td>\n",
              "      <td>COMMERCIAL BUILDING</td>\n",
              "      <td>DADAR</td>\n",
              "      <td>FRAUDS/THEFT-FRAUD</td>\n",
              "    </tr>\n",
              "    <tr>\n",
              "      <th>2</th>\n",
              "      <td>M</td>\n",
              "      <td>25-44</td>\n",
              "      <td>RESIDENCE - PUBLIC HOUSING</td>\n",
              "      <td>BORIVALI</td>\n",
              "      <td>BURGLARY/ROBBERY</td>\n",
              "    </tr>\n",
              "    <tr>\n",
              "      <th>4</th>\n",
              "      <td>M</td>\n",
              "      <td>&lt;18</td>\n",
              "      <td>STREET</td>\n",
              "      <td>NAVI MUMBAI</td>\n",
              "      <td>ASSAULT</td>\n",
              "    </tr>\n",
              "    <tr>\n",
              "      <th>5</th>\n",
              "      <td>F</td>\n",
              "      <td>&lt;18</td>\n",
              "      <td>STREET</td>\n",
              "      <td>ANDHERI</td>\n",
              "      <td>LARCENY</td>\n",
              "    </tr>\n",
              "  </tbody>\n",
              "</table>\n",
              "</div>"
            ],
            "text/plain": [
              "  VIC_SEX VIC_AGE_GROUP  ... AREA_OF_CRIME DESCRIPTION_OF_OFFENSE\n",
              "0       M         18-24  ...         THANE                LARCENY\n",
              "1       M         25-44  ...         DADAR     FRAUDS/THEFT-FRAUD\n",
              "2       M         25-44  ...      BORIVALI       BURGLARY/ROBBERY\n",
              "4       M           <18  ...   NAVI MUMBAI                ASSAULT\n",
              "5       F           <18  ...       ANDHERI                LARCENY\n",
              "\n",
              "[5 rows x 5 columns]"
            ]
          },
          "metadata": {
            "tags": []
          },
          "execution_count": 54
        }
      ]
    },
    {
      "cell_type": "markdown",
      "metadata": {
        "id": "mMQiwcVVb82X",
        "colab_type": "text"
      },
      "source": [
        "#### Down sampling to 113 rows per class"
      ]
    },
    {
      "cell_type": "code",
      "metadata": {
        "id": "aFRij7z9Wduy",
        "colab_type": "code",
        "outputId": "d5fcbe22-d457-487f-fe7a-9f896a01d64f",
        "colab": {
          "base_uri": "https://localhost:8080/",
          "height": 35
        }
      },
      "source": [
        "label= 'DESCRIPTION_OF_OFFENSE'\n",
        "\n",
        "g = mumbai_crime_data2.groupby(label, group_keys=False)\n",
        "mumbai_crime_data_balanced = pd.DataFrame(g.apply(lambda x: x.sample(g.size().min()))).reset_index(drop=True)\n",
        "g"
      ],
      "execution_count": 0,
      "outputs": [
        {
          "output_type": "execute_result",
          "data": {
            "text/plain": [
              "<pandas.core.groupby.generic.DataFrameGroupBy object at 0x7f04e43940b8>"
            ]
          },
          "metadata": {
            "tags": []
          },
          "execution_count": 55
        }
      ]
    },
    {
      "cell_type": "code",
      "metadata": {
        "id": "7CMfHElEWjBF",
        "colab_type": "code",
        "outputId": "e14a0379-5872-4068-bdcf-98e6c79c3ae4",
        "colab": {
          "base_uri": "https://localhost:8080/",
          "height": 200
        }
      },
      "source": [
        "mumbai_crime_data_balanced.head()"
      ],
      "execution_count": 0,
      "outputs": [
        {
          "output_type": "execute_result",
          "data": {
            "text/html": [
              "<div>\n",
              "<style scoped>\n",
              "    .dataframe tbody tr th:only-of-type {\n",
              "        vertical-align: middle;\n",
              "    }\n",
              "\n",
              "    .dataframe tbody tr th {\n",
              "        vertical-align: top;\n",
              "    }\n",
              "\n",
              "    .dataframe thead th {\n",
              "        text-align: right;\n",
              "    }\n",
              "</style>\n",
              "<table border=\"1\" class=\"dataframe\">\n",
              "  <thead>\n",
              "    <tr style=\"text-align: right;\">\n",
              "      <th></th>\n",
              "      <th>VIC_SEX</th>\n",
              "      <th>VIC_AGE_GROUP</th>\n",
              "      <th>PLACE_OF_CRIME</th>\n",
              "      <th>AREA_OF_CRIME</th>\n",
              "      <th>DESCRIPTION_OF_OFFENSE</th>\n",
              "    </tr>\n",
              "  </thead>\n",
              "  <tbody>\n",
              "    <tr>\n",
              "      <th>0</th>\n",
              "      <td>F</td>\n",
              "      <td>25-44</td>\n",
              "      <td>RESIDENCE - PUBLIC HOUSING</td>\n",
              "      <td>NAVI MUMBAI</td>\n",
              "      <td>ARSON</td>\n",
              "    </tr>\n",
              "    <tr>\n",
              "      <th>1</th>\n",
              "      <td>M</td>\n",
              "      <td>25-44</td>\n",
              "      <td>FOOD SUPERMARKET</td>\n",
              "      <td>DADAR</td>\n",
              "      <td>ARSON</td>\n",
              "    </tr>\n",
              "    <tr>\n",
              "      <th>2</th>\n",
              "      <td>F</td>\n",
              "      <td>25-44</td>\n",
              "      <td>STREET</td>\n",
              "      <td>BORIVALI</td>\n",
              "      <td>ARSON</td>\n",
              "    </tr>\n",
              "    <tr>\n",
              "      <th>3</th>\n",
              "      <td>F</td>\n",
              "      <td>45-64</td>\n",
              "      <td>RESIDENCE - PUBLIC HOUSING</td>\n",
              "      <td>NAVI MUMBAI</td>\n",
              "      <td>ARSON</td>\n",
              "    </tr>\n",
              "    <tr>\n",
              "      <th>4</th>\n",
              "      <td>F</td>\n",
              "      <td>25-44</td>\n",
              "      <td>RESIDENCE - APT. HOUSE</td>\n",
              "      <td>NAVI MUMBAI</td>\n",
              "      <td>ARSON</td>\n",
              "    </tr>\n",
              "  </tbody>\n",
              "</table>\n",
              "</div>"
            ],
            "text/plain": [
              "  VIC_SEX VIC_AGE_GROUP  ... AREA_OF_CRIME DESCRIPTION_OF_OFFENSE\n",
              "0       F         25-44  ...   NAVI MUMBAI                  ARSON\n",
              "1       M         25-44  ...         DADAR                  ARSON\n",
              "2       F         25-44  ...      BORIVALI                  ARSON\n",
              "3       F         45-64  ...   NAVI MUMBAI                  ARSON\n",
              "4       F         25-44  ...   NAVI MUMBAI                  ARSON\n",
              "\n",
              "[5 rows x 5 columns]"
            ]
          },
          "metadata": {
            "tags": []
          },
          "execution_count": 56
        }
      ]
    },
    {
      "cell_type": "code",
      "metadata": {
        "id": "fhIZRtpmWngV",
        "colab_type": "code",
        "outputId": "943aa114-afe0-466d-8d07-2c4bbb1e50e4",
        "colab": {
          "base_uri": "https://localhost:8080/",
          "height": 35
        }
      },
      "source": [
        "mumbai_crime_data_balanced.shape"
      ],
      "execution_count": 0,
      "outputs": [
        {
          "output_type": "execute_result",
          "data": {
            "text/plain": [
              "(1356, 5)"
            ]
          },
          "metadata": {
            "tags": []
          },
          "execution_count": 57
        }
      ]
    },
    {
      "cell_type": "code",
      "metadata": {
        "id": "4qJz8KDQRxpm",
        "colab_type": "code",
        "outputId": "b43ba846-8be7-4f09-fee4-f54361e2a530",
        "colab": {
          "base_uri": "https://localhost:8080/",
          "height": 248
        }
      },
      "source": [
        "mumbai_crime_data_balanced['DESCRIPTION_OF_OFFENSE'].value_counts()"
      ],
      "execution_count": 0,
      "outputs": [
        {
          "output_type": "execute_result",
          "data": {
            "text/plain": [
              "LARCENY                                               113\n",
              "CRIMINAL MISCHIEF/TRESPASS                            113\n",
              "RAPE                                                  113\n",
              "SEX CRIMES:RAPE,SEXUAL ASSAULT,PROSTITUTION           113\n",
              "LARCENY/UNAUTHORISED USE OF MOTOR VEHICLE             113\n",
              "ARSON                                                 113\n",
              "BURGLARY/ROBBERY                                      113\n",
              "FRAUDS/THEFT-FRAUD                                    113\n",
              "SEX CRIMES:HARRASSMENT,SEXUAL ASSAULT,PROSTITUTION    113\n",
              "KIDNAPPING & RELATED OFFENSES                         113\n",
              "ASSAULT                                               113\n",
              "INTOXICATED & IMPAIRED DRIVING                        113\n",
              "Name: DESCRIPTION_OF_OFFENSE, dtype: int64"
            ]
          },
          "metadata": {
            "tags": []
          },
          "execution_count": 58
        }
      ]
    },
    {
      "cell_type": "markdown",
      "metadata": {
        "id": "LAk2tH6ycDPG",
        "colab_type": "text"
      },
      "source": [
        "####Balancing dataset using both down an dup sampling"
      ]
    },
    {
      "cell_type": "code",
      "metadata": {
        "id": "NLVxL8tccJYw",
        "colab_type": "code",
        "colab": {}
      },
      "source": [
        "#separating majority and minority classes\n",
        "\n",
        "majority_crimes = ['LARCENY','ASSAULT','SEX CRIMES:HARRASSMENT,SEXUAL ASSAULT,PROSTITUTION', \n",
        "                   'CRIMINAL MISCHIEF/TRESPASS','BURGLARY/ROBBERY']\n",
        "\n",
        "crime_majority = mumbai_crime_data2[mumbai_crime_data2['DESCRIPTION_OF_OFFENSE'].isin(majority_crimes)]"
      ],
      "execution_count": 0,
      "outputs": []
    },
    {
      "cell_type": "code",
      "metadata": {
        "id": "eGvhU9jOfX8a",
        "colab_type": "code",
        "outputId": "eb69bdbc-59a9-4571-dfb4-13d07c62a3fb",
        "colab": {
          "base_uri": "https://localhost:8080/",
          "height": 200
        }
      },
      "source": [
        "crime_majority.head()"
      ],
      "execution_count": 0,
      "outputs": [
        {
          "output_type": "execute_result",
          "data": {
            "text/html": [
              "<div>\n",
              "<style scoped>\n",
              "    .dataframe tbody tr th:only-of-type {\n",
              "        vertical-align: middle;\n",
              "    }\n",
              "\n",
              "    .dataframe tbody tr th {\n",
              "        vertical-align: top;\n",
              "    }\n",
              "\n",
              "    .dataframe thead th {\n",
              "        text-align: right;\n",
              "    }\n",
              "</style>\n",
              "<table border=\"1\" class=\"dataframe\">\n",
              "  <thead>\n",
              "    <tr style=\"text-align: right;\">\n",
              "      <th></th>\n",
              "      <th>VIC_SEX</th>\n",
              "      <th>VIC_AGE_GROUP</th>\n",
              "      <th>PLACE_OF_CRIME</th>\n",
              "      <th>AREA_OF_CRIME</th>\n",
              "      <th>DESCRIPTION_OF_OFFENSE</th>\n",
              "    </tr>\n",
              "  </thead>\n",
              "  <tbody>\n",
              "    <tr>\n",
              "      <th>0</th>\n",
              "      <td>M</td>\n",
              "      <td>18-24</td>\n",
              "      <td>STREET</td>\n",
              "      <td>THANE</td>\n",
              "      <td>LARCENY</td>\n",
              "    </tr>\n",
              "    <tr>\n",
              "      <th>2</th>\n",
              "      <td>M</td>\n",
              "      <td>25-44</td>\n",
              "      <td>RESIDENCE - PUBLIC HOUSING</td>\n",
              "      <td>BORIVALI</td>\n",
              "      <td>BURGLARY/ROBBERY</td>\n",
              "    </tr>\n",
              "    <tr>\n",
              "      <th>4</th>\n",
              "      <td>M</td>\n",
              "      <td>&lt;18</td>\n",
              "      <td>STREET</td>\n",
              "      <td>NAVI MUMBAI</td>\n",
              "      <td>ASSAULT</td>\n",
              "    </tr>\n",
              "    <tr>\n",
              "      <th>5</th>\n",
              "      <td>F</td>\n",
              "      <td>&lt;18</td>\n",
              "      <td>STREET</td>\n",
              "      <td>ANDHERI</td>\n",
              "      <td>LARCENY</td>\n",
              "    </tr>\n",
              "    <tr>\n",
              "      <th>7</th>\n",
              "      <td>M</td>\n",
              "      <td>45-64</td>\n",
              "      <td>STREET</td>\n",
              "      <td>NAVI MUMBAI</td>\n",
              "      <td>LARCENY</td>\n",
              "    </tr>\n",
              "  </tbody>\n",
              "</table>\n",
              "</div>"
            ],
            "text/plain": [
              "  VIC_SEX VIC_AGE_GROUP  ... AREA_OF_CRIME DESCRIPTION_OF_OFFENSE\n",
              "0       M         18-24  ...         THANE                LARCENY\n",
              "2       M         25-44  ...      BORIVALI       BURGLARY/ROBBERY\n",
              "4       M           <18  ...   NAVI MUMBAI                ASSAULT\n",
              "5       F           <18  ...       ANDHERI                LARCENY\n",
              "7       M         45-64  ...   NAVI MUMBAI                LARCENY\n",
              "\n",
              "[5 rows x 5 columns]"
            ]
          },
          "metadata": {
            "tags": []
          },
          "execution_count": 60
        }
      ]
    },
    {
      "cell_type": "code",
      "metadata": {
        "id": "VvXeIOd1gXqJ",
        "colab_type": "code",
        "outputId": "03b47e04-ea01-4fc4-897e-efc27bfb1c36",
        "colab": {
          "base_uri": "https://localhost:8080/",
          "height": 35
        }
      },
      "source": [
        "crime_majority.shape"
      ],
      "execution_count": 0,
      "outputs": [
        {
          "output_type": "execute_result",
          "data": {
            "text/plain": [
              "(165746, 5)"
            ]
          },
          "metadata": {
            "tags": []
          },
          "execution_count": 61
        }
      ]
    },
    {
      "cell_type": "code",
      "metadata": {
        "id": "5Bwx_r3LgaNc",
        "colab_type": "code",
        "outputId": "a381dae3-40e0-4837-c30f-e86f5a901286",
        "colab": {
          "base_uri": "https://localhost:8080/",
          "height": 124
        }
      },
      "source": [
        "crime_majority['DESCRIPTION_OF_OFFENSE'].value_counts()"
      ],
      "execution_count": 0,
      "outputs": [
        {
          "output_type": "execute_result",
          "data": {
            "text/plain": [
              "LARCENY                                               50892\n",
              "ASSAULT                                               38426\n",
              "SEX CRIMES:HARRASSMENT,SEXUAL ASSAULT,PROSTITUTION    34907\n",
              "CRIMINAL MISCHIEF/TRESPASS                            21441\n",
              "BURGLARY/ROBBERY                                      20080\n",
              "Name: DESCRIPTION_OF_OFFENSE, dtype: int64"
            ]
          },
          "metadata": {
            "tags": []
          },
          "execution_count": 62
        }
      ]
    },
    {
      "cell_type": "code",
      "metadata": {
        "id": "KoMbGDEKgF14",
        "colab_type": "code",
        "colab": {}
      },
      "source": [
        "crime_minority = mumbai_crime_data2[~mumbai_crime_data2['DESCRIPTION_OF_OFFENSE'].isin(majority_crimes)]"
      ],
      "execution_count": 0,
      "outputs": []
    },
    {
      "cell_type": "code",
      "metadata": {
        "id": "Y_Uy9x4KgRxB",
        "colab_type": "code",
        "outputId": "d96ffb39-60f2-402e-8e72-345f50faf46a",
        "colab": {
          "base_uri": "https://localhost:8080/",
          "height": 200
        }
      },
      "source": [
        "crime_minority.head()"
      ],
      "execution_count": 0,
      "outputs": [
        {
          "output_type": "execute_result",
          "data": {
            "text/html": [
              "<div>\n",
              "<style scoped>\n",
              "    .dataframe tbody tr th:only-of-type {\n",
              "        vertical-align: middle;\n",
              "    }\n",
              "\n",
              "    .dataframe tbody tr th {\n",
              "        vertical-align: top;\n",
              "    }\n",
              "\n",
              "    .dataframe thead th {\n",
              "        text-align: right;\n",
              "    }\n",
              "</style>\n",
              "<table border=\"1\" class=\"dataframe\">\n",
              "  <thead>\n",
              "    <tr style=\"text-align: right;\">\n",
              "      <th></th>\n",
              "      <th>VIC_SEX</th>\n",
              "      <th>VIC_AGE_GROUP</th>\n",
              "      <th>PLACE_OF_CRIME</th>\n",
              "      <th>AREA_OF_CRIME</th>\n",
              "      <th>DESCRIPTION_OF_OFFENSE</th>\n",
              "    </tr>\n",
              "  </thead>\n",
              "  <tbody>\n",
              "    <tr>\n",
              "      <th>1</th>\n",
              "      <td>M</td>\n",
              "      <td>25-44</td>\n",
              "      <td>COMMERCIAL BUILDING</td>\n",
              "      <td>DADAR</td>\n",
              "      <td>FRAUDS/THEFT-FRAUD</td>\n",
              "    </tr>\n",
              "    <tr>\n",
              "      <th>6</th>\n",
              "      <td>M</td>\n",
              "      <td>45-64</td>\n",
              "      <td>OTHER</td>\n",
              "      <td>THANE</td>\n",
              "      <td>FRAUDS/THEFT-FRAUD</td>\n",
              "    </tr>\n",
              "    <tr>\n",
              "      <th>16</th>\n",
              "      <td>M</td>\n",
              "      <td>25-44</td>\n",
              "      <td>STREET</td>\n",
              "      <td>NAVI MUMBAI</td>\n",
              "      <td>LARCENY/UNAUTHORISED USE OF MOTOR VEHICLE</td>\n",
              "    </tr>\n",
              "    <tr>\n",
              "      <th>23</th>\n",
              "      <td>F</td>\n",
              "      <td>65+</td>\n",
              "      <td>RESIDENCE - APT. HOUSE</td>\n",
              "      <td>BORIVALI</td>\n",
              "      <td>KIDNAPPING &amp; RELATED OFFENSES</td>\n",
              "    </tr>\n",
              "    <tr>\n",
              "      <th>37</th>\n",
              "      <td>M</td>\n",
              "      <td>45-64</td>\n",
              "      <td>RESIDENCE-HOUSE</td>\n",
              "      <td>THANE</td>\n",
              "      <td>FRAUDS/THEFT-FRAUD</td>\n",
              "    </tr>\n",
              "  </tbody>\n",
              "</table>\n",
              "</div>"
            ],
            "text/plain": [
              "   VIC_SEX  ...                     DESCRIPTION_OF_OFFENSE\n",
              "1        M  ...                         FRAUDS/THEFT-FRAUD\n",
              "6        M  ...                         FRAUDS/THEFT-FRAUD\n",
              "16       M  ...  LARCENY/UNAUTHORISED USE OF MOTOR VEHICLE\n",
              "23       F  ...              KIDNAPPING & RELATED OFFENSES\n",
              "37       M  ...                         FRAUDS/THEFT-FRAUD\n",
              "\n",
              "[5 rows x 5 columns]"
            ]
          },
          "metadata": {
            "tags": []
          },
          "execution_count": 64
        }
      ]
    },
    {
      "cell_type": "code",
      "metadata": {
        "id": "XiQZrB1Aghk3",
        "colab_type": "code",
        "outputId": "45292336-d8ac-49da-b573-d2191f686130",
        "colab": {
          "base_uri": "https://localhost:8080/",
          "height": 159
        }
      },
      "source": [
        "crime_minority['DESCRIPTION_OF_OFFENSE'].value_counts()"
      ],
      "execution_count": 0,
      "outputs": [
        {
          "output_type": "execute_result",
          "data": {
            "text/plain": [
              "LARCENY/UNAUTHORISED USE OF MOTOR VEHICLE      6758\n",
              "FRAUDS/THEFT-FRAUD                             4287\n",
              "SEX CRIMES:RAPE,SEXUAL ASSAULT,PROSTITUTION    3063\n",
              "RAPE                                            873\n",
              "INTOXICATED & IMPAIRED DRIVING                  205\n",
              "KIDNAPPING & RELATED OFFENSES                   145\n",
              "ARSON                                           113\n",
              "Name: DESCRIPTION_OF_OFFENSE, dtype: int64"
            ]
          },
          "metadata": {
            "tags": []
          },
          "execution_count": 65
        }
      ]
    },
    {
      "cell_type": "code",
      "metadata": {
        "id": "CQ0uCwa9gmJf",
        "colab_type": "code",
        "outputId": "18c43605-e0b0-44c8-f26d-59fd785b3a6b",
        "colab": {
          "base_uri": "https://localhost:8080/",
          "height": 200
        }
      },
      "source": [
        "crime_minority.head()"
      ],
      "execution_count": 0,
      "outputs": [
        {
          "output_type": "execute_result",
          "data": {
            "text/html": [
              "<div>\n",
              "<style scoped>\n",
              "    .dataframe tbody tr th:only-of-type {\n",
              "        vertical-align: middle;\n",
              "    }\n",
              "\n",
              "    .dataframe tbody tr th {\n",
              "        vertical-align: top;\n",
              "    }\n",
              "\n",
              "    .dataframe thead th {\n",
              "        text-align: right;\n",
              "    }\n",
              "</style>\n",
              "<table border=\"1\" class=\"dataframe\">\n",
              "  <thead>\n",
              "    <tr style=\"text-align: right;\">\n",
              "      <th></th>\n",
              "      <th>VIC_SEX</th>\n",
              "      <th>VIC_AGE_GROUP</th>\n",
              "      <th>PLACE_OF_CRIME</th>\n",
              "      <th>AREA_OF_CRIME</th>\n",
              "      <th>DESCRIPTION_OF_OFFENSE</th>\n",
              "    </tr>\n",
              "  </thead>\n",
              "  <tbody>\n",
              "    <tr>\n",
              "      <th>1</th>\n",
              "      <td>M</td>\n",
              "      <td>25-44</td>\n",
              "      <td>COMMERCIAL BUILDING</td>\n",
              "      <td>DADAR</td>\n",
              "      <td>FRAUDS/THEFT-FRAUD</td>\n",
              "    </tr>\n",
              "    <tr>\n",
              "      <th>6</th>\n",
              "      <td>M</td>\n",
              "      <td>45-64</td>\n",
              "      <td>OTHER</td>\n",
              "      <td>THANE</td>\n",
              "      <td>FRAUDS/THEFT-FRAUD</td>\n",
              "    </tr>\n",
              "    <tr>\n",
              "      <th>16</th>\n",
              "      <td>M</td>\n",
              "      <td>25-44</td>\n",
              "      <td>STREET</td>\n",
              "      <td>NAVI MUMBAI</td>\n",
              "      <td>LARCENY/UNAUTHORISED USE OF MOTOR VEHICLE</td>\n",
              "    </tr>\n",
              "    <tr>\n",
              "      <th>23</th>\n",
              "      <td>F</td>\n",
              "      <td>65+</td>\n",
              "      <td>RESIDENCE - APT. HOUSE</td>\n",
              "      <td>BORIVALI</td>\n",
              "      <td>KIDNAPPING &amp; RELATED OFFENSES</td>\n",
              "    </tr>\n",
              "    <tr>\n",
              "      <th>37</th>\n",
              "      <td>M</td>\n",
              "      <td>45-64</td>\n",
              "      <td>RESIDENCE-HOUSE</td>\n",
              "      <td>THANE</td>\n",
              "      <td>FRAUDS/THEFT-FRAUD</td>\n",
              "    </tr>\n",
              "  </tbody>\n",
              "</table>\n",
              "</div>"
            ],
            "text/plain": [
              "   VIC_SEX  ...                     DESCRIPTION_OF_OFFENSE\n",
              "1        M  ...                         FRAUDS/THEFT-FRAUD\n",
              "6        M  ...                         FRAUDS/THEFT-FRAUD\n",
              "16       M  ...  LARCENY/UNAUTHORISED USE OF MOTOR VEHICLE\n",
              "23       F  ...              KIDNAPPING & RELATED OFFENSES\n",
              "37       M  ...                         FRAUDS/THEFT-FRAUD\n",
              "\n",
              "[5 rows x 5 columns]"
            ]
          },
          "metadata": {
            "tags": []
          },
          "execution_count": 66
        }
      ]
    },
    {
      "cell_type": "code",
      "metadata": {
        "id": "gtJcMiiicJu3",
        "colab_type": "code",
        "colab": {}
      },
      "source": [
        "\t\n",
        "from sklearn.utils import resample"
      ],
      "execution_count": 0,
      "outputs": []
    },
    {
      "cell_type": "markdown",
      "metadata": {
        "id": "wVlCHd6Oguki",
        "colab_type": "text"
      },
      "source": [
        "#####Down sampling majority crime"
      ]
    },
    {
      "cell_type": "code",
      "metadata": {
        "id": "QHcJ85KCcKlU",
        "colab_type": "code",
        "colab": {}
      },
      "source": [
        "label= 'DESCRIPTION_OF_OFFENSE'\n",
        "\n",
        "g = crime_majority.groupby(label, group_keys=False)\n",
        "crime_majority_downsampled = pd.DataFrame(g.apply(lambda x: x.sample(g.size().min()))).reset_index(drop=True)"
      ],
      "execution_count": 0,
      "outputs": []
    },
    {
      "cell_type": "code",
      "metadata": {
        "id": "KAT4QtbjcK4j",
        "colab_type": "code",
        "outputId": "70134262-684c-4621-bfc7-6e0fc19a123d",
        "colab": {
          "base_uri": "https://localhost:8080/",
          "height": 124
        }
      },
      "source": [
        "crime_majority_downsampled['DESCRIPTION_OF_OFFENSE'].value_counts()"
      ],
      "execution_count": 0,
      "outputs": [
        {
          "output_type": "execute_result",
          "data": {
            "text/plain": [
              "ASSAULT                                               20080\n",
              "LARCENY                                               20080\n",
              "CRIMINAL MISCHIEF/TRESPASS                            20080\n",
              "SEX CRIMES:HARRASSMENT,SEXUAL ASSAULT,PROSTITUTION    20080\n",
              "BURGLARY/ROBBERY                                      20080\n",
              "Name: DESCRIPTION_OF_OFFENSE, dtype: int64"
            ]
          },
          "metadata": {
            "tags": []
          },
          "execution_count": 69
        }
      ]
    },
    {
      "cell_type": "markdown",
      "metadata": {
        "id": "LcrGPWLVjfRr",
        "colab_type": "text"
      },
      "source": [
        "#####Up Sampling of Minority Data"
      ]
    },
    {
      "cell_type": "code",
      "metadata": {
        "id": "68fOFAdHcLSe",
        "colab_type": "code",
        "colab": {}
      },
      "source": [
        "crime_minority_upsampled = crime_minority.groupby(label ,as_index = False,group_keys=False).apply(lambda s: s.sample(20080,replace=True))\n"
      ],
      "execution_count": 0,
      "outputs": []
    },
    {
      "cell_type": "code",
      "metadata": {
        "id": "CXS_MFUpcLgH",
        "colab_type": "code",
        "outputId": "b3451b9d-ab49-4b04-add3-7500d5164c70",
        "colab": {
          "base_uri": "https://localhost:8080/",
          "height": 159
        }
      },
      "source": [
        "crime_minority_upsampled['DESCRIPTION_OF_OFFENSE'].value_counts()"
      ],
      "execution_count": 0,
      "outputs": [
        {
          "output_type": "execute_result",
          "data": {
            "text/plain": [
              "FRAUDS/THEFT-FRAUD                             20080\n",
              "SEX CRIMES:RAPE,SEXUAL ASSAULT,PROSTITUTION    20080\n",
              "ARSON                                          20080\n",
              "LARCENY/UNAUTHORISED USE OF MOTOR VEHICLE      20080\n",
              "INTOXICATED & IMPAIRED DRIVING                 20080\n",
              "RAPE                                           20080\n",
              "KIDNAPPING & RELATED OFFENSES                  20080\n",
              "Name: DESCRIPTION_OF_OFFENSE, dtype: int64"
            ]
          },
          "metadata": {
            "tags": []
          },
          "execution_count": 71
        }
      ]
    },
    {
      "cell_type": "markdown",
      "metadata": {
        "id": "FY3ejlNLjvm0",
        "colab_type": "text"
      },
      "source": [
        "##### Combining the balanced datasets"
      ]
    },
    {
      "cell_type": "code",
      "metadata": {
        "id": "1uCBnaYKcKe5",
        "colab_type": "code",
        "colab": {}
      },
      "source": [
        "mumbai_crime_data_balanced = pd.concat([crime_majority_downsampled,crime_minority_upsampled])"
      ],
      "execution_count": 0,
      "outputs": []
    },
    {
      "cell_type": "code",
      "metadata": {
        "id": "iKuuNsG5cKV5",
        "colab_type": "code",
        "outputId": "e6c7a86f-717c-4ded-96e2-cf9f55f195b1",
        "colab": {
          "base_uri": "https://localhost:8080/",
          "height": 248
        }
      },
      "source": [
        "mumbai_crime_data_balanced['DESCRIPTION_OF_OFFENSE'].value_counts()"
      ],
      "execution_count": 0,
      "outputs": [
        {
          "output_type": "execute_result",
          "data": {
            "text/plain": [
              "ASSAULT                                               20080\n",
              "LARCENY                                               20080\n",
              "SEX CRIMES:RAPE,SEXUAL ASSAULT,PROSTITUTION           20080\n",
              "SEX CRIMES:HARRASSMENT,SEXUAL ASSAULT,PROSTITUTION    20080\n",
              "LARCENY/UNAUTHORISED USE OF MOTOR VEHICLE             20080\n",
              "FRAUDS/THEFT-FRAUD                                    20080\n",
              "CRIMINAL MISCHIEF/TRESPASS                            20080\n",
              "ARSON                                                 20080\n",
              "INTOXICATED & IMPAIRED DRIVING                        20080\n",
              "RAPE                                                  20080\n",
              "BURGLARY/ROBBERY                                      20080\n",
              "KIDNAPPING & RELATED OFFENSES                         20080\n",
              "Name: DESCRIPTION_OF_OFFENSE, dtype: int64"
            ]
          },
          "metadata": {
            "tags": []
          },
          "execution_count": 73
        }
      ]
    },
    {
      "cell_type": "code",
      "metadata": {
        "id": "vfGXCmQRcKPK",
        "colab_type": "code",
        "outputId": "6506a6eb-2df7-4e76-d897-d8d2e24044cc",
        "colab": {
          "base_uri": "https://localhost:8080/",
          "height": 35
        }
      },
      "source": [
        "mumbai_crime_data_balanced.shape"
      ],
      "execution_count": 0,
      "outputs": [
        {
          "output_type": "execute_result",
          "data": {
            "text/plain": [
              "(240960, 5)"
            ]
          },
          "metadata": {
            "tags": []
          },
          "execution_count": 74
        }
      ]
    },
    {
      "cell_type": "code",
      "metadata": {
        "id": "crk0oJNwPV7I",
        "colab_type": "code",
        "colab": {}
      },
      "source": [
        ""
      ],
      "execution_count": 0,
      "outputs": []
    },
    {
      "cell_type": "markdown",
      "metadata": {
        "id": "epAlx-_zeHfd",
        "colab_type": "text"
      },
      "source": [
        "####Converting Categorical Variables to Numerical data before modeling."
      ]
    },
    {
      "cell_type": "code",
      "metadata": {
        "id": "wW7_nHJbeKLV",
        "colab_type": "code",
        "colab": {}
      },
      "source": [
        "from sklearn.preprocessing import LabelEncoder, OneHotEncoder\n",
        "import numpy as np"
      ],
      "execution_count": 0,
      "outputs": []
    },
    {
      "cell_type": "code",
      "metadata": {
        "id": "H-uBtEgD2kSy",
        "colab_type": "code",
        "outputId": "43b246d6-1031-45c8-95ae-5dfa59ba4539",
        "colab": {
          "base_uri": "https://localhost:8080/",
          "height": 35
        }
      },
      "source": [
        "crime_majority_downsampled.shape"
      ],
      "execution_count": 0,
      "outputs": [
        {
          "output_type": "execute_result",
          "data": {
            "text/plain": [
              "(100400, 5)"
            ]
          },
          "metadata": {
            "tags": []
          },
          "execution_count": 76
        }
      ]
    },
    {
      "cell_type": "code",
      "metadata": {
        "id": "6SbJpTu7_iJ5",
        "colab_type": "code",
        "outputId": "732c7fe6-ac1f-4762-cf0c-2d108e62188b",
        "colab": {
          "base_uri": "https://localhost:8080/",
          "height": 200
        }
      },
      "source": [
        "crime_majority_downsampled.head()"
      ],
      "execution_count": 0,
      "outputs": [
        {
          "output_type": "execute_result",
          "data": {
            "text/html": [
              "<div>\n",
              "<style scoped>\n",
              "    .dataframe tbody tr th:only-of-type {\n",
              "        vertical-align: middle;\n",
              "    }\n",
              "\n",
              "    .dataframe tbody tr th {\n",
              "        vertical-align: top;\n",
              "    }\n",
              "\n",
              "    .dataframe thead th {\n",
              "        text-align: right;\n",
              "    }\n",
              "</style>\n",
              "<table border=\"1\" class=\"dataframe\">\n",
              "  <thead>\n",
              "    <tr style=\"text-align: right;\">\n",
              "      <th></th>\n",
              "      <th>VIC_SEX</th>\n",
              "      <th>VIC_AGE_GROUP</th>\n",
              "      <th>PLACE_OF_CRIME</th>\n",
              "      <th>AREA_OF_CRIME</th>\n",
              "      <th>DESCRIPTION_OF_OFFENSE</th>\n",
              "    </tr>\n",
              "  </thead>\n",
              "  <tbody>\n",
              "    <tr>\n",
              "      <th>0</th>\n",
              "      <td>M</td>\n",
              "      <td>18-24</td>\n",
              "      <td>BAR/NIGHT CLUB</td>\n",
              "      <td>NAVI MUMBAI</td>\n",
              "      <td>ASSAULT</td>\n",
              "    </tr>\n",
              "    <tr>\n",
              "      <th>1</th>\n",
              "      <td>M</td>\n",
              "      <td>18-24</td>\n",
              "      <td>SCHOOL</td>\n",
              "      <td>ANDHERI</td>\n",
              "      <td>ASSAULT</td>\n",
              "    </tr>\n",
              "    <tr>\n",
              "      <th>2</th>\n",
              "      <td>F</td>\n",
              "      <td>18-24</td>\n",
              "      <td>RESIDENCE - PUBLIC HOUSING</td>\n",
              "      <td>THANE</td>\n",
              "      <td>ASSAULT</td>\n",
              "    </tr>\n",
              "    <tr>\n",
              "      <th>3</th>\n",
              "      <td>M</td>\n",
              "      <td>18-24</td>\n",
              "      <td>RESIDENCE - APT. HOUSE</td>\n",
              "      <td>THANE</td>\n",
              "      <td>ASSAULT</td>\n",
              "    </tr>\n",
              "    <tr>\n",
              "      <th>4</th>\n",
              "      <td>M</td>\n",
              "      <td>25-44</td>\n",
              "      <td>RESIDENCE - APT. HOUSE</td>\n",
              "      <td>THANE</td>\n",
              "      <td>ASSAULT</td>\n",
              "    </tr>\n",
              "  </tbody>\n",
              "</table>\n",
              "</div>"
            ],
            "text/plain": [
              "  VIC_SEX VIC_AGE_GROUP  ... AREA_OF_CRIME DESCRIPTION_OF_OFFENSE\n",
              "0       M         18-24  ...   NAVI MUMBAI                ASSAULT\n",
              "1       M         18-24  ...       ANDHERI                ASSAULT\n",
              "2       F         18-24  ...         THANE                ASSAULT\n",
              "3       M         18-24  ...         THANE                ASSAULT\n",
              "4       M         25-44  ...         THANE                ASSAULT\n",
              "\n",
              "[5 rows x 5 columns]"
            ]
          },
          "metadata": {
            "tags": []
          },
          "execution_count": 77
        }
      ]
    },
    {
      "cell_type": "code",
      "metadata": {
        "id": "iDe5vrVZ2noD",
        "colab_type": "code",
        "outputId": "a6e2ffb1-f00b-4cf3-c41a-b4e5877b3038",
        "colab": {
          "base_uri": "https://localhost:8080/",
          "height": 200
        }
      },
      "source": [
        "data = mumbai_crime_data.iloc[:,0:3]\n",
        "data.head()"
      ],
      "execution_count": 0,
      "outputs": [
        {
          "output_type": "execute_result",
          "data": {
            "text/html": [
              "<div>\n",
              "<style scoped>\n",
              "    .dataframe tbody tr th:only-of-type {\n",
              "        vertical-align: middle;\n",
              "    }\n",
              "\n",
              "    .dataframe tbody tr th {\n",
              "        vertical-align: top;\n",
              "    }\n",
              "\n",
              "    .dataframe thead th {\n",
              "        text-align: right;\n",
              "    }\n",
              "</style>\n",
              "<table border=\"1\" class=\"dataframe\">\n",
              "  <thead>\n",
              "    <tr style=\"text-align: right;\">\n",
              "      <th></th>\n",
              "      <th>VIC_SEX</th>\n",
              "      <th>VIC_AGE_GROUP</th>\n",
              "      <th>PLACE_OF_CRIME</th>\n",
              "    </tr>\n",
              "  </thead>\n",
              "  <tbody>\n",
              "    <tr>\n",
              "      <th>0</th>\n",
              "      <td>M</td>\n",
              "      <td>18-24</td>\n",
              "      <td>STREET</td>\n",
              "    </tr>\n",
              "    <tr>\n",
              "      <th>1</th>\n",
              "      <td>M</td>\n",
              "      <td>25-44</td>\n",
              "      <td>COMMERCIAL BUILDING</td>\n",
              "    </tr>\n",
              "    <tr>\n",
              "      <th>2</th>\n",
              "      <td>M</td>\n",
              "      <td>25-44</td>\n",
              "      <td>RESIDENCE - PUBLIC HOUSING</td>\n",
              "    </tr>\n",
              "    <tr>\n",
              "      <th>4</th>\n",
              "      <td>M</td>\n",
              "      <td>&lt;18</td>\n",
              "      <td>STREET</td>\n",
              "    </tr>\n",
              "    <tr>\n",
              "      <th>5</th>\n",
              "      <td>F</td>\n",
              "      <td>&lt;18</td>\n",
              "      <td>STREET</td>\n",
              "    </tr>\n",
              "  </tbody>\n",
              "</table>\n",
              "</div>"
            ],
            "text/plain": [
              "  VIC_SEX VIC_AGE_GROUP              PLACE_OF_CRIME\n",
              "0       M         18-24                      STREET\n",
              "1       M         25-44         COMMERCIAL BUILDING\n",
              "2       M         25-44  RESIDENCE - PUBLIC HOUSING\n",
              "4       M           <18                      STREET\n",
              "5       F           <18                      STREET"
            ]
          },
          "metadata": {
            "tags": []
          },
          "execution_count": 78
        }
      ]
    },
    {
      "cell_type": "code",
      "metadata": {
        "id": "mUJ7drOJ5zjC",
        "colab_type": "code",
        "colab": {}
      },
      "source": [
        "le = LabelEncoder()"
      ],
      "execution_count": 0,
      "outputs": []
    },
    {
      "cell_type": "code",
      "metadata": {
        "id": "JPjMhbRbK0Zc",
        "colab_type": "code",
        "colab": {}
      },
      "source": [
        "mumbai_crime_data_balanced = mumbai_crime_data_balanced.apply(LabelEncoder().fit_transform)\n",
        "\n"
      ],
      "execution_count": 0,
      "outputs": []
    },
    {
      "cell_type": "code",
      "metadata": {
        "id": "KvvSMVxmK_qr",
        "colab_type": "code",
        "outputId": "7bc8fff8-5286-4990-d6b0-b5842563e104",
        "colab": {
          "base_uri": "https://localhost:8080/",
          "height": 200
        }
      },
      "source": [
        "mumbai_crime_data_balanced.tail()"
      ],
      "execution_count": 0,
      "outputs": [
        {
          "output_type": "execute_result",
          "data": {
            "text/html": [
              "<div>\n",
              "<style scoped>\n",
              "    .dataframe tbody tr th:only-of-type {\n",
              "        vertical-align: middle;\n",
              "    }\n",
              "\n",
              "    .dataframe tbody tr th {\n",
              "        vertical-align: top;\n",
              "    }\n",
              "\n",
              "    .dataframe thead th {\n",
              "        text-align: right;\n",
              "    }\n",
              "</style>\n",
              "<table border=\"1\" class=\"dataframe\">\n",
              "  <thead>\n",
              "    <tr style=\"text-align: right;\">\n",
              "      <th></th>\n",
              "      <th>VIC_SEX</th>\n",
              "      <th>VIC_AGE_GROUP</th>\n",
              "      <th>PLACE_OF_CRIME</th>\n",
              "      <th>AREA_OF_CRIME</th>\n",
              "      <th>DESCRIPTION_OF_OFFENSE</th>\n",
              "    </tr>\n",
              "  </thead>\n",
              "  <tbody>\n",
              "    <tr>\n",
              "      <th>207488</th>\n",
              "      <td>0</td>\n",
              "      <td>4</td>\n",
              "      <td>40</td>\n",
              "      <td>4</td>\n",
              "      <td>11</td>\n",
              "    </tr>\n",
              "    <tr>\n",
              "      <th>147495</th>\n",
              "      <td>1</td>\n",
              "      <td>4</td>\n",
              "      <td>41</td>\n",
              "      <td>0</td>\n",
              "      <td>11</td>\n",
              "    </tr>\n",
              "    <tr>\n",
              "      <th>175066</th>\n",
              "      <td>0</td>\n",
              "      <td>4</td>\n",
              "      <td>39</td>\n",
              "      <td>3</td>\n",
              "      <td>11</td>\n",
              "    </tr>\n",
              "    <tr>\n",
              "      <th>52920</th>\n",
              "      <td>0</td>\n",
              "      <td>4</td>\n",
              "      <td>39</td>\n",
              "      <td>1</td>\n",
              "      <td>11</td>\n",
              "    </tr>\n",
              "    <tr>\n",
              "      <th>153247</th>\n",
              "      <td>0</td>\n",
              "      <td>1</td>\n",
              "      <td>38</td>\n",
              "      <td>3</td>\n",
              "      <td>11</td>\n",
              "    </tr>\n",
              "  </tbody>\n",
              "</table>\n",
              "</div>"
            ],
            "text/plain": [
              "        VIC_SEX  VIC_AGE_GROUP  ...  AREA_OF_CRIME  DESCRIPTION_OF_OFFENSE\n",
              "207488        0              4  ...              4                      11\n",
              "147495        1              4  ...              0                      11\n",
              "175066        0              4  ...              3                      11\n",
              "52920         0              4  ...              1                      11\n",
              "153247        0              1  ...              3                      11\n",
              "\n",
              "[5 rows x 5 columns]"
            ]
          },
          "metadata": {
            "tags": []
          },
          "execution_count": 81
        }
      ]
    },
    {
      "cell_type": "code",
      "metadata": {
        "id": "4Bn-23rG1T8w",
        "colab_type": "code",
        "outputId": "8d775cd1-2104-4af9-e39e-85e82fa6d46d",
        "colab": {
          "base_uri": "https://localhost:8080/",
          "height": 248
        }
      },
      "source": [
        "mumbai_crime_data_balanced['DESCRIPTION_OF_OFFENSE'].value_counts()"
      ],
      "execution_count": 0,
      "outputs": [
        {
          "output_type": "execute_result",
          "data": {
            "text/plain": [
              "11    20080\n",
              "10    20080\n",
              "9     20080\n",
              "8     20080\n",
              "7     20080\n",
              "6     20080\n",
              "5     20080\n",
              "4     20080\n",
              "3     20080\n",
              "2     20080\n",
              "1     20080\n",
              "0     20080\n",
              "Name: DESCRIPTION_OF_OFFENSE, dtype: int64"
            ]
          },
          "metadata": {
            "tags": []
          },
          "execution_count": 82
        }
      ]
    },
    {
      "cell_type": "markdown",
      "metadata": {
        "id": "h2n_0j1n1IEZ",
        "colab_type": "text"
      },
      "source": [
        "\n",
        "###Trial Model "
      ]
    },
    {
      "cell_type": "code",
      "metadata": {
        "id": "SbqjTGsBNyH3",
        "colab_type": "code",
        "colab": {}
      },
      "source": [
        "X = mumbai_crime_data_balanced.iloc[:,1:]\n",
        "y = mumbai_crime_data_balanced.iloc[:,0]"
      ],
      "execution_count": 0,
      "outputs": []
    },
    {
      "cell_type": "code",
      "metadata": {
        "id": "nFjwRWo9znHS",
        "colab_type": "code",
        "outputId": "482cebf7-4a59-4886-fda7-a0a5e888dc6a",
        "colab": {
          "base_uri": "https://localhost:8080/",
          "height": 200
        }
      },
      "source": [
        "X.head()"
      ],
      "execution_count": 0,
      "outputs": [
        {
          "output_type": "execute_result",
          "data": {
            "text/html": [
              "<div>\n",
              "<style scoped>\n",
              "    .dataframe tbody tr th:only-of-type {\n",
              "        vertical-align: middle;\n",
              "    }\n",
              "\n",
              "    .dataframe tbody tr th {\n",
              "        vertical-align: top;\n",
              "    }\n",
              "\n",
              "    .dataframe thead th {\n",
              "        text-align: right;\n",
              "    }\n",
              "</style>\n",
              "<table border=\"1\" class=\"dataframe\">\n",
              "  <thead>\n",
              "    <tr style=\"text-align: right;\">\n",
              "      <th></th>\n",
              "      <th>VIC_AGE_GROUP</th>\n",
              "      <th>PLACE_OF_CRIME</th>\n",
              "      <th>AREA_OF_CRIME</th>\n",
              "      <th>DESCRIPTION_OF_OFFENSE</th>\n",
              "    </tr>\n",
              "  </thead>\n",
              "  <tbody>\n",
              "    <tr>\n",
              "      <th>0</th>\n",
              "      <td>0</td>\n",
              "      <td>4</td>\n",
              "      <td>3</td>\n",
              "      <td>1</td>\n",
              "    </tr>\n",
              "    <tr>\n",
              "      <th>1</th>\n",
              "      <td>0</td>\n",
              "      <td>43</td>\n",
              "      <td>0</td>\n",
              "      <td>1</td>\n",
              "    </tr>\n",
              "    <tr>\n",
              "      <th>2</th>\n",
              "      <td>0</td>\n",
              "      <td>40</td>\n",
              "      <td>4</td>\n",
              "      <td>1</td>\n",
              "    </tr>\n",
              "    <tr>\n",
              "      <th>3</th>\n",
              "      <td>0</td>\n",
              "      <td>39</td>\n",
              "      <td>4</td>\n",
              "      <td>1</td>\n",
              "    </tr>\n",
              "    <tr>\n",
              "      <th>4</th>\n",
              "      <td>1</td>\n",
              "      <td>39</td>\n",
              "      <td>4</td>\n",
              "      <td>1</td>\n",
              "    </tr>\n",
              "  </tbody>\n",
              "</table>\n",
              "</div>"
            ],
            "text/plain": [
              "   VIC_AGE_GROUP  PLACE_OF_CRIME  AREA_OF_CRIME  DESCRIPTION_OF_OFFENSE\n",
              "0              0               4              3                       1\n",
              "1              0              43              0                       1\n",
              "2              0              40              4                       1\n",
              "3              0              39              4                       1\n",
              "4              1              39              4                       1"
            ]
          },
          "metadata": {
            "tags": []
          },
          "execution_count": 84
        }
      ]
    },
    {
      "cell_type": "code",
      "metadata": {
        "id": "7VrpSGj3zqVB",
        "colab_type": "code",
        "outputId": "24c0d31c-95e3-4c5f-acad-2a0cc058b3d3",
        "colab": {
          "base_uri": "https://localhost:8080/",
          "height": 124
        }
      },
      "source": [
        "y.head()"
      ],
      "execution_count": 0,
      "outputs": [
        {
          "output_type": "execute_result",
          "data": {
            "text/plain": [
              "0    1\n",
              "1    1\n",
              "2    0\n",
              "3    1\n",
              "4    1\n",
              "Name: VIC_SEX, dtype: int64"
            ]
          },
          "metadata": {
            "tags": []
          },
          "execution_count": 85
        }
      ]
    },
    {
      "cell_type": "code",
      "metadata": {
        "id": "P-Ls_lAKOBom",
        "colab_type": "code",
        "colab": {}
      },
      "source": [
        "\n",
        "import sklearn"
      ],
      "execution_count": 0,
      "outputs": []
    },
    {
      "cell_type": "code",
      "metadata": {
        "id": "MNZLTSIDOUWR",
        "colab_type": "code",
        "colab": {}
      },
      "source": [
        "from sklearn.model_selection import train_test_split"
      ],
      "execution_count": 0,
      "outputs": []
    },
    {
      "cell_type": "code",
      "metadata": {
        "id": "Iggc0l_vOsKC",
        "colab_type": "code",
        "colab": {}
      },
      "source": [
        "X_train,X_test,y_train,y_test = train_test_split(X,y,test_size = 0.05, random_state = 50)"
      ],
      "execution_count": 0,
      "outputs": []
    },
    {
      "cell_type": "code",
      "metadata": {
        "id": "wqzrksX6kmNJ",
        "colab_type": "code",
        "outputId": "5452a8fa-1420-49a9-adec-2115f11f2a9d",
        "colab": {
          "base_uri": "https://localhost:8080/",
          "height": 35
        }
      },
      "source": [
        "y_test.shape"
      ],
      "execution_count": 0,
      "outputs": [
        {
          "output_type": "execute_result",
          "data": {
            "text/plain": [
              "(12048,)"
            ]
          },
          "metadata": {
            "tags": []
          },
          "execution_count": 89
        }
      ]
    },
    {
      "cell_type": "markdown",
      "metadata": {
        "id": "FBLWAqaLJpUC",
        "colab_type": "text"
      },
      "source": [
        "####KNN Classifier"
      ]
    },
    {
      "cell_type": "code",
      "metadata": {
        "id": "LzN6DjMvPBl0",
        "colab_type": "code",
        "outputId": "6d28d0a0-0120-477a-b293-3ac0c64fc776",
        "colab": {
          "base_uri": "https://localhost:8080/",
          "height": 70
        }
      },
      "source": [
        "from sklearn.neighbors import KNeighborsClassifier\n",
        "knn = KNeighborsClassifier(n_neighbors=95,weights = 'distance')\n",
        "knn.fit(X_train,y_train)"
      ],
      "execution_count": 0,
      "outputs": [
        {
          "output_type": "execute_result",
          "data": {
            "text/plain": [
              "KNeighborsClassifier(algorithm='auto', leaf_size=30, metric='minkowski',\n",
              "                     metric_params=None, n_jobs=None, n_neighbors=95, p=2,\n",
              "                     weights='distance')"
            ]
          },
          "metadata": {
            "tags": []
          },
          "execution_count": 90
        }
      ]
    },
    {
      "cell_type": "code",
      "metadata": {
        "id": "0lE6XSLaaqMt",
        "colab_type": "code",
        "colab": {}
      },
      "source": [
        "custom_input = [[1,1,10,2]]  #LOOKIING FOR PREDICTION ON JUST ONE ENTRY"
      ],
      "execution_count": 0,
      "outputs": []
    },
    {
      "cell_type": "code",
      "metadata": {
        "id": "RHyVD8iyau_l",
        "colab_type": "code",
        "outputId": "a26f3aa0-b3e7-435a-a431-ccab917b5096",
        "colab": {
          "base_uri": "https://localhost:8080/",
          "height": 35
        }
      },
      "source": [
        "y_custom_predicted = knn.predict(custom_input)\n",
        "print(custom_input,y_custom_predicted)#PREDICTION ON ONE ENTRY"
      ],
      "execution_count": 0,
      "outputs": [
        {
          "output_type": "stream",
          "text": [
            "[[1, 1, 10, 2]] [0]\n"
          ],
          "name": "stdout"
        }
      ]
    },
    {
      "cell_type": "code",
      "metadata": {
        "id": "1m1BN1N8lU8u",
        "colab_type": "code",
        "colab": {}
      },
      "source": [
        "y_pred = knn.predict(X_test)"
      ],
      "execution_count": 0,
      "outputs": []
    },
    {
      "cell_type": "code",
      "metadata": {
        "id": "d4LFDfjjPRsv",
        "colab_type": "code",
        "outputId": "921eb0d8-6828-4625-c65c-0f092a6f9287",
        "colab": {
          "base_uri": "https://localhost:8080/",
          "height": 35
        }
      },
      "source": [
        "knn.score(X_train,y_train)"
      ],
      "execution_count": 0,
      "outputs": [
        {
          "output_type": "execute_result",
          "data": {
            "text/plain": [
              "0.7190623471028168"
            ]
          },
          "metadata": {
            "tags": []
          },
          "execution_count": 272
        }
      ]
    },
    {
      "cell_type": "code",
      "metadata": {
        "id": "rA96WaL4Qb4W",
        "colab_type": "code",
        "outputId": "aebff5dc-2903-4fbc-c236-8ef05a54eb81",
        "colab": {
          "base_uri": "https://localhost:8080/",
          "height": 35
        }
      },
      "source": [
        "knn.score(X_test,y_test)"
      ],
      "execution_count": 0,
      "outputs": [
        {
          "output_type": "execute_result",
          "data": {
            "text/plain": [
              "0.7104913678618858"
            ]
          },
          "metadata": {
            "tags": []
          },
          "execution_count": 273
        }
      ]
    },
    {
      "cell_type": "code",
      "metadata": {
        "id": "-J3mlNaACA-i",
        "colab_type": "code",
        "outputId": "24521d1b-f910-49f3-c4a2-4180ee0fccd2",
        "colab": {
          "base_uri": "https://localhost:8080/",
          "height": 35
        }
      },
      "source": [
        "from sklearn import metrics\n",
        "#print(\"Train set Accuracy: \" ,metrics.accuracy_score(y_train, knn.predict(X_train)))\n",
        "print(\"Test set Accuracy:\", metrics.accuracy_score(y_test,y_pred))"
      ],
      "execution_count": 0,
      "outputs": [
        {
          "output_type": "stream",
          "text": [
            "Test set Accuracy: 0.7104913678618858\n"
          ],
          "name": "stdout"
        }
      ]
    },
    {
      "cell_type": "code",
      "metadata": {
        "id": "KJijx1T0Ib4f",
        "colab_type": "code",
        "outputId": "2b1ae3bd-eb6c-46c0-b500-24f9ea7b4147",
        "colab": {
          "base_uri": "https://localhost:8080/",
          "height": 90
        }
      },
      "source": [
        "from sklearn.metrics import jaccard_similarity_score\n",
        "jaccard_score = jaccard_similarity_score(y_test, y_pred)\n",
        "print(\"jaccard score: \", jaccard_score)"
      ],
      "execution_count": 0,
      "outputs": [
        {
          "output_type": "stream",
          "text": [
            "jaccard score:  0.7104913678618858\n"
          ],
          "name": "stdout"
        },
        {
          "output_type": "stream",
          "text": [
            "/usr/local/lib/python3.6/dist-packages/sklearn/metrics/_classification.py:664: FutureWarning: jaccard_similarity_score has been deprecated and replaced with jaccard_score. It will be removed in version 0.23. This implementation has surprising behavior for binary and multiclass classification tasks.\n",
            "  FutureWarning)\n"
          ],
          "name": "stderr"
        }
      ]
    },
    {
      "cell_type": "code",
      "metadata": {
        "id": "WNxQyIb7-4m0",
        "colab_type": "code",
        "outputId": "02b1353f-8c94-4c0f-e835-c69aedf359a8",
        "colab": {
          "base_uri": "https://localhost:8080/",
          "height": 35
        }
      },
      "source": [
        "\n",
        "\n",
        "from sklearn.model_selection import cross_val_score\n",
        "scores = cross_val_score(knn,X_test,y_test , cv=5)\n",
        "scores.mean()"
      ],
      "execution_count": 0,
      "outputs": [
        {
          "output_type": "execute_result",
          "data": {
            "text/plain": [
              "0.6987057180111235"
            ]
          },
          "metadata": {
            "tags": []
          },
          "execution_count": 276
        }
      ]
    },
    {
      "cell_type": "code",
      "metadata": {
        "id": "i7yro0D3CGpU",
        "colab_type": "code",
        "outputId": "d73b1560-d87d-4033-c057-a96716788525",
        "colab": {
          "base_uri": "https://localhost:8080/",
          "height": 35
        }
      },
      "source": [
        "print(\"Train set Accuracy: \" ,metrics.accuracy_score(y_train, knn.predict(X_train)))"
      ],
      "execution_count": 0,
      "outputs": [
        {
          "output_type": "stream",
          "text": [
            "Train set Accuracy:  0.7190623471028168\n"
          ],
          "name": "stdout"
        }
      ]
    },
    {
      "cell_type": "code",
      "metadata": {
        "id": "ABfEwuPWkUot",
        "colab_type": "code",
        "colab": {}
      },
      "source": [
        "error_rate = []\n",
        "for i in range(25,100,10):\n",
        "    \n",
        "    knn = KNeighborsClassifier(n_neighbors=i)\n",
        "    knn.fit(X_train,y_train)\n",
        "    pred_i = knn.predict(X_test)\n",
        "    error_rate.append(np.mean(pred_i != y_test))"
      ],
      "execution_count": 0,
      "outputs": []
    },
    {
      "cell_type": "code",
      "metadata": {
        "id": "RTCnCSvyQqTc",
        "colab_type": "code",
        "outputId": "0850859a-885f-4b95-d0a3-c48f24010e8d",
        "colab": {
          "base_uri": "https://localhost:8080/",
          "height": 421
        }
      },
      "source": [
        "\n",
        "\n",
        "plt.figure(figsize=(10,6))\n",
        "plt.plot(range(25,100,10),error_rate,color='blue', linestyle='dashed', marker='o',\n",
        "         markerfacecolor='red', markersize=5)\n",
        "plt.title('Error Rate vs. K Value')\n",
        "plt.xlabel('K')\n",
        "plt.ylabel('Error Rate')\n"
      ],
      "execution_count": 0,
      "outputs": [
        {
          "output_type": "execute_result",
          "data": {
            "text/plain": [
              "Text(0, 0.5, 'Error Rate')"
            ]
          },
          "metadata": {
            "tags": []
          },
          "execution_count": 279
        },
        {
          "output_type": "display_data",
          "data": {
            "image/png": "[encoded data removed]",
            "text/plain": [
              "<Figure size 720x432 with 1 Axes>"
            ]
          },
          "metadata": {
            "tags": [],
            "needs_background": "light"
          }
        }
      ]
    },
    {
      "cell_type": "markdown",
      "metadata": {
        "id": "M3Q9clGSI6n6",
        "colab_type": "text"
      },
      "source": [
        "####Decision Tree Classifier"
      ]
    },
    {
      "cell_type": "code",
      "metadata": {
        "id": "ksNNj1ec_K1k",
        "colab_type": "code",
        "colab": {}
      },
      "source": [
        "from sklearn.tree import DecisionTreeClassifier\n",
        "dtree = DecisionTreeClassifier(criterion = \"entropy\", random_state=300, class_weight = \"balanced\")"
      ],
      "execution_count": 0,
      "outputs": []
    },
    {
      "cell_type": "code",
      "metadata": {
        "id": "iBSslw8FXv27",
        "colab_type": "code",
        "outputId": "e660b932-1c16-4d63-c6a3-18ef13e361d3",
        "colab": {
          "base_uri": "https://localhost:8080/",
          "height": 124
        }
      },
      "source": [
        "dtree.fit(X_train,y_train)"
      ],
      "execution_count": 0,
      "outputs": [
        {
          "output_type": "execute_result",
          "data": {
            "text/plain": [
              "DecisionTreeClassifier(ccp_alpha=0.0, class_weight='balanced',\n",
              "                       criterion='entropy', max_depth=None, max_features=None,\n",
              "                       max_leaf_nodes=None, min_impurity_decrease=0.0,\n",
              "                       min_impurity_split=None, min_samples_leaf=1,\n",
              "                       min_samples_split=2, min_weight_fraction_leaf=0.0,\n",
              "                       presort='deprecated', random_state=300, splitter='best')"
            ]
          },
          "metadata": {
            "tags": []
          },
          "execution_count": 281
        }
      ]
    },
    {
      "cell_type": "code",
      "metadata": {
        "id": "RucM8GmYLHeI",
        "colab_type": "code",
        "colab": {}
      },
      "source": [
        "y_predd = dtree.predict(X_test)"
      ],
      "execution_count": 0,
      "outputs": []
    },
    {
      "cell_type": "code",
      "metadata": {
        "id": "QVuJux9xX7AN",
        "colab_type": "code",
        "outputId": "8d0676f5-53dd-4e19-c2e9-c9e62bb7e507",
        "colab": {
          "base_uri": "https://localhost:8080/",
          "height": 52
        }
      },
      "source": [
        "from sklearn import metrics\n",
        "print(\"Train set Accuracy: \" ,metrics.accuracy_score(y_train, dtree.predict(X_train)))\n",
        "print(\"Test set Accuracy:\", metrics.accuracy_score(y_test,y_predd))"
      ],
      "execution_count": 0,
      "outputs": [
        {
          "output_type": "stream",
          "text": [
            "Train set Accuracy:  0.7175595862165374\n",
            "Test set Accuracy: 0.7103253652058433\n"
          ],
          "name": "stdout"
        }
      ]
    },
    {
      "cell_type": "code",
      "metadata": {
        "id": "JEB53X03LV9S",
        "colab_type": "code",
        "outputId": "6cd39a3a-121a-4ac3-b7d6-cd3262905181",
        "colab": {
          "base_uri": "https://localhost:8080/",
          "height": 90
        }
      },
      "source": [
        "from sklearn.metrics import jaccard_similarity_score\n",
        "jaccard_score = jaccard_similarity_score(y_test, y_predd)\n",
        "print(\"jaccard score: \", jaccard_score)"
      ],
      "execution_count": 0,
      "outputs": [
        {
          "output_type": "stream",
          "text": [
            "jaccard score:  0.7103253652058433\n"
          ],
          "name": "stdout"
        },
        {
          "output_type": "stream",
          "text": [
            "/usr/local/lib/python3.6/dist-packages/sklearn/metrics/_classification.py:664: FutureWarning: jaccard_similarity_score has been deprecated and replaced with jaccard_score. It will be removed in version 0.23. This implementation has surprising behavior for binary and multiclass classification tasks.\n",
            "  FutureWarning)\n"
          ],
          "name": "stderr"
        }
      ]
    },
    {
      "cell_type": "code",
      "metadata": {
        "id": "bx8HCXYm-2wX",
        "colab_type": "code",
        "outputId": "9039db49-f450-4f44-e1df-77726e54b79f",
        "colab": {
          "base_uri": "https://localhost:8080/",
          "height": 35
        }
      },
      "source": [
        " from sklearn.model_selection import cross_val_score\n",
        " scores = cross_val_score(dtree,X_test,y_test , cv=5)\n",
        " scores.mean()"
      ],
      "execution_count": 0,
      "outputs": [
        {
          "output_type": "execute_result",
          "data": {
            "text/plain": [
              "0.6949713126260616"
            ]
          },
          "metadata": {
            "tags": []
          },
          "execution_count": 285
        }
      ]
    },
    {
      "cell_type": "code",
      "metadata": {
        "id": "TiZB7OgY7b2u",
        "colab_type": "code",
        "colab": {}
      },
      "source": [
        ""
      ],
      "execution_count": 0,
      "outputs": []
    },
    {
      "cell_type": "code",
      "metadata": {
        "id": "ivsuRup_7dDG",
        "colab_type": "code",
        "outputId": "1cdda5fa-8b42-4983-95e2-af03bd034b19",
        "colab": {
          "base_uri": "https://localhost:8080/",
          "height": 421
        }
      },
      "source": [
        "plt.figure(figsize=(10,6))\n",
        "plt.plot(range(25,100,10),error_rate,color='blue', linestyle='dashed', marker='o',\n",
        "         markerfacecolor='red', markersize=5)\n",
        "plt.title('Error Rate vs. K Value')\n",
        "plt.xlabel('K')\n",
        "plt.ylabel('Error Rate')"
      ],
      "execution_count": 0,
      "outputs": [
        {
          "output_type": "execute_result",
          "data": {
            "text/plain": [
              "Text(0, 0.5, 'Error Rate')"
            ]
          },
          "metadata": {
            "tags": []
          },
          "execution_count": 286
        },
        {
          "output_type": "display_data",
          "data": {
            "image/png": "[encoded data removed]",
            "text/plain": [
              "<Figure size 720x432 with 1 Axes>"
            ]
          },
          "metadata": {
            "tags": [],
            "needs_background": "light"
          }
        }
      ]
    },
    {
      "cell_type": "markdown",
      "metadata": {
        "id": "i3t90M7-IytJ",
        "colab_type": "text"
      },
      "source": [
        "####Random Forest Classifier"
      ]
    },
    {
      "cell_type": "code",
      "metadata": {
        "id": "1_klhT8LX_OD",
        "colab_type": "code",
        "outputId": "220e8a6b-d6cc-474f-a25b-79cd1f98238a",
        "colab": {
          "base_uri": "https://localhost:8080/",
          "height": 159
        }
      },
      "source": [
        "from sklearn.ensemble import RandomForestClassifier\n",
        "rfc = RandomForestClassifier(n_estimators=25, criterion = 'entropy', class_weight = 'balanced')\n",
        "rfc.fit(X_train, y_train)"
      ],
      "execution_count": 0,
      "outputs": [
        {
          "output_type": "execute_result",
          "data": {
            "text/plain": [
              "RandomForestClassifier(bootstrap=True, ccp_alpha=0.0, class_weight='balanced',\n",
              "                       criterion='entropy', max_depth=None, max_features='auto',\n",
              "                       max_leaf_nodes=None, max_samples=None,\n",
              "                       min_impurity_decrease=0.0, min_impurity_split=None,\n",
              "                       min_samples_leaf=1, min_samples_split=2,\n",
              "                       min_weight_fraction_leaf=0.0, n_estimators=25,\n",
              "                       n_jobs=None, oob_score=False, random_state=None,\n",
              "                       verbose=0, warm_start=False)"
            ]
          },
          "metadata": {
            "tags": []
          },
          "execution_count": 287
        }
      ]
    },
    {
      "cell_type": "code",
      "metadata": {
        "id": "OE0ocvr8YS4S",
        "colab_type": "code",
        "colab": {}
      },
      "source": [
        "y_pred_rfc = rfc.predict(X_test)"
      ],
      "execution_count": 0,
      "outputs": []
    },
    {
      "cell_type": "code",
      "metadata": {
        "id": "e919-KEaYUJX",
        "colab_type": "code",
        "outputId": "8409fa2d-a6ff-4fca-9c72-843aa0fcd875",
        "colab": {
          "base_uri": "https://localhost:8080/",
          "height": 52
        }
      },
      "source": [
        "print(\"Train set Accuracy: \" ,metrics.accuracy_score(y_train, rfc.predict(X_train)))\n",
        "print(\"Test set Accuracy:\", metrics.accuracy_score(y_test,y_pred_rfc))"
      ],
      "execution_count": 0,
      "outputs": [
        {
          "output_type": "stream",
          "text": [
            "Train set Accuracy:  0.7171838959949675\n",
            "Test set Accuracy: 0.710574369189907\n"
          ],
          "name": "stdout"
        }
      ]
    },
    {
      "cell_type": "code",
      "metadata": {
        "id": "tze7uX-jYZ9f",
        "colab_type": "code",
        "outputId": "17bd745c-8dc8-47e7-a6a5-b0bcd08b6f4a",
        "colab": {
          "base_uri": "https://localhost:8080/",
          "height": 90
        }
      },
      "source": [
        "from sklearn.metrics import jaccard_similarity_score\n",
        "jaccard_similarity_score(y_test, y_pred_rfc)\n"
      ],
      "execution_count": 0,
      "outputs": [
        {
          "output_type": "stream",
          "text": [
            "/usr/local/lib/python3.6/dist-packages/sklearn/metrics/_classification.py:664: FutureWarning: jaccard_similarity_score has been deprecated and replaced with jaccard_score. It will be removed in version 0.23. This implementation has surprising behavior for binary and multiclass classification tasks.\n",
            "  FutureWarning)\n"
          ],
          "name": "stderr"
        },
        {
          "output_type": "execute_result",
          "data": {
            "text/plain": [
              "0.710574369189907"
            ]
          },
          "metadata": {
            "tags": []
          },
          "execution_count": 290
        }
      ]
    },
    {
      "cell_type": "code",
      "metadata": {
        "id": "ZPbVlqPD-Vsa",
        "colab_type": "code",
        "outputId": "37d0c95d-d6f1-434e-d992-1a2ef1d7fd13",
        "colab": {
          "base_uri": "https://localhost:8080/",
          "height": 35
        }
      },
      "source": [
        "from sklearn.model_selection import cross_val_score\n",
        "scores = cross_val_score(rfc,X_test,y_test , cv=5)\n",
        "scores.mean()"
      ],
      "execution_count": 0,
      "outputs": [
        {
          "output_type": "execute_result",
          "data": {
            "text/plain": [
              "0.6951371154849811"
            ]
          },
          "metadata": {
            "tags": []
          },
          "execution_count": 291
        }
      ]
    },
    {
      "cell_type": "code",
      "metadata": {
        "id": "Z7bseBvE8c7l",
        "colab_type": "code",
        "colab": {}
      },
      "source": [
        "error_rate = []\n",
        "for i in range(25,100,10):\n",
        "    \n",
        "    rfc = RandomForestClassifier(n_estimators=i, criterion = 'entropy', class_weight = 'balanced')\n",
        "    rfc.fit(X_train, y_train)\n",
        "    pred_i = rfc.predict(X_test)\n",
        "    error_rate.append(np.mean(pred_i != y_test))"
      ],
      "execution_count": 0,
      "outputs": []
    },
    {
      "cell_type": "code",
      "metadata": {
        "id": "hf6fEwUj8gWU",
        "colab_type": "code",
        "outputId": "14135f88-dd4e-40dc-9860-6c6e1b035ef9",
        "colab": {
          "base_uri": "https://localhost:8080/",
          "height": 421
        }
      },
      "source": [
        "plt.figure(figsize=(10,6))\n",
        "plt.plot(range(25,100,10),error_rate,color='blue', linestyle='dashed', marker='o',\n",
        "         markerfacecolor='red', markersize=5)\n",
        "plt.title('Error Rate vs. n Value')\n",
        "plt.xlabel('K')\n",
        "plt.ylabel('Error Rate')"
      ],
      "execution_count": 0,
      "outputs": [
        {
          "output_type": "execute_result",
          "data": {
            "text/plain": [
              "Text(0, 0.5, 'Error Rate')"
            ]
          },
          "metadata": {
            "tags": []
          },
          "execution_count": 120
        },
        {
          "output_type": "display_data",
          "data": {
            "image/png": "[encoded data removed]",
            "text/plain": [
              "<Figure size 720x432 with 1 Axes>"
            ]
          },
          "metadata": {
            "tags": [],
            "needs_background": "light"
          }
        }
      ]
    },
    {
      "cell_type": "markdown",
      "metadata": {
        "id": "Ody3H4DrJDNE",
        "colab_type": "text"
      },
      "source": [
        "####Support Vector Machine Classifier"
      ]
    },
    {
      "cell_type": "code",
      "metadata": {
        "id": "k04h-cXtkpOR",
        "colab_type": "code",
        "colab": {}
      },
      "source": [
        "error_rate = []\n",
        "for i in range(1,140):\n",
        "    \n",
        "    knn = KNeighborsClassifier(n_neighbors=i)\n",
        "    knn.fit(X_train,y_train)\n",
        "    pred_i = knn.predict(X_test)\n",
        "    error_rate.append(np.mean(pred_i != y_test))"
      ],
      "execution_count": 0,
      "outputs": []
    },
    {
      "cell_type": "code",
      "metadata": {
        "id": "Hbvm-v4694DD",
        "colab_type": "code",
        "colab": {}
      },
      "source": [
        ""
      ],
      "execution_count": 0,
      "outputs": []
    },
    {
      "cell_type": "code",
      "metadata": {
        "id": "pbYIehNClH1q",
        "colab_type": "code",
        "colab": {}
      },
      "source": [
        "y_pred_svm  = svm_.predict(X_test)\n"
      ],
      "execution_count": 0,
      "outputs": []
    },
    {
      "cell_type": "code",
      "metadata": {
        "id": "TIuXQd1TLwUe",
        "colab_type": "code",
        "outputId": "55982c37-7587-45aa-ad8f-d677e120fdb4",
        "colab": {
          "base_uri": "https://localhost:8080/",
          "height": 35
        }
      },
      "source": [
        "from sklearn import metrics\n",
        "#print(\"Train set Accuracy: \" ,metrics.accuracy_score(y_train, rfc.predict(X_train)))\n",
        "print(\"Test set Accuracy:\", metrics.accuracy_score(y_test,y_pred_svm))"
      ],
      "execution_count": 0,
      "outputs": [
        {
          "output_type": "stream",
          "text": [
            "Test set Accuracy: 0.31544020056038935\n"
          ],
          "name": "stdout"
        }
      ]
    },
    {
      "cell_type": "code",
      "metadata": {
        "id": "bAnh2HHxLzrv",
        "colab_type": "code",
        "outputId": "a35e9ff7-5b98-4d37-eae5-52aeb3989e0d",
        "colab": {
          "base_uri": "https://localhost:8080/",
          "height": 89
        }
      },
      "source": [
        "from sklearn.metrics import jaccard_similarity_score\n",
        "jaccard_similarity_score(y_test, y_pred_svm)"
      ],
      "execution_count": 0,
      "outputs": [
        {
          "output_type": "stream",
          "text": [
            "/usr/local/lib/python3.6/dist-packages/sklearn/metrics/_classification.py:664: FutureWarning: jaccard_similarity_score has been deprecated and replaced with jaccard_score. It will be removed in version 0.23. This implementation has surprising behavior for binary and multiclass classification tasks.\n",
            "  FutureWarning)\n"
          ],
          "name": "stderr"
        },
        {
          "output_type": "execute_result",
          "data": {
            "text/plain": [
              "0.31544020056038935"
            ]
          },
          "metadata": {
            "tags": []
          },
          "execution_count": 192
        }
      ]
    },
    {
      "cell_type": "code",
      "metadata": {
        "id": "COvn7Som-zYk",
        "colab_type": "code",
        "colab": {}
      },
      "source": [
        "from sklearn.model_selection import cross_val_score\n",
        "scores = cross_val_score(rfc,X_test,y_test , cv=5)\n",
        "scores.mean()"
      ],
      "execution_count": 0,
      "outputs": []
    },
    {
      "cell_type": "markdown",
      "metadata": {
        "id": "HshSGLbKXVe1",
        "colab_type": "text"
      },
      "source": [
        "####Logistic Regression"
      ]
    },
    {
      "cell_type": "code",
      "metadata": {
        "id": "2Wz_p02CXX6Q",
        "colab_type": "code",
        "colab": {}
      },
      "source": [
        "from sklearn.linear_model import LogisticRegression"
      ],
      "execution_count": 0,
      "outputs": []
    },
    {
      "cell_type": "code",
      "metadata": {
        "id": "vlFXRu5RXY9w",
        "colab_type": "code",
        "colab": {}
      },
      "source": [
        "logr = LogisticRegression(class_weight = \"balanced\",max_iter=1000)"
      ],
      "execution_count": 0,
      "outputs": []
    },
    {
      "cell_type": "code",
      "metadata": {
        "id": "LqTK72dEX3HO",
        "colab_type": "code",
        "outputId": "b832ade1-e4f7-4adc-a27d-17355cb4020f",
        "colab": {
          "base_uri": "https://localhost:8080/",
          "height": 106
        }
      },
      "source": [
        "logr.fit(X_train,y_train)"
      ],
      "execution_count": 0,
      "outputs": [
        {
          "output_type": "execute_result",
          "data": {
            "text/plain": [
              "LogisticRegression(C=1.0, class_weight='balanced', dual=False,\n",
              "                   fit_intercept=True, intercept_scaling=1, l1_ratio=None,\n",
              "                   max_iter=1000, multi_class='auto', n_jobs=None, penalty='l2',\n",
              "                   random_state=None, solver='lbfgs', tol=0.0001, verbose=0,\n",
              "                   warm_start=False)"
            ]
          },
          "metadata": {
            "tags": []
          },
          "execution_count": 108
        }
      ]
    },
    {
      "cell_type": "code",
      "metadata": {
        "id": "M3LcdVvEYAfg",
        "colab_type": "code",
        "colab": {}
      },
      "source": [
        "y_pred_log = logr.predict(X_test)"
      ],
      "execution_count": 0,
      "outputs": []
    },
    {
      "cell_type": "code",
      "metadata": {
        "id": "VkpwYJZ7YFj5",
        "colab_type": "code",
        "outputId": "c3f44df0-4861-4050-ed15-0b4aa322a323",
        "colab": {
          "base_uri": "https://localhost:8080/",
          "height": 52
        }
      },
      "source": [
        "from sklearn import metrics\n",
        "print(\"Train set Accuracy: \" ,metrics.accuracy_score(y_train, rfc.predict(X_train)))\n",
        "print(\"Test set Accuracy:\", metrics.accuracy_score(y_test,y_pred_log))"
      ],
      "execution_count": 0,
      "outputs": [
        {
          "output_type": "stream",
          "text": [
            "Train set Accuracy:  0.717551363174752\n",
            "Test set Accuracy: 0.6011232846392209\n"
          ],
          "name": "stdout"
        }
      ]
    },
    {
      "cell_type": "code",
      "metadata": {
        "id": "xPsvuLHMYaut",
        "colab_type": "code",
        "outputId": "5cef9181-e01b-46be-ba2e-3d2ee3f35fef",
        "colab": {
          "base_uri": "https://localhost:8080/",
          "height": 35
        }
      },
      "source": [
        "from sklearn.model_selection import cross_val_score\n",
        "scores = cross_val_score(rfc,X_test,y_test , cv=5)\n",
        "scores.mean()"
      ],
      "execution_count": 0,
      "outputs": [
        {
          "output_type": "execute_result",
          "data": {
            "text/plain": [
              "0.6968513802129603"
            ]
          },
          "metadata": {
            "tags": []
          },
          "execution_count": 111
        }
      ]
    },
    {
      "cell_type": "markdown",
      "metadata": {
        "id": "dMqcshiiKENT",
        "colab_type": "text"
      },
      "source": [
        "####Adaboost Algorithm"
      ]
    },
    {
      "cell_type": "code",
      "metadata": {
        "id": "3Nyiqau1iESX",
        "colab_type": "code",
        "colab": {}
      },
      "source": [
        "from sklearn import svm\n",
        "\n",
        "svm_= svm.SVC(class_weight = 'balanced')"
      ],
      "execution_count": 0,
      "outputs": []
    },
    {
      "cell_type": "code",
      "metadata": {
        "id": "6q-wIiTwmbAn",
        "colab_type": "code",
        "colab": {}
      },
      "source": [
        "from sklearn.ensemble import RandomForestClassifier\n",
        "rfc = RandomForestClassifier(n_estimators=25, criterion = 'entropy', class_weight = 'balanced')"
      ],
      "execution_count": 0,
      "outputs": []
    },
    {
      "cell_type": "code",
      "metadata": {
        "id": "Xm4fFlMSmhWp",
        "colab_type": "code",
        "colab": {}
      },
      "source": [
        "from sklearn.tree import DecisionTreeClassifier\n",
        "dtree = DecisionTreeClassifier(criterion = \"entropy\", random_state=300, class_weight = \"balanced\")"
      ],
      "execution_count": 0,
      "outputs": []
    },
    {
      "cell_type": "code",
      "metadata": {
        "id": "1cmmsK56KHMi",
        "colab_type": "code",
        "outputId": "a44de5b8-c994-4898-d735-8f4cb1918b47",
        "colab": {
          "base_uri": "https://localhost:8080/",
          "height": 390
        }
      },
      "source": [
        "from sklearn.ensemble import AdaBoostClassifier\n",
        "\n",
        "adbc = AdaBoostClassifier(rfc)\n",
        "\n",
        "adbc.fit(X_train,y_train)\n"
      ],
      "execution_count": 0,
      "outputs": [
        {
          "output_type": "execute_result",
          "data": {
            "text/plain": [
              "AdaBoostClassifier(algorithm='SAMME.R',\n",
              "                   base_estimator=RandomForestClassifier(bootstrap=True,\n",
              "                                                         ccp_alpha=0.0,\n",
              "                                                         class_weight='balanced',\n",
              "                                                         criterion='entropy',\n",
              "                                                         max_depth=None,\n",
              "                                                         max_features='auto',\n",
              "                                                         max_leaf_nodes=None,\n",
              "                                                         max_samples=None,\n",
              "                                                         min_impurity_decrease=0.0,\n",
              "                                                         min_impurity_split=None,\n",
              "                                                         min_samples_leaf=1,\n",
              "                                                         min_samples_split=2,\n",
              "                                                         min_weight_fraction_leaf=0.0,\n",
              "                                                         n_estimators=25,\n",
              "                                                         n_jobs=None,\n",
              "                                                         oob_score=False,\n",
              "                                                         random_state=None,\n",
              "                                                         verbose=0,\n",
              "                                                         warm_start=False),\n",
              "                   learning_rate=1.0, n_estimators=50, random_state=None)"
            ]
          },
          "metadata": {
            "tags": []
          },
          "execution_count": 116
        }
      ]
    },
    {
      "cell_type": "code",
      "metadata": {
        "id": "Yw2m24mxLAz3",
        "colab_type": "code",
        "colab": {}
      },
      "source": [
        "y_pred_adbc= adbc.predict(X_test)"
      ],
      "execution_count": 0,
      "outputs": []
    },
    {
      "cell_type": "code",
      "metadata": {
        "id": "6RX-qrgFUOMa",
        "colab_type": "code",
        "outputId": "9ff9511b-497b-441d-9633-8676598e4efb",
        "colab": {
          "base_uri": "https://localhost:8080/",
          "height": 52
        }
      },
      "source": [
        "from sklearn import metrics\n",
        "print(\"Train set Accuracy: \" ,metrics.accuracy_score(y_train, adbc.predict(X_train)))\n",
        "print(\"Test set Accuracy:\", metrics.accuracy_score(y_test,y_pred_adbc))"
      ],
      "execution_count": 0,
      "outputs": [
        {
          "output_type": "stream",
          "text": [
            "Train set Accuracy:  0.7178443090383564\n",
            "Test set Accuracy: 0.7057049579459937\n"
          ],
          "name": "stdout"
        }
      ]
    },
    {
      "cell_type": "code",
      "metadata": {
        "id": "OCSNnqOGUVRl",
        "colab_type": "code",
        "outputId": "64a79425-63c3-40cb-9093-6589273d0b88",
        "colab": {
          "base_uri": "https://localhost:8080/",
          "height": 90
        }
      },
      "source": [
        "from sklearn.metrics import jaccard_similarity_score\n",
        "jaccard_similarity_score(y_test, y_pred_adbc)"
      ],
      "execution_count": 0,
      "outputs": [
        {
          "output_type": "stream",
          "text": [
            "/usr/local/lib/python3.6/dist-packages/sklearn/metrics/_classification.py:664: FutureWarning: jaccard_similarity_score has been deprecated and replaced with jaccard_score. It will be removed in version 0.23. This implementation has surprising behavior for binary and multiclass classification tasks.\n",
            "  FutureWarning)\n"
          ],
          "name": "stderr"
        },
        {
          "output_type": "execute_result",
          "data": {
            "text/plain": [
              "0.7050409473218238"
            ]
          },
          "metadata": {
            "tags": []
          },
          "execution_count": 115
        }
      ]
    },
    {
      "cell_type": "code",
      "metadata": {
        "id": "k_R7UPeVUcUS",
        "colab_type": "code",
        "outputId": "d58997ad-ddf2-4f22-a549-15a6843ac235",
        "colab": {
          "base_uri": "https://localhost:8080/",
          "height": 35
        }
      },
      "source": [
        "from sklearn.model_selection import cross_val_score\n",
        "scores = cross_val_score(adbc,X_test,y_test , cv=5)\n",
        "scores.mean()"
      ],
      "execution_count": 0,
      "outputs": [
        {
          "output_type": "execute_result",
          "data": {
            "text/plain": [
              "0.29772199839770985"
            ]
          },
          "metadata": {
            "tags": []
          },
          "execution_count": 228
        }
      ]
    },
    {
      "cell_type": "code",
      "metadata": {
        "id": "Na-41fG4mjgj",
        "colab_type": "code",
        "colab": {}
      },
      "source": [
        ""
      ],
      "execution_count": 0,
      "outputs": []
    }
  ]
}